{
 "cells": [
  {
   "cell_type": "code",
   "execution_count": 81,
   "metadata": {},
   "outputs": [
    {
     "name": "stderr",
     "output_type": "stream",
     "text": [
      "huggingface/tokenizers: The current process just got forked, after parallelism has already been used. Disabling parallelism to avoid deadlocks...\n",
      "To disable this warning, you can either:\n",
      "\t- Avoid using `tokenizers` before the fork if possible\n",
      "\t- Explicitly set the environment variable TOKENIZERS_PARALLELISM=(true | false)\n"
     ]
    },
    {
     "name": "stdout",
     "output_type": "stream",
     "text": [
      "Collecting llama-index-vector-stores-chroma\n",
      "  Downloading llama_index_vector_stores_chroma-0.1.10-py3-none-any.whl (5.0 kB)\n",
      "Requirement already satisfied: llama-index-core<0.11.0,>=0.10.1 in ./gov_env/lib/python3.10/site-packages (from llama-index-vector-stores-chroma) (0.10.49)\n",
      "Collecting chromadb<0.6.0,>=0.4.0\n",
      "  Downloading chromadb-0.5.3-py3-none-any.whl (559 kB)\n",
      "\u001b[2K     \u001b[90m━━━━━━━━━━━━━━━━━━━━━━━━━━━━━━━━━━━━━━━\u001b[0m \u001b[32m559.5/559.5 kB\u001b[0m \u001b[31m7.0 MB/s\u001b[0m eta \u001b[36m0:00:00\u001b[0m00:01\u001b[0m00:01\u001b[0m\n",
      "\u001b[?25hCollecting importlib-resources\n",
      "  Downloading importlib_resources-6.4.0-py3-none-any.whl (38 kB)\n",
      "Collecting chroma-hnswlib==0.7.3\n",
      "  Downloading chroma_hnswlib-0.7.3-cp310-cp310-macosx_11_0_arm64.whl (197 kB)\n",
      "\u001b[2K     \u001b[90m━━━━━━━━━━━━━━━━━━━━━━━━━━━━━━━━━━━━━━\u001b[0m \u001b[32m197.1/197.1 kB\u001b[0m \u001b[31m20.8 MB/s\u001b[0m eta \u001b[36m0:00:00\u001b[0m\n",
      "\u001b[?25hCollecting opentelemetry-instrumentation-fastapi>=0.41b0\n",
      "  Downloading opentelemetry_instrumentation_fastapi-0.46b0-py3-none-any.whl (11 kB)\n",
      "Requirement already satisfied: opentelemetry-exporter-otlp-proto-grpc>=1.2.0 in ./gov_env/lib/python3.10/site-packages (from chromadb<0.6.0,>=0.4.0->llama-index-vector-stores-chroma) (1.25.0)\n",
      "Collecting build>=1.0.3\n",
      "  Downloading build-1.2.1-py3-none-any.whl (21 kB)\n",
      "Collecting mmh3>=4.0.1\n",
      "  Downloading mmh3-4.1.0-cp310-cp310-macosx_11_0_arm64.whl (30 kB)\n",
      "Collecting overrides>=7.3.1\n",
      "  Downloading overrides-7.7.0-py3-none-any.whl (17 kB)\n",
      "Requirement already satisfied: numpy<2.0.0,>=1.22.5 in ./gov_env/lib/python3.10/site-packages (from chromadb<0.6.0,>=0.4.0->llama-index-vector-stores-chroma) (1.26.4)\n",
      "Collecting onnxruntime>=1.14.1\n",
      "  Downloading onnxruntime-1.18.1-cp310-cp310-macosx_11_0_universal2.whl (15.9 MB)\n",
      "\u001b[2K     \u001b[90m━━━━━━━━━━━━━━━━━━━━━━━━━━━━━━━━━━━━━━━━\u001b[0m \u001b[32m15.9/15.9 MB\u001b[0m \u001b[31m32.0 MB/s\u001b[0m eta \u001b[36m0:00:00\u001b[0m00:01\u001b[0m00:01\u001b[0m\n",
      "\u001b[?25hRequirement already satisfied: grpcio>=1.58.0 in ./gov_env/lib/python3.10/site-packages (from chromadb<0.6.0,>=0.4.0->llama-index-vector-stores-chroma) (1.64.1)\n",
      "Requirement already satisfied: tqdm>=4.65.0 in ./gov_env/lib/python3.10/site-packages (from chromadb<0.6.0,>=0.4.0->llama-index-vector-stores-chroma) (4.66.4)\n",
      "Collecting kubernetes>=28.1.0\n",
      "  Downloading kubernetes-30.1.0-py2.py3-none-any.whl (1.7 MB)\n",
      "\u001b[2K     \u001b[90m━━━━━━━━━━━━━━━━━━━━━━━━━━━━━━━━━━━━━━━━\u001b[0m \u001b[32m1.7/1.7 MB\u001b[0m \u001b[31m50.9 MB/s\u001b[0m eta \u001b[36m0:00:00\u001b[0m\n",
      "\u001b[?25hRequirement already satisfied: requests>=2.28 in ./gov_env/lib/python3.10/site-packages (from chromadb<0.6.0,>=0.4.0->llama-index-vector-stores-chroma) (2.32.3)\n",
      "Collecting fastapi>=0.95.2\n",
      "  Downloading fastapi-0.111.0-py3-none-any.whl (91 kB)\n",
      "\u001b[2K     \u001b[90m━━━━━━━━━━━━━━━━━━━━━━━━━━━━━━━━━━━━━━━━\u001b[0m \u001b[32m92.0/92.0 kB\u001b[0m \u001b[31m10.6 MB/s\u001b[0m eta \u001b[36m0:00:00\u001b[0m\n",
      "\u001b[?25hRequirement already satisfied: opentelemetry-api>=1.2.0 in ./gov_env/lib/python3.10/site-packages (from chromadb<0.6.0,>=0.4.0->llama-index-vector-stores-chroma) (1.25.0)\n",
      "Requirement already satisfied: pydantic>=1.9 in ./gov_env/lib/python3.10/site-packages (from chromadb<0.6.0,>=0.4.0->llama-index-vector-stores-chroma) (2.7.4)\n",
      "Collecting orjson>=3.9.12\n",
      "  Downloading orjson-3.10.5-cp310-cp310-macosx_10_15_x86_64.macosx_11_0_arm64.macosx_10_15_universal2.whl (258 kB)\n",
      "\u001b[2K     \u001b[90m━━━━━━━━━━━━━━━━━━━━━━━━━━━━━━━━━━━━━━\u001b[0m \u001b[32m258.7/258.7 kB\u001b[0m \u001b[31m16.7 MB/s\u001b[0m eta \u001b[36m0:00:00\u001b[0m\n",
      "\u001b[?25hRequirement already satisfied: httpx>=0.27.0 in ./gov_env/lib/python3.10/site-packages (from chromadb<0.6.0,>=0.4.0->llama-index-vector-stores-chroma) (0.27.0)\n",
      "Requirement already satisfied: uvicorn[standard]>=0.18.3 in ./gov_env/lib/python3.10/site-packages (from chromadb<0.6.0,>=0.4.0->llama-index-vector-stores-chroma) (0.30.1)\n",
      "Requirement already satisfied: opentelemetry-sdk>=1.2.0 in ./gov_env/lib/python3.10/site-packages (from chromadb<0.6.0,>=0.4.0->llama-index-vector-stores-chroma) (1.25.0)\n",
      "Requirement already satisfied: tokenizers>=0.13.2 in ./gov_env/lib/python3.10/site-packages (from chromadb<0.6.0,>=0.4.0->llama-index-vector-stores-chroma) (0.19.1)\n",
      "Collecting posthog>=2.4.0\n",
      "  Downloading posthog-3.5.0-py2.py3-none-any.whl (41 kB)\n",
      "\u001b[2K     \u001b[90m━━━━━━━━━━━━━━━━━━━━━━━━━━━━━━━━━━━━━━━━\u001b[0m \u001b[32m41.3/41.3 kB\u001b[0m \u001b[31m5.5 MB/s\u001b[0m eta \u001b[36m0:00:00\u001b[0m\n",
      "\u001b[?25hCollecting pypika>=0.48.9\n",
      "  Downloading PyPika-0.48.9.tar.gz (67 kB)\n",
      "\u001b[2K     \u001b[90m━━━━━━━━━━━━━━━━━━━━━━━━━━━━━━━━━━━━━━━━\u001b[0m \u001b[32m67.3/67.3 kB\u001b[0m \u001b[31m4.2 MB/s\u001b[0m eta \u001b[36m0:00:00\u001b[0m\n",
      "\u001b[?25h  Installing build dependencies ... \u001b[?25ldone\n",
      "\u001b[?25h  Getting requirements to build wheel ... \u001b[?25ldone\n",
      "\u001b[?25h  Preparing metadata (pyproject.toml) ... \u001b[?25ldone\n",
      "\u001b[?25hCollecting typer>=0.9.0\n",
      "  Downloading typer-0.12.3-py3-none-any.whl (47 kB)\n",
      "\u001b[2K     \u001b[90m━━━━━━━━━━━━━━━━━━━━━━━━━━━━━━━━━━━━━━━━\u001b[0m \u001b[32m47.2/47.2 kB\u001b[0m \u001b[31m3.2 MB/s\u001b[0m eta \u001b[36m0:00:00\u001b[0m\n",
      "\u001b[?25hCollecting bcrypt>=4.0.1\n",
      "  Downloading bcrypt-4.1.3-cp39-abi3-macosx_10_12_universal2.whl (506 kB)\n",
      "\u001b[2K     \u001b[90m━━━━━━━━━━━━━━━━━━━━━━━━━━━━━━━━━━━━━━\u001b[0m \u001b[32m506.5/506.5 kB\u001b[0m \u001b[31m25.7 MB/s\u001b[0m eta \u001b[36m0:00:00\u001b[0m\n",
      "\u001b[?25hRequirement already satisfied: tenacity>=8.2.3 in ./gov_env/lib/python3.10/site-packages (from chromadb<0.6.0,>=0.4.0->llama-index-vector-stores-chroma) (8.4.1)\n",
      "Requirement already satisfied: PyYAML>=6.0.0 in ./gov_env/lib/python3.10/site-packages (from chromadb<0.6.0,>=0.4.0->llama-index-vector-stores-chroma) (6.0.1)\n",
      "Requirement already satisfied: typing-extensions>=4.5.0 in ./gov_env/lib/python3.10/site-packages (from chromadb<0.6.0,>=0.4.0->llama-index-vector-stores-chroma) (4.12.2)\n",
      "Requirement already satisfied: pillow>=9.0.0 in ./gov_env/lib/python3.10/site-packages (from llama-index-core<0.11.0,>=0.10.1->llama-index-vector-stores-chroma) (10.3.0)\n",
      "Requirement already satisfied: aiohttp<4.0.0,>=3.8.6 in ./gov_env/lib/python3.10/site-packages (from llama-index-core<0.11.0,>=0.10.1->llama-index-vector-stores-chroma) (3.9.5)\n",
      "Requirement already satisfied: SQLAlchemy[asyncio]>=1.4.49 in ./gov_env/lib/python3.10/site-packages (from llama-index-core<0.11.0,>=0.10.1->llama-index-vector-stores-chroma) (2.0.31)\n",
      "Requirement already satisfied: networkx>=3.0 in ./gov_env/lib/python3.10/site-packages (from llama-index-core<0.11.0,>=0.10.1->llama-index-vector-stores-chroma) (3.3)\n",
      "Requirement already satisfied: deprecated>=1.2.9.3 in ./gov_env/lib/python3.10/site-packages (from llama-index-core<0.11.0,>=0.10.1->llama-index-vector-stores-chroma) (1.2.14)\n",
      "Requirement already satisfied: typing-inspect>=0.8.0 in ./gov_env/lib/python3.10/site-packages (from llama-index-core<0.11.0,>=0.10.1->llama-index-vector-stores-chroma) (0.9.0)\n",
      "Requirement already satisfied: pandas in ./gov_env/lib/python3.10/site-packages (from llama-index-core<0.11.0,>=0.10.1->llama-index-vector-stores-chroma) (2.2.2)\n",
      "Requirement already satisfied: fsspec>=2023.5.0 in ./gov_env/lib/python3.10/site-packages (from llama-index-core<0.11.0,>=0.10.1->llama-index-vector-stores-chroma) (2024.5.0)\n",
      "Requirement already satisfied: nest-asyncio<2.0.0,>=1.5.8 in ./gov_env/lib/python3.10/site-packages (from llama-index-core<0.11.0,>=0.10.1->llama-index-vector-stores-chroma) (1.6.0)\n",
      "Requirement already satisfied: llama-cloud<0.0.7,>=0.0.6 in ./gov_env/lib/python3.10/site-packages (from llama-index-core<0.11.0,>=0.10.1->llama-index-vector-stores-chroma) (0.0.6)\n",
      "Requirement already satisfied: dirtyjson<2.0.0,>=1.0.8 in ./gov_env/lib/python3.10/site-packages (from llama-index-core<0.11.0,>=0.10.1->llama-index-vector-stores-chroma) (1.0.8)\n",
      "Requirement already satisfied: wrapt in ./gov_env/lib/python3.10/site-packages (from llama-index-core<0.11.0,>=0.10.1->llama-index-vector-stores-chroma) (1.16.0)\n",
      "Requirement already satisfied: openai>=1.1.0 in ./gov_env/lib/python3.10/site-packages (from llama-index-core<0.11.0,>=0.10.1->llama-index-vector-stores-chroma) (1.35.3)\n",
      "Requirement already satisfied: dataclasses-json in ./gov_env/lib/python3.10/site-packages (from llama-index-core<0.11.0,>=0.10.1->llama-index-vector-stores-chroma) (0.6.7)\n",
      "Requirement already satisfied: nltk<4.0.0,>=3.8.1 in ./gov_env/lib/python3.10/site-packages (from llama-index-core<0.11.0,>=0.10.1->llama-index-vector-stores-chroma) (3.8.1)\n",
      "Requirement already satisfied: tiktoken>=0.3.3 in ./gov_env/lib/python3.10/site-packages (from llama-index-core<0.11.0,>=0.10.1->llama-index-vector-stores-chroma) (0.7.0)\n",
      "Requirement already satisfied: attrs>=17.3.0 in ./gov_env/lib/python3.10/site-packages (from aiohttp<4.0.0,>=3.8.6->llama-index-core<0.11.0,>=0.10.1->llama-index-vector-stores-chroma) (23.2.0)\n",
      "Requirement already satisfied: frozenlist>=1.1.1 in ./gov_env/lib/python3.10/site-packages (from aiohttp<4.0.0,>=3.8.6->llama-index-core<0.11.0,>=0.10.1->llama-index-vector-stores-chroma) (1.4.1)\n",
      "Requirement already satisfied: yarl<2.0,>=1.0 in ./gov_env/lib/python3.10/site-packages (from aiohttp<4.0.0,>=3.8.6->llama-index-core<0.11.0,>=0.10.1->llama-index-vector-stores-chroma) (1.9.4)\n",
      "Requirement already satisfied: multidict<7.0,>=4.5 in ./gov_env/lib/python3.10/site-packages (from aiohttp<4.0.0,>=3.8.6->llama-index-core<0.11.0,>=0.10.1->llama-index-vector-stores-chroma) (6.0.5)\n",
      "Requirement already satisfied: aiosignal>=1.1.2 in ./gov_env/lib/python3.10/site-packages (from aiohttp<4.0.0,>=3.8.6->llama-index-core<0.11.0,>=0.10.1->llama-index-vector-stores-chroma) (1.3.1)\n",
      "Requirement already satisfied: async-timeout<5.0,>=4.0 in ./gov_env/lib/python3.10/site-packages (from aiohttp<4.0.0,>=3.8.6->llama-index-core<0.11.0,>=0.10.1->llama-index-vector-stores-chroma) (4.0.3)\n",
      "Collecting pyproject_hooks\n",
      "  Downloading pyproject_hooks-1.1.0-py3-none-any.whl (9.2 kB)\n",
      "Requirement already satisfied: packaging>=19.1 in ./gov_env/lib/python3.10/site-packages (from build>=1.0.3->chromadb<0.6.0,>=0.4.0->llama-index-vector-stores-chroma) (24.1)\n",
      "Collecting tomli>=1.1.0\n",
      "  Using cached tomli-2.0.1-py3-none-any.whl (12 kB)\n",
      "Collecting python-multipart>=0.0.7\n",
      "  Downloading python_multipart-0.0.9-py3-none-any.whl (22 kB)\n",
      "Collecting fastapi-cli>=0.0.2\n",
      "  Downloading fastapi_cli-0.0.4-py3-none-any.whl (9.5 kB)\n",
      "Collecting email_validator>=2.0.0\n",
      "  Downloading email_validator-2.2.0-py3-none-any.whl (33 kB)\n",
      "Collecting ujson!=4.0.2,!=4.1.0,!=4.2.0,!=4.3.0,!=5.0.0,!=5.1.0,>=4.0.1\n",
      "  Downloading ujson-5.10.0-cp310-cp310-macosx_11_0_arm64.whl (51 kB)\n",
      "\u001b[2K     \u001b[90m━━━━━━━━━━━━━━━━━━━━━━━━━━━━━━━━━━━━━━━━\u001b[0m \u001b[32m51.8/51.8 kB\u001b[0m \u001b[31m8.4 MB/s\u001b[0m eta \u001b[36m0:00:00\u001b[0m\n",
      "\u001b[?25hRequirement already satisfied: starlette<0.38.0,>=0.37.2 in ./gov_env/lib/python3.10/site-packages (from fastapi>=0.95.2->chromadb<0.6.0,>=0.4.0->llama-index-vector-stores-chroma) (0.37.2)\n",
      "Requirement already satisfied: jinja2>=2.11.2 in ./gov_env/lib/python3.10/site-packages (from fastapi>=0.95.2->chromadb<0.6.0,>=0.4.0->llama-index-vector-stores-chroma) (3.1.4)\n",
      "Requirement already satisfied: sniffio in ./gov_env/lib/python3.10/site-packages (from httpx>=0.27.0->chromadb<0.6.0,>=0.4.0->llama-index-vector-stores-chroma) (1.3.1)\n",
      "Requirement already satisfied: certifi in ./gov_env/lib/python3.10/site-packages (from httpx>=0.27.0->chromadb<0.6.0,>=0.4.0->llama-index-vector-stores-chroma) (2024.6.2)\n",
      "Requirement already satisfied: idna in ./gov_env/lib/python3.10/site-packages (from httpx>=0.27.0->chromadb<0.6.0,>=0.4.0->llama-index-vector-stores-chroma) (3.7)\n",
      "Requirement already satisfied: httpcore==1.* in ./gov_env/lib/python3.10/site-packages (from httpx>=0.27.0->chromadb<0.6.0,>=0.4.0->llama-index-vector-stores-chroma) (1.0.5)\n",
      "Requirement already satisfied: anyio in ./gov_env/lib/python3.10/site-packages (from httpx>=0.27.0->chromadb<0.6.0,>=0.4.0->llama-index-vector-stores-chroma) (4.4.0)\n",
      "Requirement already satisfied: h11<0.15,>=0.13 in ./gov_env/lib/python3.10/site-packages (from httpcore==1.*->httpx>=0.27.0->chromadb<0.6.0,>=0.4.0->llama-index-vector-stores-chroma) (0.14.0)\n",
      "Collecting oauthlib>=3.2.2\n",
      "  Downloading oauthlib-3.2.2-py3-none-any.whl (151 kB)\n",
      "\u001b[2K     \u001b[90m━━━━━━━━━━━━━━━━━━━━━━━━━━━━━━━━━━━━━━\u001b[0m \u001b[32m151.7/151.7 kB\u001b[0m \u001b[31m20.0 MB/s\u001b[0m eta \u001b[36m0:00:00\u001b[0m\n",
      "\u001b[?25hCollecting google-auth>=1.0.1\n",
      "  Downloading google_auth-2.30.0-py2.py3-none-any.whl (193 kB)\n",
      "\u001b[2K     \u001b[90m━━━━━━━━━━━━━━━━━━━━━━━━━━━━━━━━━━━━━━\u001b[0m \u001b[32m193.7/193.7 kB\u001b[0m \u001b[31m21.4 MB/s\u001b[0m eta \u001b[36m0:00:00\u001b[0m\n",
      "\u001b[?25hRequirement already satisfied: python-dateutil>=2.5.3 in ./gov_env/lib/python3.10/site-packages (from kubernetes>=28.1.0->chromadb<0.6.0,>=0.4.0->llama-index-vector-stores-chroma) (2.9.0.post0)\n",
      "Collecting websocket-client!=0.40.0,!=0.41.*,!=0.42.*,>=0.32.0\n",
      "  Downloading websocket_client-1.8.0-py3-none-any.whl (58 kB)\n",
      "\u001b[2K     \u001b[90m━━━━━━━━━━━━━━━━━━━━━━━━━━━━━━━━━━━━━━━━\u001b[0m \u001b[32m58.8/58.8 kB\u001b[0m \u001b[31m8.5 MB/s\u001b[0m eta \u001b[36m0:00:00\u001b[0m\n",
      "\u001b[?25hCollecting requests-oauthlib\n",
      "  Downloading requests_oauthlib-2.0.0-py2.py3-none-any.whl (24 kB)\n",
      "Requirement already satisfied: six>=1.9.0 in ./gov_env/lib/python3.10/site-packages (from kubernetes>=28.1.0->chromadb<0.6.0,>=0.4.0->llama-index-vector-stores-chroma) (1.16.0)\n",
      "Requirement already satisfied: urllib3>=1.24.2 in ./gov_env/lib/python3.10/site-packages (from kubernetes>=28.1.0->chromadb<0.6.0,>=0.4.0->llama-index-vector-stores-chroma) (2.2.2)\n",
      "Requirement already satisfied: regex>=2021.8.3 in ./gov_env/lib/python3.10/site-packages (from nltk<4.0.0,>=3.8.1->llama-index-core<0.11.0,>=0.10.1->llama-index-vector-stores-chroma) (2024.5.15)\n",
      "Requirement already satisfied: joblib in ./gov_env/lib/python3.10/site-packages (from nltk<4.0.0,>=3.8.1->llama-index-core<0.11.0,>=0.10.1->llama-index-vector-stores-chroma) (1.4.2)\n",
      "Requirement already satisfied: click in ./gov_env/lib/python3.10/site-packages (from nltk<4.0.0,>=3.8.1->llama-index-core<0.11.0,>=0.10.1->llama-index-vector-stores-chroma) (8.1.7)\n",
      "Requirement already satisfied: sympy in ./gov_env/lib/python3.10/site-packages (from onnxruntime>=1.14.1->chromadb<0.6.0,>=0.4.0->llama-index-vector-stores-chroma) (1.12.1)\n",
      "Collecting coloredlogs\n",
      "  Downloading coloredlogs-15.0.1-py2.py3-none-any.whl (46 kB)\n",
      "\u001b[2K     \u001b[90m━━━━━━━━━━━━━━━━━━━━━━━━━━━━━━━━━━━━━━━━\u001b[0m \u001b[32m46.0/46.0 kB\u001b[0m \u001b[31m4.3 MB/s\u001b[0m eta \u001b[36m0:00:00\u001b[0m\n",
      "\u001b[?25hCollecting flatbuffers\n",
      "  Downloading flatbuffers-24.3.25-py2.py3-none-any.whl (26 kB)\n",
      "Requirement already satisfied: protobuf in ./gov_env/lib/python3.10/site-packages (from onnxruntime>=1.14.1->chromadb<0.6.0,>=0.4.0->llama-index-vector-stores-chroma) (5.27.1)\n",
      "Requirement already satisfied: distro<2,>=1.7.0 in ./gov_env/lib/python3.10/site-packages (from openai>=1.1.0->llama-index-core<0.11.0,>=0.10.1->llama-index-vector-stores-chroma) (1.9.0)\n",
      "Requirement already satisfied: importlib-metadata<=7.1,>=6.0 in ./gov_env/lib/python3.10/site-packages (from opentelemetry-api>=1.2.0->chromadb<0.6.0,>=0.4.0->llama-index-vector-stores-chroma) (7.1.0)\n",
      "Requirement already satisfied: opentelemetry-proto==1.25.0 in ./gov_env/lib/python3.10/site-packages (from opentelemetry-exporter-otlp-proto-grpc>=1.2.0->chromadb<0.6.0,>=0.4.0->llama-index-vector-stores-chroma) (1.25.0)\n",
      "Requirement already satisfied: opentelemetry-exporter-otlp-proto-common==1.25.0 in ./gov_env/lib/python3.10/site-packages (from opentelemetry-exporter-otlp-proto-grpc>=1.2.0->chromadb<0.6.0,>=0.4.0->llama-index-vector-stores-chroma) (1.25.0)\n",
      "Requirement already satisfied: googleapis-common-protos~=1.52 in ./gov_env/lib/python3.10/site-packages (from opentelemetry-exporter-otlp-proto-grpc>=1.2.0->chromadb<0.6.0,>=0.4.0->llama-index-vector-stores-chroma) (1.63.1)\n",
      "Collecting protobuf\n",
      "  Using cached protobuf-4.25.3-cp37-abi3-macosx_10_9_universal2.whl (394 kB)\n",
      "Collecting opentelemetry-util-http==0.46b0\n",
      "  Downloading opentelemetry_util_http-0.46b0-py3-none-any.whl (6.9 kB)\n",
      "Requirement already satisfied: opentelemetry-semantic-conventions==0.46b0 in ./gov_env/lib/python3.10/site-packages (from opentelemetry-instrumentation-fastapi>=0.41b0->chromadb<0.6.0,>=0.4.0->llama-index-vector-stores-chroma) (0.46b0)\n",
      "Collecting opentelemetry-instrumentation-asgi==0.46b0\n",
      "  Downloading opentelemetry_instrumentation_asgi-0.46b0-py3-none-any.whl (14 kB)\n",
      "Requirement already satisfied: opentelemetry-instrumentation==0.46b0 in ./gov_env/lib/python3.10/site-packages (from opentelemetry-instrumentation-fastapi>=0.41b0->chromadb<0.6.0,>=0.4.0->llama-index-vector-stores-chroma) (0.46b0)\n",
      "Requirement already satisfied: setuptools>=16.0 in ./gov_env/lib/python3.10/site-packages (from opentelemetry-instrumentation==0.46b0->opentelemetry-instrumentation-fastapi>=0.41b0->chromadb<0.6.0,>=0.4.0->llama-index-vector-stores-chroma) (65.5.0)\n",
      "Collecting asgiref~=3.0\n",
      "  Downloading asgiref-3.8.1-py3-none-any.whl (23 kB)\n",
      "Collecting monotonic>=1.5\n",
      "  Downloading monotonic-1.6-py2.py3-none-any.whl (8.2 kB)\n",
      "Collecting backoff>=1.10.0\n",
      "  Downloading backoff-2.2.1-py3-none-any.whl (15 kB)\n",
      "Requirement already satisfied: annotated-types>=0.4.0 in ./gov_env/lib/python3.10/site-packages (from pydantic>=1.9->chromadb<0.6.0,>=0.4.0->llama-index-vector-stores-chroma) (0.7.0)\n",
      "Requirement already satisfied: pydantic-core==2.18.4 in ./gov_env/lib/python3.10/site-packages (from pydantic>=1.9->chromadb<0.6.0,>=0.4.0->llama-index-vector-stores-chroma) (2.18.4)\n",
      "Requirement already satisfied: charset-normalizer<4,>=2 in ./gov_env/lib/python3.10/site-packages (from requests>=2.28->chromadb<0.6.0,>=0.4.0->llama-index-vector-stores-chroma) (3.3.2)\n",
      "Requirement already satisfied: greenlet!=0.4.17 in ./gov_env/lib/python3.10/site-packages (from SQLAlchemy[asyncio]>=1.4.49->llama-index-core<0.11.0,>=0.10.1->llama-index-vector-stores-chroma) (3.0.3)\n",
      "Requirement already satisfied: huggingface-hub<1.0,>=0.16.4 in ./gov_env/lib/python3.10/site-packages (from tokenizers>=0.13.2->chromadb<0.6.0,>=0.4.0->llama-index-vector-stores-chroma) (0.23.4)\n",
      "Collecting rich>=10.11.0\n",
      "  Downloading rich-13.7.1-py3-none-any.whl (240 kB)\n",
      "\u001b[2K     \u001b[90m━━━━━━━━━━━━━━━━━━━━━━━━━━━━━━━━━━━━━━\u001b[0m \u001b[32m240.7/240.7 kB\u001b[0m \u001b[31m35.5 MB/s\u001b[0m eta \u001b[36m0:00:00\u001b[0m\n",
      "\u001b[?25hCollecting shellingham>=1.3.0\n",
      "  Downloading shellingham-1.5.4-py2.py3-none-any.whl (9.8 kB)\n",
      "Requirement already satisfied: mypy-extensions>=0.3.0 in ./gov_env/lib/python3.10/site-packages (from typing-inspect>=0.8.0->llama-index-core<0.11.0,>=0.10.1->llama-index-vector-stores-chroma) (1.0.0)\n",
      "Collecting websockets>=10.4\n",
      "  Downloading websockets-12.0-cp310-cp310-macosx_11_0_arm64.whl (121 kB)\n",
      "\u001b[2K     \u001b[90m━━━━━━━━━━━━━━━━━━━━━━━━━━━━━━━━━━━━━━\u001b[0m \u001b[32m121.3/121.3 kB\u001b[0m \u001b[31m12.7 MB/s\u001b[0m eta \u001b[36m0:00:00\u001b[0m\n",
      "\u001b[?25hCollecting uvloop!=0.15.0,!=0.15.1,>=0.14.0\n",
      "  Downloading uvloop-0.19.0-cp310-cp310-macosx_10_9_universal2.whl (1.4 MB)\n",
      "\u001b[2K     \u001b[90m━━━━━━━━━━━━━━━━━━━━━━━━━━━━━━━━━━━━━━━━\u001b[0m \u001b[32m1.4/1.4 MB\u001b[0m \u001b[31m46.0 MB/s\u001b[0m eta \u001b[36m0:00:00\u001b[0m\n",
      "\u001b[?25hCollecting httptools>=0.5.0\n",
      "  Downloading httptools-0.6.1-cp310-cp310-macosx_10_9_universal2.whl (149 kB)\n",
      "\u001b[2K     \u001b[90m━━━━━━━━━━━━━━━━━━━━━━━━━━━━━━━━━━━━━━\u001b[0m \u001b[32m149.8/149.8 kB\u001b[0m \u001b[31m17.0 MB/s\u001b[0m eta \u001b[36m0:00:00\u001b[0m\n",
      "\u001b[?25hCollecting python-dotenv>=0.13\n",
      "  Downloading python_dotenv-1.0.1-py3-none-any.whl (19 kB)\n",
      "Collecting watchfiles>=0.13\n",
      "  Downloading watchfiles-0.22.0-cp310-cp310-macosx_11_0_arm64.whl (390 kB)\n",
      "\u001b[2K     \u001b[90m━━━━━━━━━━━━━━━━━━━━━━━━━━━━━━━━━━━━━━\u001b[0m \u001b[32m391.0/391.0 kB\u001b[0m \u001b[31m28.6 MB/s\u001b[0m eta \u001b[36m0:00:00\u001b[0m\n",
      "\u001b[?25hRequirement already satisfied: marshmallow<4.0.0,>=3.18.0 in ./gov_env/lib/python3.10/site-packages (from dataclasses-json->llama-index-core<0.11.0,>=0.10.1->llama-index-vector-stores-chroma) (3.21.3)\n",
      "Requirement already satisfied: tzdata>=2022.7 in ./gov_env/lib/python3.10/site-packages (from pandas->llama-index-core<0.11.0,>=0.10.1->llama-index-vector-stores-chroma) (2024.1)\n",
      "Requirement already satisfied: pytz>=2020.1 in ./gov_env/lib/python3.10/site-packages (from pandas->llama-index-core<0.11.0,>=0.10.1->llama-index-vector-stores-chroma) (2024.1)\n",
      "Requirement already satisfied: exceptiongroup>=1.0.2 in ./gov_env/lib/python3.10/site-packages (from anyio->httpx>=0.27.0->chromadb<0.6.0,>=0.4.0->llama-index-vector-stores-chroma) (1.2.1)\n",
      "Collecting dnspython>=2.0.0\n",
      "  Downloading dnspython-2.6.1-py3-none-any.whl (307 kB)\n",
      "\u001b[2K     \u001b[90m━━━━━━━━━━━━━━━━━━━━━━━━━━━━━━━━━━━━━━\u001b[0m \u001b[32m307.7/307.7 kB\u001b[0m \u001b[31m32.8 MB/s\u001b[0m eta \u001b[36m0:00:00\u001b[0m\n",
      "\u001b[?25hCollecting rsa<5,>=3.1.4\n",
      "  Downloading rsa-4.9-py3-none-any.whl (34 kB)\n",
      "Collecting pyasn1-modules>=0.2.1\n",
      "  Downloading pyasn1_modules-0.4.0-py3-none-any.whl (181 kB)\n",
      "\u001b[2K     \u001b[90m━━━━━━━━━━━━━━━━━━━━━━━━━━━━━━━━━━━━━━\u001b[0m \u001b[32m181.2/181.2 kB\u001b[0m \u001b[31m18.9 MB/s\u001b[0m eta \u001b[36m0:00:00\u001b[0m\n",
      "\u001b[?25hRequirement already satisfied: cachetools<6.0,>=2.0.0 in ./gov_env/lib/python3.10/site-packages (from google-auth>=1.0.1->kubernetes>=28.1.0->chromadb<0.6.0,>=0.4.0->llama-index-vector-stores-chroma) (5.3.3)\n",
      "Requirement already satisfied: filelock in ./gov_env/lib/python3.10/site-packages (from huggingface-hub<1.0,>=0.16.4->tokenizers>=0.13.2->chromadb<0.6.0,>=0.4.0->llama-index-vector-stores-chroma) (3.15.4)\n",
      "Requirement already satisfied: zipp>=0.5 in ./gov_env/lib/python3.10/site-packages (from importlib-metadata<=7.1,>=6.0->opentelemetry-api>=1.2.0->chromadb<0.6.0,>=0.4.0->llama-index-vector-stores-chroma) (3.19.2)\n",
      "Requirement already satisfied: MarkupSafe>=2.0 in ./gov_env/lib/python3.10/site-packages (from jinja2>=2.11.2->fastapi>=0.95.2->chromadb<0.6.0,>=0.4.0->llama-index-vector-stores-chroma) (2.1.5)\n",
      "Requirement already satisfied: pygments<3.0.0,>=2.13.0 in ./gov_env/lib/python3.10/site-packages (from rich>=10.11.0->typer>=0.9.0->chromadb<0.6.0,>=0.4.0->llama-index-vector-stores-chroma) (2.18.0)\n",
      "Collecting markdown-it-py>=2.2.0\n",
      "  Downloading markdown_it_py-3.0.0-py3-none-any.whl (87 kB)\n",
      "\u001b[2K     \u001b[90m━━━━━━━━━━━━━━━━━━━━━━━━━━━━━━━━━━━━━━━━\u001b[0m \u001b[32m87.5/87.5 kB\u001b[0m \u001b[31m7.9 MB/s\u001b[0m eta \u001b[36m0:00:00\u001b[0m\n",
      "\u001b[?25hCollecting humanfriendly>=9.1\n",
      "  Downloading humanfriendly-10.0-py2.py3-none-any.whl (86 kB)\n",
      "\u001b[2K     \u001b[90m━━━━━━━━━━━━━━━━━━━━━━━━━━━━━━━━━━━━━━━━\u001b[0m \u001b[32m86.8/86.8 kB\u001b[0m \u001b[31m12.5 MB/s\u001b[0m eta \u001b[36m0:00:00\u001b[0m\n",
      "\u001b[?25hRequirement already satisfied: mpmath<1.4.0,>=1.1.0 in ./gov_env/lib/python3.10/site-packages (from sympy->onnxruntime>=1.14.1->chromadb<0.6.0,>=0.4.0->llama-index-vector-stores-chroma) (1.3.0)\n",
      "Collecting mdurl~=0.1\n",
      "  Downloading mdurl-0.1.2-py3-none-any.whl (10.0 kB)\n",
      "Collecting pyasn1<0.7.0,>=0.4.6\n",
      "  Downloading pyasn1-0.6.0-py2.py3-none-any.whl (85 kB)\n",
      "\u001b[2K     \u001b[90m━━━━━━━━━━━━━━━━━━━━━━━━━━━━━━━━━━━━━━━━\u001b[0m \u001b[32m85.3/85.3 kB\u001b[0m \u001b[31m11.9 MB/s\u001b[0m eta \u001b[36m0:00:00\u001b[0m\n",
      "\u001b[?25hBuilding wheels for collected packages: pypika\n",
      "  Building wheel for pypika (pyproject.toml) ... \u001b[?25ldone\n",
      "\u001b[?25h  Created wheel for pypika: filename=PyPika-0.48.9-py2.py3-none-any.whl size=53726 sha256=1da7f15f4ee6ed71230ea51f3e3d2fe70354ca09cd92221dc3db71ba6a6156a4\n",
      "  Stored in directory: /Users/haiyangliu/Library/Caches/pip/wheels/e1/26/51/d0bffb3d2fd82256676d7ad3003faea3bd6dddc9577af665f4\n",
      "Successfully built pypika\n",
      "Installing collected packages: pypika, monotonic, mmh3, flatbuffers, websockets, websocket-client, uvloop, ujson, tomli, shellingham, python-multipart, python-dotenv, pyproject_hooks, pyasn1, protobuf, overrides, orjson, opentelemetry-util-http, oauthlib, mdurl, importlib-resources, humanfriendly, httptools, dnspython, chroma-hnswlib, bcrypt, backoff, asgiref, watchfiles, rsa, requests-oauthlib, pyasn1-modules, posthog, markdown-it-py, email_validator, coloredlogs, build, rich, onnxruntime, google-auth, typer, opentelemetry-instrumentation-asgi, kubernetes, opentelemetry-instrumentation-fastapi, fastapi-cli, fastapi, chromadb, llama-index-vector-stores-chroma\n",
      "  Attempting uninstall: protobuf\n",
      "    Found existing installation: protobuf 5.27.1\n",
      "    Uninstalling protobuf-5.27.1:\n",
      "      Successfully uninstalled protobuf-5.27.1\n",
      "\u001b[31mERROR: pip's dependency resolver does not currently take into account all the packages that are installed. This behaviour is the source of the following dependency conflicts.\n",
      "grpcio-tools 1.64.1 requires protobuf<6.0dev,>=5.26.1, but you have protobuf 4.25.3 which is incompatible.\n",
      "grpcio-health-checking 1.64.1 requires protobuf<6.0dev,>=5.26.1, but you have protobuf 4.25.3 which is incompatible.\u001b[0m\u001b[31m\n",
      "\u001b[0mSuccessfully installed asgiref-3.8.1 backoff-2.2.1 bcrypt-4.1.3 build-1.2.1 chroma-hnswlib-0.7.3 chromadb-0.5.3 coloredlogs-15.0.1 dnspython-2.6.1 email_validator-2.2.0 fastapi-0.111.0 fastapi-cli-0.0.4 flatbuffers-24.3.25 google-auth-2.30.0 httptools-0.6.1 humanfriendly-10.0 importlib-resources-6.4.0 kubernetes-30.1.0 llama-index-vector-stores-chroma-0.1.10 markdown-it-py-3.0.0 mdurl-0.1.2 mmh3-4.1.0 monotonic-1.6 oauthlib-3.2.2 onnxruntime-1.18.1 opentelemetry-instrumentation-asgi-0.46b0 opentelemetry-instrumentation-fastapi-0.46b0 opentelemetry-util-http-0.46b0 orjson-3.10.5 overrides-7.7.0 posthog-3.5.0 protobuf-4.25.3 pyasn1-0.6.0 pyasn1-modules-0.4.0 pypika-0.48.9 pyproject_hooks-1.1.0 python-dotenv-1.0.1 python-multipart-0.0.9 requests-oauthlib-2.0.0 rich-13.7.1 rsa-4.9 shellingham-1.5.4 tomli-2.0.1 typer-0.12.3 ujson-5.10.0 uvloop-0.19.0 watchfiles-0.22.0 websocket-client-1.8.0 websockets-12.0\n",
      "\n",
      "\u001b[1m[\u001b[0m\u001b[34;49mnotice\u001b[0m\u001b[1;39;49m]\u001b[0m\u001b[39;49m A new release of pip is available: \u001b[0m\u001b[31;49m23.0.1\u001b[0m\u001b[39;49m -> \u001b[0m\u001b[32;49m24.1\u001b[0m\n",
      "\u001b[1m[\u001b[0m\u001b[34;49mnotice\u001b[0m\u001b[1;39;49m]\u001b[0m\u001b[39;49m To update, run: \u001b[0m\u001b[32;49mpip install --upgrade pip\u001b[0m\n",
      "Note: you may need to restart the kernel to use updated packages.\n"
     ]
    }
   ],
   "source": [
    "%pip install llama-index-vector-stores-chroma\n"
   ]
  },
  {
   "cell_type": "code",
   "execution_count": 83,
   "metadata": {},
   "outputs": [],
   "source": [
    "import chromadb\n",
    "\n",
    "chroma_client = chromadb.EphemeralClient()\n",
    "chroma_collection = chroma_client.create_collection(\"quickstart\")"
   ]
  },
  {
   "cell_type": "code",
   "execution_count": 102,
   "metadata": {},
   "outputs": [
    {
     "name": "stdout",
     "output_type": "stream",
     "text": [
      "{'ids': ['065461bd-3022-4ec0-9547-e653296e437f', '0ce44264-4e67-47b4-b88c-07b3deb2ed23', '1ffb1e90-0442-4ecd-b4fe-95e9ab943976', '50411913-d5a4-4d44-b5fb-9cbe9e76df5c', '5c402cfc-84b5-493e-8897-08316497039c', '75ace09b-f92d-4882-b6ad-bc39238b9e7a', '817865eb-5498-4c6f-9e29-ee64cfce0e6b', 'a66c16bd-e1aa-4881-8d91-d31f5b455544', 'ad1c88f8-ea0e-4454-8d7a-83b7bef5232b', 'bb1294b8-fce5-407b-90dc-aa1064e06029'], 'embeddings': None, 'metadatas': [{'_node_content': '{\"id_\": \"065461bd-3022-4ec0-9547-e653296e437f\", \"embedding\": null, \"metadata\": {\"file_path\": \"/Users/haiyangliu/Workspace/gov_opportunity_new/content/opportunities/projects/project_814bba4ad7054ecf8e06dd9185c6a7ce.json\", \"file_name\": \"project_814bba4ad7054ecf8e06dd9185c6a7ce.json\", \"file_type\": \"application/json\", \"file_size\": 1939, \"creation_date\": \"2024-06-27\", \"last_modified_date\": \"2024-06-27\"}, \"excluded_embed_metadata_keys\": [\"file_name\", \"file_type\", \"file_size\", \"creation_date\", \"last_modified_date\", \"last_accessed_date\"], \"excluded_llm_metadata_keys\": [\"file_name\", \"file_type\", \"file_size\", \"creation_date\", \"last_modified_date\", \"last_accessed_date\"], \"relationships\": {\"1\": {\"node_id\": \"8267292e-3842-479f-94b0-1c9202f8c974\", \"node_type\": \"4\", \"metadata\": {\"file_path\": \"/Users/haiyangliu/Workspace/gov_opportunity_new/content/opportunities/projects/project_814bba4ad7054ecf8e06dd9185c6a7ce.json\", \"file_name\": \"project_814bba4ad7054ecf8e06dd9185c6a7ce.json\", \"file_type\": \"application/json\", \"file_size\": 1939, \"creation_date\": \"2024-06-27\", \"last_modified_date\": \"2024-06-27\"}, \"hash\": \"ea4f2e9064eb378525d84a1fdd5e2fa9602da565c98301aa1bec92ec8bee32ac\", \"class_name\": \"RelatedNodeInfo\"}, \"2\": {\"node_id\": \"75ace09b-f92d-4882-b6ad-bc39238b9e7a\", \"node_type\": \"1\", \"metadata\": {\"file_path\": \"/Users/haiyangliu/Workspace/gov_opportunity_new/content/opportunities/projects/project_814bba4ad7054ecf8e06dd9185c6a7ce.json\", \"file_name\": \"project_814bba4ad7054ecf8e06dd9185c6a7ce.json\", \"file_type\": \"application/json\", \"file_size\": 1939, \"creation_date\": \"2024-06-27\", \"last_modified_date\": \"2024-06-27\"}, \"hash\": \"fdfdaf2ed124f6c2a62a11c783e3ca6f90c74b87a0dfa56f6219cc3be2098021\", \"class_name\": \"RelatedNodeInfo\"}}, \"text\": \"\", \"mimetype\": \"text/plain\", \"start_char_idx\": 1241, \"end_char_idx\": 1939, \"text_template\": \"{metadata_str}\\\\n\\\\n{content}\", \"metadata_template\": \"{key}: {value}\", \"metadata_seperator\": \"\\\\n\", \"class_name\": \"TextNode\"}', '_node_type': 'TextNode', 'creation_date': '2024-06-27', 'doc_id': '8267292e-3842-479f-94b0-1c9202f8c974', 'document_id': '8267292e-3842-479f-94b0-1c9202f8c974', 'file_name': 'project_814bba4ad7054ecf8e06dd9185c6a7ce.json', 'file_path': '/Users/haiyangliu/Workspace/gov_opportunity_new/content/opportunities/projects/project_814bba4ad7054ecf8e06dd9185c6a7ce.json', 'file_size': 1939, 'file_type': 'application/json', 'last_modified_date': '2024-06-27', 'ref_doc_id': '8267292e-3842-479f-94b0-1c9202f8c974'}, {'_node_content': '{\"id_\": \"0ce44264-4e67-47b4-b88c-07b3deb2ed23\", \"embedding\": null, \"metadata\": {\"project_id\": \"41c2be0ed45342a687cad02d4d20b1cd\", \"department\": \"Department of Defense\", \"naics_code\": \"236220\", \"psc_code\": \"Y1JZ\", \"sub_department\": \"Dept of the Navy\", \"set_aside\": \"\", \"set_aside_code\": \"\", \"type\": \"Solicitation\", \"place_of_performance_country\": \"\", \"place_of_performance_city\": \"\", \"place_of_performance_state\": \"\", \"due_date_year\": 2024, \"due_date_month\": 7, \"due_date_day\": 9, \"posted_date_year\": 2024, \"posted_date_month\": 6, \"posted_date_day\": 18}, \"excluded_embed_metadata_keys\": [], \"excluded_llm_metadata_keys\": [], \"relationships\": {}, \"text\": \"\", \"mimetype\": \"text/plain\", \"start_char_idx\": null, \"end_char_idx\": null, \"text_template\": \"{metadata_str}\\\\n\\\\n{content}\", \"metadata_template\": \"{key}: {value}\", \"metadata_seperator\": \"\\\\n\", \"index_id\": \"06fa97a7-f8da-4a63-ac6b-1dbd95c15626\", \"obj\": null, \"class_name\": \"IndexNode\"}', '_node_type': 'IndexNode', 'department': 'Department of Defense', 'doc_id': 'None', 'document_id': 'None', 'due_date_day': 9, 'due_date_month': 7, 'due_date_year': 2024, 'naics_code': '236220', 'place_of_performance_city': '', 'place_of_performance_country': '', 'place_of_performance_state': '', 'posted_date_day': 18, 'posted_date_month': 6, 'posted_date_year': 2024, 'project_id': '41c2be0ed45342a687cad02d4d20b1cd', 'psc_code': 'Y1JZ', 'ref_doc_id': 'None', 'set_aside': '', 'set_aside_code': '', 'sub_department': 'Dept of the Navy', 'type': 'Solicitation'}, {'_node_content': '{\"id_\": \"1ffb1e90-0442-4ecd-b4fe-95e9ab943976\", \"embedding\": null, \"metadata\": {\"file_path\": \"/Users/haiyangliu/Workspace/gov_opportunity_new/content/opportunities/projects/project_41c2be0ed45342a687cad02d4d20b1cd.json\", \"file_name\": \"project_41c2be0ed45342a687cad02d4d20b1cd.json\", \"file_type\": \"application/json\", \"file_size\": 6146, \"creation_date\": \"2024-06-27\", \"last_modified_date\": \"2024-06-27\"}, \"excluded_embed_metadata_keys\": [\"file_name\", \"file_type\", \"file_size\", \"creation_date\", \"last_modified_date\", \"last_accessed_date\"], \"excluded_llm_metadata_keys\": [\"file_name\", \"file_type\", \"file_size\", \"creation_date\", \"last_modified_date\", \"last_accessed_date\"], \"relationships\": {\"1\": {\"node_id\": \"06fa97a7-f8da-4a63-ac6b-1dbd95c15626\", \"node_type\": \"4\", \"metadata\": {\"file_path\": \"/Users/haiyangliu/Workspace/gov_opportunity_new/content/opportunities/projects/project_41c2be0ed45342a687cad02d4d20b1cd.json\", \"file_name\": \"project_41c2be0ed45342a687cad02d4d20b1cd.json\", \"file_type\": \"application/json\", \"file_size\": 6146, \"creation_date\": \"2024-06-27\", \"last_modified_date\": \"2024-06-27\"}, \"hash\": \"24b82d521a4eb96731f189fdc6348888c89873940f399f9cfff754bef3c0c9ef\", \"class_name\": \"RelatedNodeInfo\"}, \"3\": {\"node_id\": \"817865eb-5498-4c6f-9e29-ee64cfce0e6b\", \"node_type\": \"1\", \"metadata\": {}, \"hash\": \"86a6407d3c223d4c7172860b09fba4d5d78f32c5842a90eac93df52aef404b5e\", \"class_name\": \"RelatedNodeInfo\"}}, \"text\": \"\", \"mimetype\": \"text/plain\", \"start_char_idx\": 0, \"end_char_idx\": 2120, \"text_template\": \"{metadata_str}\\\\n\\\\n{content}\", \"metadata_template\": \"{key}: {value}\", \"metadata_seperator\": \"\\\\n\", \"class_name\": \"TextNode\"}', '_node_type': 'TextNode', 'creation_date': '2024-06-27', 'doc_id': '06fa97a7-f8da-4a63-ac6b-1dbd95c15626', 'document_id': '06fa97a7-f8da-4a63-ac6b-1dbd95c15626', 'file_name': 'project_41c2be0ed45342a687cad02d4d20b1cd.json', 'file_path': '/Users/haiyangliu/Workspace/gov_opportunity_new/content/opportunities/projects/project_41c2be0ed45342a687cad02d4d20b1cd.json', 'file_size': 6146, 'file_type': 'application/json', 'last_modified_date': '2024-06-27', 'ref_doc_id': '06fa97a7-f8da-4a63-ac6b-1dbd95c15626'}, {'_node_content': '{\"id_\": \"50411913-d5a4-4d44-b5fb-9cbe9e76df5c\", \"embedding\": null, \"metadata\": {\"file_path\": \"/Users/haiyangliu/Workspace/gov_opportunity_new/content/opportunities/projects/project_a3e9fea3b1184f2288e0c7953588c19c.json\", \"file_name\": \"project_a3e9fea3b1184f2288e0c7953588c19c.json\", \"file_type\": \"application/json\", \"file_size\": 883, \"creation_date\": \"2024-06-27\", \"last_modified_date\": \"2024-06-27\"}, \"excluded_embed_metadata_keys\": [\"file_name\", \"file_type\", \"file_size\", \"creation_date\", \"last_modified_date\", \"last_accessed_date\"], \"excluded_llm_metadata_keys\": [\"file_name\", \"file_type\", \"file_size\", \"creation_date\", \"last_modified_date\", \"last_accessed_date\"], \"relationships\": {\"1\": {\"node_id\": \"5dceeb67-f1d7-4d3a-9ae3-a748292a95ce\", \"node_type\": \"4\", \"metadata\": {\"file_path\": \"/Users/haiyangliu/Workspace/gov_opportunity_new/content/opportunities/projects/project_a3e9fea3b1184f2288e0c7953588c19c.json\", \"file_name\": \"project_a3e9fea3b1184f2288e0c7953588c19c.json\", \"file_type\": \"application/json\", \"file_size\": 883, \"creation_date\": \"2024-06-27\", \"last_modified_date\": \"2024-06-27\"}, \"hash\": \"5655ed2ad2cdd261c0cf4ecbb8e388d68d219b615c55334d8b9b361bcde9caac\", \"class_name\": \"RelatedNodeInfo\"}}, \"text\": \"\", \"mimetype\": \"text/plain\", \"start_char_idx\": 0, \"end_char_idx\": 883, \"text_template\": \"{metadata_str}\\\\n\\\\n{content}\", \"metadata_template\": \"{key}: {value}\", \"metadata_seperator\": \"\\\\n\", \"class_name\": \"TextNode\"}', '_node_type': 'TextNode', 'creation_date': '2024-06-27', 'doc_id': '5dceeb67-f1d7-4d3a-9ae3-a748292a95ce', 'document_id': '5dceeb67-f1d7-4d3a-9ae3-a748292a95ce', 'file_name': 'project_a3e9fea3b1184f2288e0c7953588c19c.json', 'file_path': '/Users/haiyangliu/Workspace/gov_opportunity_new/content/opportunities/projects/project_a3e9fea3b1184f2288e0c7953588c19c.json', 'file_size': 883, 'file_type': 'application/json', 'last_modified_date': '2024-06-27', 'ref_doc_id': '5dceeb67-f1d7-4d3a-9ae3-a748292a95ce'}, {'_node_content': '{\"id_\": \"5c402cfc-84b5-493e-8897-08316497039c\", \"embedding\": null, \"metadata\": {\"file_path\": \"/Users/haiyangliu/Workspace/gov_opportunity_new/content/opportunities/projects/project_41c2be0ed45342a687cad02d4d20b1cd.json\", \"file_name\": \"project_41c2be0ed45342a687cad02d4d20b1cd.json\", \"file_type\": \"application/json\", \"file_size\": 6146, \"creation_date\": \"2024-06-27\", \"last_modified_date\": \"2024-06-27\"}, \"excluded_embed_metadata_keys\": [\"file_name\", \"file_type\", \"file_size\", \"creation_date\", \"last_modified_date\", \"last_accessed_date\"], \"excluded_llm_metadata_keys\": [\"file_name\", \"file_type\", \"file_size\", \"creation_date\", \"last_modified_date\", \"last_accessed_date\"], \"relationships\": {\"1\": {\"node_id\": \"06fa97a7-f8da-4a63-ac6b-1dbd95c15626\", \"node_type\": \"4\", \"metadata\": {\"file_path\": \"/Users/haiyangliu/Workspace/gov_opportunity_new/content/opportunities/projects/project_41c2be0ed45342a687cad02d4d20b1cd.json\", \"file_name\": \"project_41c2be0ed45342a687cad02d4d20b1cd.json\", \"file_type\": \"application/json\", \"file_size\": 6146, \"creation_date\": \"2024-06-27\", \"last_modified_date\": \"2024-06-27\"}, \"hash\": \"24b82d521a4eb96731f189fdc6348888c89873940f399f9cfff754bef3c0c9ef\", \"class_name\": \"RelatedNodeInfo\"}, \"2\": {\"node_id\": \"a66c16bd-e1aa-4881-8d91-d31f5b455544\", \"node_type\": \"1\", \"metadata\": {\"file_path\": \"/Users/haiyangliu/Workspace/gov_opportunity_new/content/opportunities/projects/project_41c2be0ed45342a687cad02d4d20b1cd.json\", \"file_name\": \"project_41c2be0ed45342a687cad02d4d20b1cd.json\", \"file_type\": \"application/json\", \"file_size\": 6146, \"creation_date\": \"2024-06-27\", \"last_modified_date\": \"2024-06-27\"}, \"hash\": \"e6747c741c75ef00d4642ebff3923f0f2371afc93172ba653c60023f31fa81a2\", \"class_name\": \"RelatedNodeInfo\"}}, \"text\": \"\", \"mimetype\": \"text/plain\", \"start_char_idx\": 5535, \"end_char_idx\": 6146, \"text_template\": \"{metadata_str}\\\\n\\\\n{content}\", \"metadata_template\": \"{key}: {value}\", \"metadata_seperator\": \"\\\\n\", \"class_name\": \"TextNode\"}', '_node_type': 'TextNode', 'creation_date': '2024-06-27', 'doc_id': '06fa97a7-f8da-4a63-ac6b-1dbd95c15626', 'document_id': '06fa97a7-f8da-4a63-ac6b-1dbd95c15626', 'file_name': 'project_41c2be0ed45342a687cad02d4d20b1cd.json', 'file_path': '/Users/haiyangliu/Workspace/gov_opportunity_new/content/opportunities/projects/project_41c2be0ed45342a687cad02d4d20b1cd.json', 'file_size': 6146, 'file_type': 'application/json', 'last_modified_date': '2024-06-27', 'ref_doc_id': '06fa97a7-f8da-4a63-ac6b-1dbd95c15626'}, {'_node_content': '{\"id_\": \"75ace09b-f92d-4882-b6ad-bc39238b9e7a\", \"embedding\": null, \"metadata\": {\"file_path\": \"/Users/haiyangliu/Workspace/gov_opportunity_new/content/opportunities/projects/project_814bba4ad7054ecf8e06dd9185c6a7ce.json\", \"file_name\": \"project_814bba4ad7054ecf8e06dd9185c6a7ce.json\", \"file_type\": \"application/json\", \"file_size\": 1939, \"creation_date\": \"2024-06-27\", \"last_modified_date\": \"2024-06-27\"}, \"excluded_embed_metadata_keys\": [\"file_name\", \"file_type\", \"file_size\", \"creation_date\", \"last_modified_date\", \"last_accessed_date\"], \"excluded_llm_metadata_keys\": [\"file_name\", \"file_type\", \"file_size\", \"creation_date\", \"last_modified_date\", \"last_accessed_date\"], \"relationships\": {\"1\": {\"node_id\": \"8267292e-3842-479f-94b0-1c9202f8c974\", \"node_type\": \"4\", \"metadata\": {\"file_path\": \"/Users/haiyangliu/Workspace/gov_opportunity_new/content/opportunities/projects/project_814bba4ad7054ecf8e06dd9185c6a7ce.json\", \"file_name\": \"project_814bba4ad7054ecf8e06dd9185c6a7ce.json\", \"file_type\": \"application/json\", \"file_size\": 1939, \"creation_date\": \"2024-06-27\", \"last_modified_date\": \"2024-06-27\"}, \"hash\": \"ea4f2e9064eb378525d84a1fdd5e2fa9602da565c98301aa1bec92ec8bee32ac\", \"class_name\": \"RelatedNodeInfo\"}, \"3\": {\"node_id\": \"065461bd-3022-4ec0-9547-e653296e437f\", \"node_type\": \"1\", \"metadata\": {}, \"hash\": \"2b4fb10a2020caf118a83e562726e3921637ba0ce24cf5b760a3152f01f95bc6\", \"class_name\": \"RelatedNodeInfo\"}}, \"text\": \"\", \"mimetype\": \"text/plain\", \"start_char_idx\": 0, \"end_char_idx\": 1502, \"text_template\": \"{metadata_str}\\\\n\\\\n{content}\", \"metadata_template\": \"{key}: {value}\", \"metadata_seperator\": \"\\\\n\", \"class_name\": \"TextNode\"}', '_node_type': 'TextNode', 'creation_date': '2024-06-27', 'doc_id': '8267292e-3842-479f-94b0-1c9202f8c974', 'document_id': '8267292e-3842-479f-94b0-1c9202f8c974', 'file_name': 'project_814bba4ad7054ecf8e06dd9185c6a7ce.json', 'file_path': '/Users/haiyangliu/Workspace/gov_opportunity_new/content/opportunities/projects/project_814bba4ad7054ecf8e06dd9185c6a7ce.json', 'file_size': 1939, 'file_type': 'application/json', 'last_modified_date': '2024-06-27', 'ref_doc_id': '8267292e-3842-479f-94b0-1c9202f8c974'}, {'_node_content': '{\"id_\": \"817865eb-5498-4c6f-9e29-ee64cfce0e6b\", \"embedding\": null, \"metadata\": {\"file_path\": \"/Users/haiyangliu/Workspace/gov_opportunity_new/content/opportunities/projects/project_41c2be0ed45342a687cad02d4d20b1cd.json\", \"file_name\": \"project_41c2be0ed45342a687cad02d4d20b1cd.json\", \"file_type\": \"application/json\", \"file_size\": 6146, \"creation_date\": \"2024-06-27\", \"last_modified_date\": \"2024-06-27\"}, \"excluded_embed_metadata_keys\": [\"file_name\", \"file_type\", \"file_size\", \"creation_date\", \"last_modified_date\", \"last_accessed_date\"], \"excluded_llm_metadata_keys\": [\"file_name\", \"file_type\", \"file_size\", \"creation_date\", \"last_modified_date\", \"last_accessed_date\"], \"relationships\": {\"1\": {\"node_id\": \"06fa97a7-f8da-4a63-ac6b-1dbd95c15626\", \"node_type\": \"4\", \"metadata\": {\"file_path\": \"/Users/haiyangliu/Workspace/gov_opportunity_new/content/opportunities/projects/project_41c2be0ed45342a687cad02d4d20b1cd.json\", \"file_name\": \"project_41c2be0ed45342a687cad02d4d20b1cd.json\", \"file_type\": \"application/json\", \"file_size\": 6146, \"creation_date\": \"2024-06-27\", \"last_modified_date\": \"2024-06-27\"}, \"hash\": \"24b82d521a4eb96731f189fdc6348888c89873940f399f9cfff754bef3c0c9ef\", \"class_name\": \"RelatedNodeInfo\"}, \"2\": {\"node_id\": \"1ffb1e90-0442-4ecd-b4fe-95e9ab943976\", \"node_type\": \"1\", \"metadata\": {\"file_path\": \"/Users/haiyangliu/Workspace/gov_opportunity_new/content/opportunities/projects/project_41c2be0ed45342a687cad02d4d20b1cd.json\", \"file_name\": \"project_41c2be0ed45342a687cad02d4d20b1cd.json\", \"file_type\": \"application/json\", \"file_size\": 6146, \"creation_date\": \"2024-06-27\", \"last_modified_date\": \"2024-06-27\"}, \"hash\": \"927dac9686ebb945bda6ef18759fa0218c9688b4c1b773a9be9b1e4bd3f2e958\", \"class_name\": \"RelatedNodeInfo\"}, \"3\": {\"node_id\": \"a66c16bd-e1aa-4881-8d91-d31f5b455544\", \"node_type\": \"1\", \"metadata\": {}, \"hash\": \"b8b6bd452513910261362108d4c85119ed55586c32faa496e7816b6e55c10c95\", \"class_name\": \"RelatedNodeInfo\"}}, \"text\": \"\", \"mimetype\": \"text/plain\", \"start_char_idx\": 2039, \"end_char_idx\": 4247, \"text_template\": \"{metadata_str}\\\\n\\\\n{content}\", \"metadata_template\": \"{key}: {value}\", \"metadata_seperator\": \"\\\\n\", \"class_name\": \"TextNode\"}', '_node_type': 'TextNode', 'creation_date': '2024-06-27', 'doc_id': '06fa97a7-f8da-4a63-ac6b-1dbd95c15626', 'document_id': '06fa97a7-f8da-4a63-ac6b-1dbd95c15626', 'file_name': 'project_41c2be0ed45342a687cad02d4d20b1cd.json', 'file_path': '/Users/haiyangliu/Workspace/gov_opportunity_new/content/opportunities/projects/project_41c2be0ed45342a687cad02d4d20b1cd.json', 'file_size': 6146, 'file_type': 'application/json', 'last_modified_date': '2024-06-27', 'ref_doc_id': '06fa97a7-f8da-4a63-ac6b-1dbd95c15626'}, {'_node_content': '{\"id_\": \"a66c16bd-e1aa-4881-8d91-d31f5b455544\", \"embedding\": null, \"metadata\": {\"file_path\": \"/Users/haiyangliu/Workspace/gov_opportunity_new/content/opportunities/projects/project_41c2be0ed45342a687cad02d4d20b1cd.json\", \"file_name\": \"project_41c2be0ed45342a687cad02d4d20b1cd.json\", \"file_type\": \"application/json\", \"file_size\": 6146, \"creation_date\": \"2024-06-27\", \"last_modified_date\": \"2024-06-27\"}, \"excluded_embed_metadata_keys\": [\"file_name\", \"file_type\", \"file_size\", \"creation_date\", \"last_modified_date\", \"last_accessed_date\"], \"excluded_llm_metadata_keys\": [\"file_name\", \"file_type\", \"file_size\", \"creation_date\", \"last_modified_date\", \"last_accessed_date\"], \"relationships\": {\"1\": {\"node_id\": \"06fa97a7-f8da-4a63-ac6b-1dbd95c15626\", \"node_type\": \"4\", \"metadata\": {\"file_path\": \"/Users/haiyangliu/Workspace/gov_opportunity_new/content/opportunities/projects/project_41c2be0ed45342a687cad02d4d20b1cd.json\", \"file_name\": \"project_41c2be0ed45342a687cad02d4d20b1cd.json\", \"file_type\": \"application/json\", \"file_size\": 6146, \"creation_date\": \"2024-06-27\", \"last_modified_date\": \"2024-06-27\"}, \"hash\": \"24b82d521a4eb96731f189fdc6348888c89873940f399f9cfff754bef3c0c9ef\", \"class_name\": \"RelatedNodeInfo\"}, \"2\": {\"node_id\": \"817865eb-5498-4c6f-9e29-ee64cfce0e6b\", \"node_type\": \"1\", \"metadata\": {\"file_path\": \"/Users/haiyangliu/Workspace/gov_opportunity_new/content/opportunities/projects/project_41c2be0ed45342a687cad02d4d20b1cd.json\", \"file_name\": \"project_41c2be0ed45342a687cad02d4d20b1cd.json\", \"file_type\": \"application/json\", \"file_size\": 6146, \"creation_date\": \"2024-06-27\", \"last_modified_date\": \"2024-06-27\"}, \"hash\": \"032a4ad5cbc60407ded88c87247b562b58c70189714606ad9f403de080a9ce24\", \"class_name\": \"RelatedNodeInfo\"}, \"3\": {\"node_id\": \"5c402cfc-84b5-493e-8897-08316497039c\", \"node_type\": \"1\", \"metadata\": {}, \"hash\": \"611e8f7afa45e523dee2e65e3c4c51758a90def9f146e2b0ac69e5656cbcdc65\", \"class_name\": \"RelatedNodeInfo\"}}, \"text\": \"\", \"mimetype\": \"text/plain\", \"start_char_idx\": 4065, \"end_char_idx\": 5753, \"text_template\": \"{metadata_str}\\\\n\\\\n{content}\", \"metadata_template\": \"{key}: {value}\", \"metadata_seperator\": \"\\\\n\", \"class_name\": \"TextNode\"}', '_node_type': 'TextNode', 'creation_date': '2024-06-27', 'doc_id': '06fa97a7-f8da-4a63-ac6b-1dbd95c15626', 'document_id': '06fa97a7-f8da-4a63-ac6b-1dbd95c15626', 'file_name': 'project_41c2be0ed45342a687cad02d4d20b1cd.json', 'file_path': '/Users/haiyangliu/Workspace/gov_opportunity_new/content/opportunities/projects/project_41c2be0ed45342a687cad02d4d20b1cd.json', 'file_size': 6146, 'file_type': 'application/json', 'last_modified_date': '2024-06-27', 'ref_doc_id': '06fa97a7-f8da-4a63-ac6b-1dbd95c15626'}, {'_node_content': '{\"id_\": \"ad1c88f8-ea0e-4454-8d7a-83b7bef5232b\", \"embedding\": null, \"metadata\": {\"project_id\": \"a3e9fea3b1184f2288e0c7953588c19c\", \"department\": \"Department of Defense\", \"naics_code\": \"541330\", \"psc_code\": \"C211\", \"sub_department\": \"Dept of the Navy\", \"set_aside\": \"\", \"set_aside_code\": \"\", \"type\": \"Justification\", \"place_of_performance_country\": \"\", \"place_of_performance_city\": \"\", \"place_of_performance_state\": \"\", \"posted_date_year\": 2024, \"posted_date_month\": 6, \"posted_date_day\": 18}, \"excluded_embed_metadata_keys\": [], \"excluded_llm_metadata_keys\": [], \"relationships\": {}, \"text\": \"\", \"mimetype\": \"text/plain\", \"start_char_idx\": null, \"end_char_idx\": null, \"text_template\": \"{metadata_str}\\\\n\\\\n{content}\", \"metadata_template\": \"{key}: {value}\", \"metadata_seperator\": \"\\\\n\", \"index_id\": \"5dceeb67-f1d7-4d3a-9ae3-a748292a95ce\", \"obj\": null, \"class_name\": \"IndexNode\"}', '_node_type': 'IndexNode', 'department': 'Department of Defense', 'doc_id': 'None', 'document_id': 'None', 'naics_code': '541330', 'place_of_performance_city': '', 'place_of_performance_country': '', 'place_of_performance_state': '', 'posted_date_day': 18, 'posted_date_month': 6, 'posted_date_year': 2024, 'project_id': 'a3e9fea3b1184f2288e0c7953588c19c', 'psc_code': 'C211', 'ref_doc_id': 'None', 'set_aside': '', 'set_aside_code': '', 'sub_department': 'Dept of the Navy', 'type': 'Justification'}, {'_node_content': '{\"id_\": \"bb1294b8-fce5-407b-90dc-aa1064e06029\", \"embedding\": null, \"metadata\": {\"project_id\": \"814bba4ad7054ecf8e06dd9185c6a7ce\", \"department\": \"Department of Defense\", \"naics_code\": \"236220\", \"psc_code\": \"Z2AZ\", \"sub_department\": \"Dept of the Army\", \"set_aside\": \"Total Small Business Set-Aside (FAR 19.5)\", \"set_aside_code\": \"SBA\", \"type\": \"Solicitation\", \"place_of_performance_country\": \"\", \"place_of_performance_city\": \"\", \"place_of_performance_state\": \"\", \"due_date_year\": 2024, \"due_date_month\": 6, \"due_date_day\": 24, \"posted_date_year\": 2024, \"posted_date_month\": 6, \"posted_date_day\": 18}, \"excluded_embed_metadata_keys\": [], \"excluded_llm_metadata_keys\": [], \"relationships\": {}, \"text\": \"\", \"mimetype\": \"text/plain\", \"start_char_idx\": null, \"end_char_idx\": null, \"text_template\": \"{metadata_str}\\\\n\\\\n{content}\", \"metadata_template\": \"{key}: {value}\", \"metadata_seperator\": \"\\\\n\", \"index_id\": \"8267292e-3842-479f-94b0-1c9202f8c974\", \"obj\": null, \"class_name\": \"IndexNode\"}', '_node_type': 'IndexNode', 'department': 'Department of Defense', 'doc_id': 'None', 'document_id': 'None', 'due_date_day': 24, 'due_date_month': 6, 'due_date_year': 2024, 'naics_code': '236220', 'place_of_performance_city': '', 'place_of_performance_country': '', 'place_of_performance_state': '', 'posted_date_day': 18, 'posted_date_month': 6, 'posted_date_year': 2024, 'project_id': '814bba4ad7054ecf8e06dd9185c6a7ce', 'psc_code': 'Z2AZ', 'ref_doc_id': 'None', 'set_aside': 'Total Small Business Set-Aside (FAR 19.5)', 'set_aside_code': 'SBA', 'sub_department': 'Dept of the Army', 'type': 'Solicitation'}], 'documents': ['The repair will need to accommodate for minimal impacts to existing operations within the facility, including the establishment of a complete temporary kitchen to support meal preparation and cleanup when the permanent kitchen is shut down for plumbing repairs.\",\\n    \"PlaceOfPerformanceCountry\": \"\",\\n    \"PlaceOfPerformanceState\": \"\",\\n    \"PlaceOfPerformanceCity\": \"\",\\n    \"PlaceOfPerformanceStreetAddress\": \"\",\\n    \"PlaceOfPerformanceZip\": \"\",\\n    \"Sub-Tier\": \"Dept of the Army\",\\n    \"ResponseDueDate\": \"2024-06-24T14:00:00-08:00\",\\n    \"SetASide\": \"Total Small Business Set-Aside (FAR 19.5)\",\\n    \"SetASideCode\": \"SBA\",\\n    \"Type\": \"Solicitation\",\\n    \"PostedDate\": \"2024-06-18 22:02:58.667-04\"\\n}', 'This project involves the solicitation of a Design-Build Multiple Award Construction Contract (DBMACC) primarily for U.S. military construction projects in Guam and other areas under the cognizance of NAVFAC Pacific, with a focus on design-build and design-bid-build renovation, additions/upgrades, and new construction across various facilities.', '{\\n    \"ProjectID\": \"41c2be0ed45342a687cad02d4d20b1cd\",\\n    \"Title\": \"DESIGN-BUILD MULTIPLE AWARD CONSTRUCTION CONTRACT (DBMACC) PRIMARILY FOR U.S. MILITARY CONSTRUCTION PROJECTS IN GUAM AND OTHER AREAS UNDER THE COGNIZANCE OF NAVFAC PACIFIC\",\\n    \"Department/Ind.Agency\": \"Department of Defense\",\\n    \"NaicsCode\": \"236220\",\\n    \"ProductServiceCode\": \"Y1JZ\",\\n    \"Description\": \"Construction services are required for an Indefinite Delivery, Indefinite Quantity (IDIQ) type multiple award construction contract (MACC) for the acquisition of U.S. Military design and construction projects in the Territory of Guam, but may include and other areas under the cognizance of the Naval Facilities Engineering Command (NAVFAC), Pacific. All work under the MACC will be initiated by task orders that will be competed amongst only the MACC holders (firms awarded one of the potential contracts). Contractors will be expected to accomplish a wide variety of individual construction tasks, including design/build and design-bid-build renovation, additions/upgrades and new construction. Work may include, but is not limited to, barracks/dormitories, administrative facilities, communication facilities, educational facilities, medical/dental/hospital facilities, dining facilities, industrial facilities, warehouse facilities, ranges, operational/training facilities, roads, streets, bridges, site utilities/ infrastructure, dredging, and aviation facilities (including hangars and aprons) and other base development facilities. Projects may also require incorporation of sustainable features. A MACC is a contract awarded from a single solicitation, and may result in award to multiple contractors. This procurement consists of one solicitation with the intent to award a minimum of three (3) Indefinite Delivery Indefinite Quantity (IDIQ) type construction contracts to the Offerors whose proposals, conforming to the RFP, represent the most advantageous offers to the Government resulting in the best value, price and technical factors considered. Successful Offerors will compete for future work during the term of the contract.', '{\\n    \"ProjectID\": \"a3e9fea3b1184f2288e0c7953588c19c\",\\n    \"Title\": \"J&A FOR INDEFINITE DELIVERY INDEFINITE QUANTITY ARCHITECT-ENGINEER SERVICES FOR DESIGN, ENGINEERING, SPECIFICATION WRITING, COST ESTIMATING, AND RELATED SERVICES AT VARIOUS LOCATIONS UNDER THE COGNIZANCE OF NAVAL FACILITIES ENGINEERING COMMAND, PACIFIC\",\\n    \"Department/Ind.Agency\": \"Department of Defense\",\\n    \"NaicsCode\": \"541330\",\\n    \"ProductServiceCode\": \"C211\",\\n    \"Description\": \"See attached Justification and Approval document.\\\\ufffd\",\\n    \"PlaceOfPerformanceCountry\": \"\",\\n    \"PlaceOfPerformanceState\": \"\",\\n    \"PlaceOfPerformanceCity\": \"\",\\n    \"PlaceOfPerformanceStreetAddress\": \"\",\\n    \"PlaceOfPerformanceZip\": \"\",\\n    \"Sub-Tier\": \"Dept of the Navy\",\\n    \"ResponseDueDate\": \"\",\\n    \"SetASide\": \"\",\\n    \"SetASideCode\": \"\",\\n    \"Type\": \"Justification\",\\n    \"PostedDate\": \"2024-06-18 22:08:58.991-04\"\\n}', 'A-E firms employed shall have active U.S. professional registration or equivalent qualifications. Note: During contract execution, U.S. registration will be required for all architects or engineers who approve designs.\",\\n    \"PlaceOfPerformanceCountry\": \"\",\\n    \"PlaceOfPerformanceState\": \"\",\\n    \"PlaceOfPerformanceCity\": \"\",\\n    \"PlaceOfPerformanceStreetAddress\": \"\",\\n    \"PlaceOfPerformanceZip\": \"\",\\n    \"Sub-Tier\": \"Dept of the Navy\",\\n    \"ResponseDueDate\": \"2024-07-09T14:00:00-10:00\",\\n    \"SetASide\": \"\",\\n    \"SetASideCode\": \"\",\\n    \"Type\": \"Solicitation\",\\n    \"PostedDate\": \"2024-06-18 22:53:39.031-04\"\\n}', '{\\n    \"ProjectID\": \"814bba4ad7054ecf8e06dd9185c6a7ce\",\\n    \"Title\": \"REPLACE PLUMBING AND FIRE PROTECTION SYSTEMS (B150), TIN CITY, ALASKA (TIN006)\",\\n    \"Department/Ind.Agency\": \"Department of Defense\",\\n    \"NaicsCode\": \"236220\",\\n    \"ProductServiceCode\": \"Z2AZ\",\\n    \"Description\": \"REPLACE PLUMBING AND FIRE PROTECTION SYSTEMS (B150), TIN CITY, ALASKA (TIN006). Design and repair of the plumbing and fire protection systems within composite building B150, Tin City Long Range Radar Site (LRRS), Tin City, Alaska. The Tin City LRRS is located near the western tip of the Seward Peninsula approximately 650 air miles northwest of Anchorage, AK, a logistically challenging, remote location accessible only by air and/or barge. Building B150 is 4 stories, with the third story unoccupied. The facility was originally designed for over 300 personnel to operate this remote radar site, however, is minimally manned for maintenance of the facilities. The building occupancy and use will not change. Design and repairs include replacement of the existing fire sprinkler system, plumbing systems, and will incorporate all related architectural, structural, electrical, and other necessary supporting disciplines to complete the design and repair. The repair will need to accommodate for minimal impacts to existing operations within the facility, including the establishment of a complete temporary kitchen to support meal preparation and cleanup when the permanent kitchen is shut down for plumbing repairs.', 'Successful Offerors will compete for future work during the term of the contract. If determined to be in the best interest of the Government, less than three (3) contracts may be awarded or the Government may cancel the procurement. Work to be performed under the MACC will be within the primary North American Industry Classification System (NAICS) code 236220 \\\\ufffd Commercial and Institutional Building Construction, average annual receipts is $45 million over the past three years. However, it will also include Subsection 237 \\\\ufffd Heavy and Civil Engineering Construction, average annual receipts of $45 million over the past three years. Sources sought notice N62742FY25SS for this procurement was posted in SAM.gov from\\\\ufffd \\\\ufffd \\\\ufffd6 October 2023 to 19 October 2023, and a market survey was conducted that included an assessment of relevant qualifications and capabilities of potentially qualified firms. As a result of the market research analysis, a determination was made to solicit this procurement on an UNRESTRICTED basis inviting full and open competition. This is a two-phase design-build, best value, trade off procurement. The Government intends to evaluate phase-one submissions and to move forward to phase-two without conducting discussions with any Offeror, except for clarifications as described in FAR 15.306(a). However, the Government reserves the right to conduct discussions with phase-one Offerors, if required. A pre-proposal site visit will be scheduled during phase-two. The phase-one non-price evaluation factors are anticipated to be FACTOR 1, Technical Approach; FACTOR 2, Experience; and FACTOR 3, Performance Confidence Assessment (Past Performance). The phase-one documents will be available through the System for Award Management (SAM) website at the following link https://www.sam.gov. Revisions to any posted documents will be posted to the SAM website. It is the responsibility of the Offeror to check the SAM website periodically for any revisions to the posted documents. In accordance with FAR 4.11, all prime firms, including any newly formed Joint Ventures/Limited Liability Companies (LLCs), are required to be registered in SAM at the time of offer.', 'In accordance with FAR 4.11, all prime firms, including any newly formed Joint Ventures/Limited Liability Companies (LLCs), are required to be registered in SAM at the time of offer. Printed copies or CDs of the RFP will not be issued. The phase-two non-price evaluation factors are anticipated to be FACTOR 4, Safety and FACTOR 5, Small Business Utilization and Participation. The term of the contract is anticipated to be 96 months (base period of 60 months, with three 12-month option periods) or $15B for all contracts combined, whichever occurs first. Task orders will typically range between $25,000,000 and $1,000,000,000. Task orders may be above this limit; however, contractors are not obligated to accept such task orders under the general terms of the contract. Task orders may require both design and construction services. The Government makes no representation as to the number of task orders or actual amount of work to be ordered; however, during the term of the contract, a minimum of $25,000 is guaranteed for each awardee under the contract. As task orders are awarded that exceed the $25,000, the $25,000 minimum guarantee will be deobligated and the Government\\\\ufffds obligation for the minimum guarantee for the contract will be satisfied. In support of the design-build task orders, MACC holders shall retain the services of professional architect-engineer (A-E) firms experienced with multi-disciplined architectural-engineering design efforts. A-E firms employed shall have active U.S. professional registration or equivalent qualifications. Note: During contract execution, U.S. registration will be required for all architects or engineers who approve designs.', 'This project involves the justification and approval for indefinite delivery indefinite quantity architect-engineer services for design, engineering, specification writing, cost estimating, and related services at various locations under the cognizance of Naval Facilities Engineering Command, Pacific.', 'The project involves the replacement and repair of plumbing and fire protection systems in a remote 4-story building in Tin City, Alaska, with minimal impact on existing operations, including setting up a temporary kitchen during repairs.'], 'uris': None, 'data': None, 'included': ['metadatas', 'documents']}\n"
     ]
    }
   ],
   "source": [
    "results = chroma_collection.get()\n",
    "print(results)"
   ]
  },
  {
   "cell_type": "code",
   "execution_count": 85,
   "metadata": {},
   "outputs": [],
   "source": [
    "from llama_index.vector_stores.chroma import ChromaVectorStore\n",
    "\n",
    "chroma_vector_store = ChromaVectorStore(chroma_collection=chroma_collection)\n",
    "chroma_storage_context = StorageContext.from_defaults(vector_store=chroma_vector_store)"
   ]
  },
  {
   "cell_type": "code",
   "execution_count": 82,
   "metadata": {},
   "outputs": [
    {
     "name": "stderr",
     "output_type": "stream",
     "text": [
      "huggingface/tokenizers: The current process just got forked, after parallelism has already been used. Disabling parallelism to avoid deadlocks...\n",
      "To disable this warning, you can either:\n",
      "\t- Avoid using `tokenizers` before the fork if possible\n",
      "\t- Explicitly set the environment variable TOKENIZERS_PARALLELISM=(true | false)\n"
     ]
    },
    {
     "name": "stdout",
     "output_type": "stream",
     "text": [
      "Requirement already satisfied: pip in ./gov_env/lib/python3.10/site-packages (23.0.1)\n",
      "Collecting pip\n",
      "  Downloading pip-24.1.1-py3-none-any.whl (1.8 MB)\n",
      "\u001b[2K     \u001b[90m━━━━━━━━━━━━━━━━━━━━━━━━━━━━━━━━━━━━━━━━\u001b[0m \u001b[32m1.8/1.8 MB\u001b[0m \u001b[31m6.2 MB/s\u001b[0m eta \u001b[36m0:00:00\u001b[0ma \u001b[36m0:00:01\u001b[0m\n",
      "\u001b[?25hInstalling collected packages: pip\n",
      "  Attempting uninstall: pip\n",
      "    Found existing installation: pip 23.0.1\n",
      "    Uninstalling pip-23.0.1:\n",
      "      Successfully uninstalled pip-23.0.1\n",
      "Successfully installed pip-24.1.1\n",
      "Note: you may need to restart the kernel to use updated packages.\n"
     ]
    }
   ],
   "source": [
    "pip install --upgrade pip"
   ]
  },
  {
   "cell_type": "code",
   "execution_count": 52,
   "metadata": {},
   "outputs": [
    {
     "name": "stderr",
     "output_type": "stream",
     "text": [
      "huggingface/tokenizers: The current process just got forked, after parallelism has already been used. Disabling parallelism to avoid deadlocks...\n",
      "To disable this warning, you can either:\n",
      "\t- Avoid using `tokenizers` before the fork if possible\n",
      "\t- Explicitly set the environment variable TOKENIZERS_PARALLELISM=(true | false)\n"
     ]
    },
    {
     "name": "stdout",
     "output_type": "stream",
     "text": [
      "Requirement already satisfied: llama-index-vector-stores-weaviate in ./gov_env/lib/python3.10/site-packages (1.0.0)\n",
      "Requirement already satisfied: llama-index-core<0.11.0,>=0.10.1 in ./gov_env/lib/python3.10/site-packages (from llama-index-vector-stores-weaviate) (0.10.49)\n",
      "Requirement already satisfied: weaviate-client<5.0.0,>=4.5.7 in ./gov_env/lib/python3.10/site-packages (from llama-index-vector-stores-weaviate) (4.6.5)\n",
      "Requirement already satisfied: tqdm<5.0.0,>=4.66.1 in ./gov_env/lib/python3.10/site-packages (from llama-index-core<0.11.0,>=0.10.1->llama-index-vector-stores-weaviate) (4.66.4)\n",
      "Requirement already satisfied: httpx in ./gov_env/lib/python3.10/site-packages (from llama-index-core<0.11.0,>=0.10.1->llama-index-vector-stores-weaviate) (0.27.0)\n",
      "Requirement already satisfied: nltk<4.0.0,>=3.8.1 in ./gov_env/lib/python3.10/site-packages (from llama-index-core<0.11.0,>=0.10.1->llama-index-vector-stores-weaviate) (3.8.1)\n",
      "Requirement already satisfied: SQLAlchemy[asyncio]>=1.4.49 in ./gov_env/lib/python3.10/site-packages (from llama-index-core<0.11.0,>=0.10.1->llama-index-vector-stores-weaviate) (2.0.31)\n",
      "Requirement already satisfied: nest-asyncio<2.0.0,>=1.5.8 in ./gov_env/lib/python3.10/site-packages (from llama-index-core<0.11.0,>=0.10.1->llama-index-vector-stores-weaviate) (1.6.0)\n",
      "Requirement already satisfied: fsspec>=2023.5.0 in ./gov_env/lib/python3.10/site-packages (from llama-index-core<0.11.0,>=0.10.1->llama-index-vector-stores-weaviate) (2024.5.0)\n",
      "Requirement already satisfied: PyYAML>=6.0.1 in ./gov_env/lib/python3.10/site-packages (from llama-index-core<0.11.0,>=0.10.1->llama-index-vector-stores-weaviate) (6.0.1)\n",
      "Requirement already satisfied: tiktoken>=0.3.3 in ./gov_env/lib/python3.10/site-packages (from llama-index-core<0.11.0,>=0.10.1->llama-index-vector-stores-weaviate) (0.7.0)\n",
      "Requirement already satisfied: numpy<2.0.0 in ./gov_env/lib/python3.10/site-packages (from llama-index-core<0.11.0,>=0.10.1->llama-index-vector-stores-weaviate) (1.26.4)\n",
      "Requirement already satisfied: llama-cloud<0.0.7,>=0.0.6 in ./gov_env/lib/python3.10/site-packages (from llama-index-core<0.11.0,>=0.10.1->llama-index-vector-stores-weaviate) (0.0.6)\n",
      "Requirement already satisfied: pandas in ./gov_env/lib/python3.10/site-packages (from llama-index-core<0.11.0,>=0.10.1->llama-index-vector-stores-weaviate) (2.2.2)\n",
      "Requirement already satisfied: networkx>=3.0 in ./gov_env/lib/python3.10/site-packages (from llama-index-core<0.11.0,>=0.10.1->llama-index-vector-stores-weaviate) (3.3)\n",
      "Requirement already satisfied: aiohttp<4.0.0,>=3.8.6 in ./gov_env/lib/python3.10/site-packages (from llama-index-core<0.11.0,>=0.10.1->llama-index-vector-stores-weaviate) (3.9.5)\n",
      "Requirement already satisfied: dirtyjson<2.0.0,>=1.0.8 in ./gov_env/lib/python3.10/site-packages (from llama-index-core<0.11.0,>=0.10.1->llama-index-vector-stores-weaviate) (1.0.8)\n",
      "Requirement already satisfied: dataclasses-json in ./gov_env/lib/python3.10/site-packages (from llama-index-core<0.11.0,>=0.10.1->llama-index-vector-stores-weaviate) (0.6.7)\n",
      "Requirement already satisfied: requests>=2.31.0 in ./gov_env/lib/python3.10/site-packages (from llama-index-core<0.11.0,>=0.10.1->llama-index-vector-stores-weaviate) (2.32.3)\n",
      "Requirement already satisfied: wrapt in ./gov_env/lib/python3.10/site-packages (from llama-index-core<0.11.0,>=0.10.1->llama-index-vector-stores-weaviate) (1.16.0)\n",
      "Requirement already satisfied: pillow>=9.0.0 in ./gov_env/lib/python3.10/site-packages (from llama-index-core<0.11.0,>=0.10.1->llama-index-vector-stores-weaviate) (10.3.0)\n",
      "Requirement already satisfied: tenacity!=8.4.0,<9.0.0,>=8.2.0 in ./gov_env/lib/python3.10/site-packages (from llama-index-core<0.11.0,>=0.10.1->llama-index-vector-stores-weaviate) (8.4.1)\n",
      "Requirement already satisfied: typing-extensions>=4.5.0 in ./gov_env/lib/python3.10/site-packages (from llama-index-core<0.11.0,>=0.10.1->llama-index-vector-stores-weaviate) (4.12.2)\n",
      "Requirement already satisfied: openai>=1.1.0 in ./gov_env/lib/python3.10/site-packages (from llama-index-core<0.11.0,>=0.10.1->llama-index-vector-stores-weaviate) (1.35.3)\n",
      "Requirement already satisfied: typing-inspect>=0.8.0 in ./gov_env/lib/python3.10/site-packages (from llama-index-core<0.11.0,>=0.10.1->llama-index-vector-stores-weaviate) (0.9.0)\n",
      "Requirement already satisfied: deprecated>=1.2.9.3 in ./gov_env/lib/python3.10/site-packages (from llama-index-core<0.11.0,>=0.10.1->llama-index-vector-stores-weaviate) (1.2.14)\n",
      "Requirement already satisfied: authlib<2.0.0,>=1.2.1 in ./gov_env/lib/python3.10/site-packages (from weaviate-client<5.0.0,>=4.5.7->llama-index-vector-stores-weaviate) (1.3.1)\n",
      "Requirement already satisfied: grpcio-health-checking<2.0.0,>=1.57.0 in ./gov_env/lib/python3.10/site-packages (from weaviate-client<5.0.0,>=4.5.7->llama-index-vector-stores-weaviate) (1.64.1)\n",
      "Requirement already satisfied: pydantic<3.0.0,>=2.5.0 in ./gov_env/lib/python3.10/site-packages (from weaviate-client<5.0.0,>=4.5.7->llama-index-vector-stores-weaviate) (2.7.4)\n",
      "Requirement already satisfied: validators==0.28.3 in ./gov_env/lib/python3.10/site-packages (from weaviate-client<5.0.0,>=4.5.7->llama-index-vector-stores-weaviate) (0.28.3)\n",
      "Requirement already satisfied: grpcio-tools<2.0.0,>=1.57.0 in ./gov_env/lib/python3.10/site-packages (from weaviate-client<5.0.0,>=4.5.7->llama-index-vector-stores-weaviate) (1.64.1)\n",
      "Requirement already satisfied: grpcio<2.0.0,>=1.57.0 in ./gov_env/lib/python3.10/site-packages (from weaviate-client<5.0.0,>=4.5.7->llama-index-vector-stores-weaviate) (1.64.1)\n",
      "Requirement already satisfied: yarl<2.0,>=1.0 in ./gov_env/lib/python3.10/site-packages (from aiohttp<4.0.0,>=3.8.6->llama-index-core<0.11.0,>=0.10.1->llama-index-vector-stores-weaviate) (1.9.4)\n",
      "Requirement already satisfied: multidict<7.0,>=4.5 in ./gov_env/lib/python3.10/site-packages (from aiohttp<4.0.0,>=3.8.6->llama-index-core<0.11.0,>=0.10.1->llama-index-vector-stores-weaviate) (6.0.5)\n",
      "Requirement already satisfied: async-timeout<5.0,>=4.0 in ./gov_env/lib/python3.10/site-packages (from aiohttp<4.0.0,>=3.8.6->llama-index-core<0.11.0,>=0.10.1->llama-index-vector-stores-weaviate) (4.0.3)\n",
      "Requirement already satisfied: attrs>=17.3.0 in ./gov_env/lib/python3.10/site-packages (from aiohttp<4.0.0,>=3.8.6->llama-index-core<0.11.0,>=0.10.1->llama-index-vector-stores-weaviate) (23.2.0)\n",
      "Requirement already satisfied: aiosignal>=1.1.2 in ./gov_env/lib/python3.10/site-packages (from aiohttp<4.0.0,>=3.8.6->llama-index-core<0.11.0,>=0.10.1->llama-index-vector-stores-weaviate) (1.3.1)\n",
      "Requirement already satisfied: frozenlist>=1.1.1 in ./gov_env/lib/python3.10/site-packages (from aiohttp<4.0.0,>=3.8.6->llama-index-core<0.11.0,>=0.10.1->llama-index-vector-stores-weaviate) (1.4.1)\n",
      "Requirement already satisfied: cryptography in ./gov_env/lib/python3.10/site-packages (from authlib<2.0.0,>=1.2.1->weaviate-client<5.0.0,>=4.5.7->llama-index-vector-stores-weaviate) (42.0.8)\n",
      "Requirement already satisfied: protobuf<6.0dev,>=5.26.1 in ./gov_env/lib/python3.10/site-packages (from grpcio-health-checking<2.0.0,>=1.57.0->weaviate-client<5.0.0,>=4.5.7->llama-index-vector-stores-weaviate) (5.27.1)\n",
      "Requirement already satisfied: setuptools in ./gov_env/lib/python3.10/site-packages (from grpcio-tools<2.0.0,>=1.57.0->weaviate-client<5.0.0,>=4.5.7->llama-index-vector-stores-weaviate) (65.5.0)\n",
      "Requirement already satisfied: httpcore==1.* in ./gov_env/lib/python3.10/site-packages (from httpx->llama-index-core<0.11.0,>=0.10.1->llama-index-vector-stores-weaviate) (1.0.5)\n",
      "Requirement already satisfied: sniffio in ./gov_env/lib/python3.10/site-packages (from httpx->llama-index-core<0.11.0,>=0.10.1->llama-index-vector-stores-weaviate) (1.3.1)\n",
      "Requirement already satisfied: anyio in ./gov_env/lib/python3.10/site-packages (from httpx->llama-index-core<0.11.0,>=0.10.1->llama-index-vector-stores-weaviate) (4.4.0)\n",
      "Requirement already satisfied: idna in ./gov_env/lib/python3.10/site-packages (from httpx->llama-index-core<0.11.0,>=0.10.1->llama-index-vector-stores-weaviate) (3.7)\n",
      "Requirement already satisfied: certifi in ./gov_env/lib/python3.10/site-packages (from httpx->llama-index-core<0.11.0,>=0.10.1->llama-index-vector-stores-weaviate) (2024.6.2)\n",
      "Requirement already satisfied: h11<0.15,>=0.13 in ./gov_env/lib/python3.10/site-packages (from httpcore==1.*->httpx->llama-index-core<0.11.0,>=0.10.1->llama-index-vector-stores-weaviate) (0.14.0)\n",
      "Requirement already satisfied: joblib in ./gov_env/lib/python3.10/site-packages (from nltk<4.0.0,>=3.8.1->llama-index-core<0.11.0,>=0.10.1->llama-index-vector-stores-weaviate) (1.4.2)\n",
      "Requirement already satisfied: regex>=2021.8.3 in ./gov_env/lib/python3.10/site-packages (from nltk<4.0.0,>=3.8.1->llama-index-core<0.11.0,>=0.10.1->llama-index-vector-stores-weaviate) (2024.5.15)\n",
      "Requirement already satisfied: click in ./gov_env/lib/python3.10/site-packages (from nltk<4.0.0,>=3.8.1->llama-index-core<0.11.0,>=0.10.1->llama-index-vector-stores-weaviate) (8.1.7)\n",
      "Requirement already satisfied: distro<2,>=1.7.0 in ./gov_env/lib/python3.10/site-packages (from openai>=1.1.0->llama-index-core<0.11.0,>=0.10.1->llama-index-vector-stores-weaviate) (1.9.0)\n",
      "Requirement already satisfied: pydantic-core==2.18.4 in ./gov_env/lib/python3.10/site-packages (from pydantic<3.0.0,>=2.5.0->weaviate-client<5.0.0,>=4.5.7->llama-index-vector-stores-weaviate) (2.18.4)\n",
      "Requirement already satisfied: annotated-types>=0.4.0 in ./gov_env/lib/python3.10/site-packages (from pydantic<3.0.0,>=2.5.0->weaviate-client<5.0.0,>=4.5.7->llama-index-vector-stores-weaviate) (0.7.0)\n",
      "Requirement already satisfied: urllib3<3,>=1.21.1 in ./gov_env/lib/python3.10/site-packages (from requests>=2.31.0->llama-index-core<0.11.0,>=0.10.1->llama-index-vector-stores-weaviate) (2.2.2)\n",
      "Requirement already satisfied: charset-normalizer<4,>=2 in ./gov_env/lib/python3.10/site-packages (from requests>=2.31.0->llama-index-core<0.11.0,>=0.10.1->llama-index-vector-stores-weaviate) (3.3.2)\n",
      "Requirement already satisfied: greenlet!=0.4.17 in ./gov_env/lib/python3.10/site-packages (from SQLAlchemy[asyncio]>=1.4.49->llama-index-core<0.11.0,>=0.10.1->llama-index-vector-stores-weaviate) (3.0.3)\n",
      "Requirement already satisfied: mypy-extensions>=0.3.0 in ./gov_env/lib/python3.10/site-packages (from typing-inspect>=0.8.0->llama-index-core<0.11.0,>=0.10.1->llama-index-vector-stores-weaviate) (1.0.0)\n",
      "Requirement already satisfied: marshmallow<4.0.0,>=3.18.0 in ./gov_env/lib/python3.10/site-packages (from dataclasses-json->llama-index-core<0.11.0,>=0.10.1->llama-index-vector-stores-weaviate) (3.21.3)\n",
      "Requirement already satisfied: tzdata>=2022.7 in ./gov_env/lib/python3.10/site-packages (from pandas->llama-index-core<0.11.0,>=0.10.1->llama-index-vector-stores-weaviate) (2024.1)\n",
      "Requirement already satisfied: python-dateutil>=2.8.2 in ./gov_env/lib/python3.10/site-packages (from pandas->llama-index-core<0.11.0,>=0.10.1->llama-index-vector-stores-weaviate) (2.9.0.post0)\n",
      "Requirement already satisfied: pytz>=2020.1 in ./gov_env/lib/python3.10/site-packages (from pandas->llama-index-core<0.11.0,>=0.10.1->llama-index-vector-stores-weaviate) (2024.1)\n",
      "Requirement already satisfied: exceptiongroup>=1.0.2 in ./gov_env/lib/python3.10/site-packages (from anyio->httpx->llama-index-core<0.11.0,>=0.10.1->llama-index-vector-stores-weaviate) (1.2.1)\n",
      "Requirement already satisfied: packaging>=17.0 in ./gov_env/lib/python3.10/site-packages (from marshmallow<4.0.0,>=3.18.0->dataclasses-json->llama-index-core<0.11.0,>=0.10.1->llama-index-vector-stores-weaviate) (24.1)\n",
      "Requirement already satisfied: six>=1.5 in ./gov_env/lib/python3.10/site-packages (from python-dateutil>=2.8.2->pandas->llama-index-core<0.11.0,>=0.10.1->llama-index-vector-stores-weaviate) (1.16.0)\n",
      "Requirement already satisfied: cffi>=1.12 in ./gov_env/lib/python3.10/site-packages (from cryptography->authlib<2.0.0,>=1.2.1->weaviate-client<5.0.0,>=4.5.7->llama-index-vector-stores-weaviate) (1.16.0)\n",
      "Requirement already satisfied: pycparser in ./gov_env/lib/python3.10/site-packages (from cffi>=1.12->cryptography->authlib<2.0.0,>=1.2.1->weaviate-client<5.0.0,>=4.5.7->llama-index-vector-stores-weaviate) (2.22)\n",
      "\n",
      "\u001b[1m[\u001b[0m\u001b[34;49mnotice\u001b[0m\u001b[1;39;49m]\u001b[0m\u001b[39;49m A new release of pip is available: \u001b[0m\u001b[31;49m23.0.1\u001b[0m\u001b[39;49m -> \u001b[0m\u001b[32;49m24.1\u001b[0m\n",
      "\u001b[1m[\u001b[0m\u001b[34;49mnotice\u001b[0m\u001b[1;39;49m]\u001b[0m\u001b[39;49m To update, run: \u001b[0m\u001b[32;49mpip install --upgrade pip\u001b[0m\n",
      "Note: you may need to restart the kernel to use updated packages.\n"
     ]
    }
   ],
   "source": [
    "pip install llama-index-vector-stores-weaviate"
   ]
  },
  {
   "cell_type": "code",
   "execution_count": 53,
   "metadata": {},
   "outputs": [
    {
     "name": "stderr",
     "output_type": "stream",
     "text": [
      "huggingface/tokenizers: The current process just got forked, after parallelism has already been used. Disabling parallelism to avoid deadlocks...\n",
      "To disable this warning, you can either:\n",
      "\t- Avoid using `tokenizers` before the fork if possible\n",
      "\t- Explicitly set the environment variable TOKENIZERS_PARALLELISM=(true | false)\n"
     ]
    },
    {
     "name": "stdout",
     "output_type": "stream",
     "text": [
      "Requirement already satisfied: weaviate-client in ./gov_env/lib/python3.10/site-packages (4.6.5)\n",
      "Requirement already satisfied: authlib<2.0.0,>=1.2.1 in ./gov_env/lib/python3.10/site-packages (from weaviate-client) (1.3.1)\n",
      "Requirement already satisfied: grpcio-health-checking<2.0.0,>=1.57.0 in ./gov_env/lib/python3.10/site-packages (from weaviate-client) (1.64.1)\n",
      "Requirement already satisfied: grpcio-tools<2.0.0,>=1.57.0 in ./gov_env/lib/python3.10/site-packages (from weaviate-client) (1.64.1)\n",
      "Requirement already satisfied: httpx<=0.27.0,>=0.25.0 in ./gov_env/lib/python3.10/site-packages (from weaviate-client) (0.27.0)\n",
      "Requirement already satisfied: validators==0.28.3 in ./gov_env/lib/python3.10/site-packages (from weaviate-client) (0.28.3)\n",
      "Requirement already satisfied: requests<3.0.0,>=2.30.0 in ./gov_env/lib/python3.10/site-packages (from weaviate-client) (2.32.3)\n",
      "Requirement already satisfied: grpcio<2.0.0,>=1.57.0 in ./gov_env/lib/python3.10/site-packages (from weaviate-client) (1.64.1)\n",
      "Requirement already satisfied: pydantic<3.0.0,>=2.5.0 in ./gov_env/lib/python3.10/site-packages (from weaviate-client) (2.7.4)\n",
      "Requirement already satisfied: cryptography in ./gov_env/lib/python3.10/site-packages (from authlib<2.0.0,>=1.2.1->weaviate-client) (42.0.8)\n",
      "Requirement already satisfied: protobuf<6.0dev,>=5.26.1 in ./gov_env/lib/python3.10/site-packages (from grpcio-health-checking<2.0.0,>=1.57.0->weaviate-client) (5.27.1)\n",
      "Requirement already satisfied: setuptools in ./gov_env/lib/python3.10/site-packages (from grpcio-tools<2.0.0,>=1.57.0->weaviate-client) (65.5.0)\n",
      "Requirement already satisfied: httpcore==1.* in ./gov_env/lib/python3.10/site-packages (from httpx<=0.27.0,>=0.25.0->weaviate-client) (1.0.5)\n",
      "Requirement already satisfied: certifi in ./gov_env/lib/python3.10/site-packages (from httpx<=0.27.0,>=0.25.0->weaviate-client) (2024.6.2)\n",
      "Requirement already satisfied: anyio in ./gov_env/lib/python3.10/site-packages (from httpx<=0.27.0,>=0.25.0->weaviate-client) (4.4.0)\n",
      "Requirement already satisfied: idna in ./gov_env/lib/python3.10/site-packages (from httpx<=0.27.0,>=0.25.0->weaviate-client) (3.7)\n",
      "Requirement already satisfied: sniffio in ./gov_env/lib/python3.10/site-packages (from httpx<=0.27.0,>=0.25.0->weaviate-client) (1.3.1)\n",
      "Requirement already satisfied: h11<0.15,>=0.13 in ./gov_env/lib/python3.10/site-packages (from httpcore==1.*->httpx<=0.27.0,>=0.25.0->weaviate-client) (0.14.0)\n",
      "Requirement already satisfied: typing-extensions>=4.6.1 in ./gov_env/lib/python3.10/site-packages (from pydantic<3.0.0,>=2.5.0->weaviate-client) (4.12.2)\n",
      "Requirement already satisfied: annotated-types>=0.4.0 in ./gov_env/lib/python3.10/site-packages (from pydantic<3.0.0,>=2.5.0->weaviate-client) (0.7.0)\n",
      "Requirement already satisfied: pydantic-core==2.18.4 in ./gov_env/lib/python3.10/site-packages (from pydantic<3.0.0,>=2.5.0->weaviate-client) (2.18.4)\n",
      "Requirement already satisfied: urllib3<3,>=1.21.1 in ./gov_env/lib/python3.10/site-packages (from requests<3.0.0,>=2.30.0->weaviate-client) (2.2.2)\n",
      "Requirement already satisfied: charset-normalizer<4,>=2 in ./gov_env/lib/python3.10/site-packages (from requests<3.0.0,>=2.30.0->weaviate-client) (3.3.2)\n",
      "Requirement already satisfied: exceptiongroup>=1.0.2 in ./gov_env/lib/python3.10/site-packages (from anyio->httpx<=0.27.0,>=0.25.0->weaviate-client) (1.2.1)\n",
      "Requirement already satisfied: cffi>=1.12 in ./gov_env/lib/python3.10/site-packages (from cryptography->authlib<2.0.0,>=1.2.1->weaviate-client) (1.16.0)\n",
      "Requirement already satisfied: pycparser in ./gov_env/lib/python3.10/site-packages (from cffi>=1.12->cryptography->authlib<2.0.0,>=1.2.1->weaviate-client) (2.22)\n",
      "\n",
      "\u001b[1m[\u001b[0m\u001b[34;49mnotice\u001b[0m\u001b[1;39;49m]\u001b[0m\u001b[39;49m A new release of pip is available: \u001b[0m\u001b[31;49m23.0.1\u001b[0m\u001b[39;49m -> \u001b[0m\u001b[32;49m24.1\u001b[0m\n",
      "\u001b[1m[\u001b[0m\u001b[34;49mnotice\u001b[0m\u001b[1;39;49m]\u001b[0m\u001b[39;49m To update, run: \u001b[0m\u001b[32;49mpip install --upgrade pip\u001b[0m\n",
      "Note: you may need to restart the kernel to use updated packages.\n"
     ]
    }
   ],
   "source": [
    "pip install -U weaviate-client"
   ]
  },
  {
   "cell_type": "code",
   "execution_count": 54,
   "metadata": {},
   "outputs": [
    {
     "name": "stderr",
     "output_type": "stream",
     "text": [
      "huggingface/tokenizers: The current process just got forked, after parallelism has already been used. Disabling parallelism to avoid deadlocks...\n",
      "To disable this warning, you can either:\n",
      "\t- Avoid using `tokenizers` before the fork if possible\n",
      "\t- Explicitly set the environment variable TOKENIZERS_PARALLELISM=(true | false)\n"
     ]
    },
    {
     "name": "stdout",
     "output_type": "stream",
     "text": [
      "Requirement already satisfied: llama-index in ./gov_env/lib/python3.10/site-packages (0.10.49)\n",
      "Requirement already satisfied: llama-hub in ./gov_env/lib/python3.10/site-packages (0.0.79.post1)\n",
      "Requirement already satisfied: llama-index-embeddings-openai<0.2.0,>=0.1.5 in ./gov_env/lib/python3.10/site-packages (from llama-index) (0.1.10)\n",
      "Requirement already satisfied: llama-index-multi-modal-llms-openai<0.2.0,>=0.1.3 in ./gov_env/lib/python3.10/site-packages (from llama-index) (0.1.6)\n",
      "Requirement already satisfied: llama-index-indices-managed-llama-cloud<0.2.0,>=0.1.2 in ./gov_env/lib/python3.10/site-packages (from llama-index) (0.1.6)\n",
      "Requirement already satisfied: llama-index-legacy<0.10.0,>=0.9.48 in ./gov_env/lib/python3.10/site-packages (from llama-index) (0.9.48)\n",
      "Requirement already satisfied: llama-index-readers-file<0.2.0,>=0.1.4 in ./gov_env/lib/python3.10/site-packages (from llama-index) (0.1.25)\n",
      "Requirement already satisfied: llama-index-program-openai<0.2.0,>=0.1.3 in ./gov_env/lib/python3.10/site-packages (from llama-index) (0.1.6)\n",
      "Requirement already satisfied: llama-index-readers-llama-parse<0.2.0,>=0.1.2 in ./gov_env/lib/python3.10/site-packages (from llama-index) (0.1.4)\n",
      "Requirement already satisfied: llama-index-core==0.10.49 in ./gov_env/lib/python3.10/site-packages (from llama-index) (0.10.49)\n",
      "Requirement already satisfied: llama-index-question-gen-openai<0.2.0,>=0.1.2 in ./gov_env/lib/python3.10/site-packages (from llama-index) (0.1.3)\n",
      "Requirement already satisfied: llama-index-cli<0.2.0,>=0.1.2 in ./gov_env/lib/python3.10/site-packages (from llama-index) (0.1.12)\n",
      "Requirement already satisfied: llama-index-agent-openai<0.3.0,>=0.1.4 in ./gov_env/lib/python3.10/site-packages (from llama-index) (0.2.7)\n",
      "Requirement already satisfied: llama-index-llms-openai<0.2.0,>=0.1.13 in ./gov_env/lib/python3.10/site-packages (from llama-index) (0.1.22)\n",
      "Requirement already satisfied: networkx>=3.0 in ./gov_env/lib/python3.10/site-packages (from llama-index-core==0.10.49->llama-index) (3.3)\n",
      "Requirement already satisfied: tiktoken>=0.3.3 in ./gov_env/lib/python3.10/site-packages (from llama-index-core==0.10.49->llama-index) (0.7.0)\n",
      "Requirement already satisfied: dirtyjson<2.0.0,>=1.0.8 in ./gov_env/lib/python3.10/site-packages (from llama-index-core==0.10.49->llama-index) (1.0.8)\n",
      "Requirement already satisfied: deprecated>=1.2.9.3 in ./gov_env/lib/python3.10/site-packages (from llama-index-core==0.10.49->llama-index) (1.2.14)\n",
      "Requirement already satisfied: nest-asyncio<2.0.0,>=1.5.8 in ./gov_env/lib/python3.10/site-packages (from llama-index-core==0.10.49->llama-index) (1.6.0)\n",
      "Requirement already satisfied: httpx in ./gov_env/lib/python3.10/site-packages (from llama-index-core==0.10.49->llama-index) (0.27.0)\n",
      "Requirement already satisfied: openai>=1.1.0 in ./gov_env/lib/python3.10/site-packages (from llama-index-core==0.10.49->llama-index) (1.35.3)\n",
      "Requirement already satisfied: wrapt in ./gov_env/lib/python3.10/site-packages (from llama-index-core==0.10.49->llama-index) (1.16.0)\n",
      "Requirement already satisfied: pillow>=9.0.0 in ./gov_env/lib/python3.10/site-packages (from llama-index-core==0.10.49->llama-index) (10.3.0)\n",
      "Requirement already satisfied: SQLAlchemy[asyncio]>=1.4.49 in ./gov_env/lib/python3.10/site-packages (from llama-index-core==0.10.49->llama-index) (2.0.31)\n",
      "Requirement already satisfied: tqdm<5.0.0,>=4.66.1 in ./gov_env/lib/python3.10/site-packages (from llama-index-core==0.10.49->llama-index) (4.66.4)\n",
      "Requirement already satisfied: requests>=2.31.0 in ./gov_env/lib/python3.10/site-packages (from llama-index-core==0.10.49->llama-index) (2.32.3)\n",
      "Requirement already satisfied: aiohttp<4.0.0,>=3.8.6 in ./gov_env/lib/python3.10/site-packages (from llama-index-core==0.10.49->llama-index) (3.9.5)\n",
      "Requirement already satisfied: numpy<2.0.0 in ./gov_env/lib/python3.10/site-packages (from llama-index-core==0.10.49->llama-index) (1.26.4)\n",
      "Requirement already satisfied: typing-inspect>=0.8.0 in ./gov_env/lib/python3.10/site-packages (from llama-index-core==0.10.49->llama-index) (0.9.0)\n",
      "Requirement already satisfied: llama-cloud<0.0.7,>=0.0.6 in ./gov_env/lib/python3.10/site-packages (from llama-index-core==0.10.49->llama-index) (0.0.6)\n",
      "Requirement already satisfied: dataclasses-json in ./gov_env/lib/python3.10/site-packages (from llama-index-core==0.10.49->llama-index) (0.6.7)\n",
      "Requirement already satisfied: nltk<4.0.0,>=3.8.1 in ./gov_env/lib/python3.10/site-packages (from llama-index-core==0.10.49->llama-index) (3.8.1)\n",
      "Requirement already satisfied: tenacity!=8.4.0,<9.0.0,>=8.2.0 in ./gov_env/lib/python3.10/site-packages (from llama-index-core==0.10.49->llama-index) (8.4.1)\n",
      "Requirement already satisfied: typing-extensions>=4.5.0 in ./gov_env/lib/python3.10/site-packages (from llama-index-core==0.10.49->llama-index) (4.12.2)\n",
      "Requirement already satisfied: pandas in ./gov_env/lib/python3.10/site-packages (from llama-index-core==0.10.49->llama-index) (2.2.2)\n",
      "Requirement already satisfied: fsspec>=2023.5.0 in ./gov_env/lib/python3.10/site-packages (from llama-index-core==0.10.49->llama-index) (2024.5.0)\n",
      "Requirement already satisfied: PyYAML>=6.0.1 in ./gov_env/lib/python3.10/site-packages (from llama-index-core==0.10.49->llama-index) (6.0.1)\n",
      "Requirement already satisfied: pyaml<24.0.0,>=23.9.7 in ./gov_env/lib/python3.10/site-packages (from llama-hub) (23.12.0)\n",
      "Requirement already satisfied: psutil in ./gov_env/lib/python3.10/site-packages (from llama-hub) (6.0.0)\n",
      "Requirement already satisfied: html2text in ./gov_env/lib/python3.10/site-packages (from llama-hub) (2024.2.26)\n",
      "Requirement already satisfied: retrying in ./gov_env/lib/python3.10/site-packages (from llama-hub) (1.3.4)\n",
      "Requirement already satisfied: llamaindex-py-client<0.2.0,>=0.1.19 in ./gov_env/lib/python3.10/site-packages (from llama-index-indices-managed-llama-cloud<0.2.0,>=0.1.2->llama-index) (0.1.19)\n",
      "Requirement already satisfied: pypdf<5.0.0,>=4.0.1 in ./gov_env/lib/python3.10/site-packages (from llama-index-readers-file<0.2.0,>=0.1.4->llama-index) (4.2.0)\n",
      "Requirement already satisfied: beautifulsoup4<5.0.0,>=4.12.3 in ./gov_env/lib/python3.10/site-packages (from llama-index-readers-file<0.2.0,>=0.1.4->llama-index) (4.12.3)\n",
      "Requirement already satisfied: striprtf<0.0.27,>=0.0.26 in ./gov_env/lib/python3.10/site-packages (from llama-index-readers-file<0.2.0,>=0.1.4->llama-index) (0.0.26)\n",
      "Requirement already satisfied: llama-parse<0.5.0,>=0.4.0 in ./gov_env/lib/python3.10/site-packages (from llama-index-readers-llama-parse<0.2.0,>=0.1.2->llama-index) (0.4.4)\n",
      "Requirement already satisfied: six>=1.7.0 in ./gov_env/lib/python3.10/site-packages (from retrying->llama-hub) (1.16.0)\n",
      "Requirement already satisfied: yarl<2.0,>=1.0 in ./gov_env/lib/python3.10/site-packages (from aiohttp<4.0.0,>=3.8.6->llama-index-core==0.10.49->llama-index) (1.9.4)\n",
      "Requirement already satisfied: attrs>=17.3.0 in ./gov_env/lib/python3.10/site-packages (from aiohttp<4.0.0,>=3.8.6->llama-index-core==0.10.49->llama-index) (23.2.0)\n",
      "Requirement already satisfied: frozenlist>=1.1.1 in ./gov_env/lib/python3.10/site-packages (from aiohttp<4.0.0,>=3.8.6->llama-index-core==0.10.49->llama-index) (1.4.1)\n",
      "Requirement already satisfied: aiosignal>=1.1.2 in ./gov_env/lib/python3.10/site-packages (from aiohttp<4.0.0,>=3.8.6->llama-index-core==0.10.49->llama-index) (1.3.1)\n",
      "Requirement already satisfied: async-timeout<5.0,>=4.0 in ./gov_env/lib/python3.10/site-packages (from aiohttp<4.0.0,>=3.8.6->llama-index-core==0.10.49->llama-index) (4.0.3)\n",
      "Requirement already satisfied: multidict<7.0,>=4.5 in ./gov_env/lib/python3.10/site-packages (from aiohttp<4.0.0,>=3.8.6->llama-index-core==0.10.49->llama-index) (6.0.5)\n",
      "Requirement already satisfied: soupsieve>1.2 in ./gov_env/lib/python3.10/site-packages (from beautifulsoup4<5.0.0,>=4.12.3->llama-index-readers-file<0.2.0,>=0.1.4->llama-index) (2.5)\n",
      "Requirement already satisfied: pydantic>=1.10 in ./gov_env/lib/python3.10/site-packages (from llama-cloud<0.0.7,>=0.0.6->llama-index-core==0.10.49->llama-index) (2.7.4)\n",
      "Requirement already satisfied: sniffio in ./gov_env/lib/python3.10/site-packages (from httpx->llama-index-core==0.10.49->llama-index) (1.3.1)\n",
      "Requirement already satisfied: certifi in ./gov_env/lib/python3.10/site-packages (from httpx->llama-index-core==0.10.49->llama-index) (2024.6.2)\n",
      "Requirement already satisfied: httpcore==1.* in ./gov_env/lib/python3.10/site-packages (from httpx->llama-index-core==0.10.49->llama-index) (1.0.5)\n",
      "Requirement already satisfied: idna in ./gov_env/lib/python3.10/site-packages (from httpx->llama-index-core==0.10.49->llama-index) (3.7)\n",
      "Requirement already satisfied: anyio in ./gov_env/lib/python3.10/site-packages (from httpx->llama-index-core==0.10.49->llama-index) (4.4.0)\n",
      "Requirement already satisfied: h11<0.15,>=0.13 in ./gov_env/lib/python3.10/site-packages (from httpcore==1.*->httpx->llama-index-core==0.10.49->llama-index) (0.14.0)\n",
      "Requirement already satisfied: joblib in ./gov_env/lib/python3.10/site-packages (from nltk<4.0.0,>=3.8.1->llama-index-core==0.10.49->llama-index) (1.4.2)\n",
      "Requirement already satisfied: regex>=2021.8.3 in ./gov_env/lib/python3.10/site-packages (from nltk<4.0.0,>=3.8.1->llama-index-core==0.10.49->llama-index) (2024.5.15)\n",
      "Requirement already satisfied: click in ./gov_env/lib/python3.10/site-packages (from nltk<4.0.0,>=3.8.1->llama-index-core==0.10.49->llama-index) (8.1.7)\n",
      "Requirement already satisfied: distro<2,>=1.7.0 in ./gov_env/lib/python3.10/site-packages (from openai>=1.1.0->llama-index-core==0.10.49->llama-index) (1.9.0)\n",
      "Requirement already satisfied: charset-normalizer<4,>=2 in ./gov_env/lib/python3.10/site-packages (from requests>=2.31.0->llama-index-core==0.10.49->llama-index) (3.3.2)\n",
      "Requirement already satisfied: urllib3<3,>=1.21.1 in ./gov_env/lib/python3.10/site-packages (from requests>=2.31.0->llama-index-core==0.10.49->llama-index) (2.2.2)\n",
      "Requirement already satisfied: greenlet!=0.4.17 in ./gov_env/lib/python3.10/site-packages (from SQLAlchemy[asyncio]>=1.4.49->llama-index-core==0.10.49->llama-index) (3.0.3)\n",
      "Requirement already satisfied: mypy-extensions>=0.3.0 in ./gov_env/lib/python3.10/site-packages (from typing-inspect>=0.8.0->llama-index-core==0.10.49->llama-index) (1.0.0)\n",
      "Requirement already satisfied: marshmallow<4.0.0,>=3.18.0 in ./gov_env/lib/python3.10/site-packages (from dataclasses-json->llama-index-core==0.10.49->llama-index) (3.21.3)\n",
      "Requirement already satisfied: tzdata>=2022.7 in ./gov_env/lib/python3.10/site-packages (from pandas->llama-index-core==0.10.49->llama-index) (2024.1)\n",
      "Requirement already satisfied: pytz>=2020.1 in ./gov_env/lib/python3.10/site-packages (from pandas->llama-index-core==0.10.49->llama-index) (2024.1)\n",
      "Requirement already satisfied: python-dateutil>=2.8.2 in ./gov_env/lib/python3.10/site-packages (from pandas->llama-index-core==0.10.49->llama-index) (2.9.0.post0)\n",
      "Requirement already satisfied: exceptiongroup>=1.0.2 in ./gov_env/lib/python3.10/site-packages (from anyio->httpx->llama-index-core==0.10.49->llama-index) (1.2.1)\n",
      "Requirement already satisfied: packaging>=17.0 in ./gov_env/lib/python3.10/site-packages (from marshmallow<4.0.0,>=3.18.0->dataclasses-json->llama-index-core==0.10.49->llama-index) (24.1)\n",
      "Requirement already satisfied: pydantic-core==2.18.4 in ./gov_env/lib/python3.10/site-packages (from pydantic>=1.10->llama-cloud<0.0.7,>=0.0.6->llama-index-core==0.10.49->llama-index) (2.18.4)\n",
      "Requirement already satisfied: annotated-types>=0.4.0 in ./gov_env/lib/python3.10/site-packages (from pydantic>=1.10->llama-cloud<0.0.7,>=0.0.6->llama-index-core==0.10.49->llama-index) (0.7.0)\n",
      "\n",
      "\u001b[1m[\u001b[0m\u001b[34;49mnotice\u001b[0m\u001b[1;39;49m]\u001b[0m\u001b[39;49m A new release of pip is available: \u001b[0m\u001b[31;49m23.0.1\u001b[0m\u001b[39;49m -> \u001b[0m\u001b[32;49m24.1\u001b[0m\n",
      "\u001b[1m[\u001b[0m\u001b[34;49mnotice\u001b[0m\u001b[1;39;49m]\u001b[0m\u001b[39;49m To update, run: \u001b[0m\u001b[32;49mpip install --upgrade pip\u001b[0m\n",
      "Note: you may need to restart the kernel to use updated packages.\n"
     ]
    }
   ],
   "source": [
    "pip install llama-index llama-hub"
   ]
  },
  {
   "cell_type": "markdown",
   "metadata": {},
   "source": [
    "populate index from csv doc "
   ]
  },
  {
   "cell_type": "code",
   "execution_count": 55,
   "metadata": {},
   "outputs": [
    {
     "name": "stderr",
     "output_type": "stream",
     "text": [
      "WARNI [phoenix.session.session] Existing running Phoenix instance detected! Shutting it down and starting a new instance...\n",
      "/Users/haiyangliu/.pyenv/versions/3.10.14/lib/python3.10/asyncio/base_events.py:688: ResourceWarning: unclosed event loop <_UnixSelectorEventLoop running=False closed=False debug=False>\n",
      "  _warn(f\"unclosed event loop {self!r}\", ResourceWarning, source=self)\n",
      "ResourceWarning: Enable tracemalloc to get the object allocation traceback\n",
      "/Users/haiyangliu/Workspace/gov_opportunity_new/gov_env/lib/python3.10/site-packages/phoenix/server/app.py:172: DeprecationWarning: The `graphiql` argument is deprecated in favor of `graphql_ide`\n",
      "  super().__init__(schema, graphiql=graphiql)\n"
     ]
    },
    {
     "name": "stdout",
     "output_type": "stream",
     "text": [
      "🌍 To view the Phoenix app in your browser, visit http://localhost:6006/\n",
      "📖 For more information on how to use Phoenix, check out https://docs.arize.com/phoenix\n"
     ]
    }
   ],
   "source": [
    "# setup Arize Phoenix for logging/observability\n",
    "import phoenix as px\n",
    "import llama_index.core\n",
    "\n",
    "px.launch_app()\n",
    "llama_index.core.set_global_handler(\"arize_phoenix\")"
   ]
  },
  {
   "cell_type": "code",
   "execution_count": 56,
   "metadata": {},
   "outputs": [],
   "source": [
    "import os\n",
    "import json \n",
    "import openai\n",
    "\n",
    "with open('openai.secret.json', 'r') as file:\n",
    "    secret = json.load(file)\n",
    "    os.environ[\"OPENAI_API_KEY\"] = secret['secret']\n",
    "    openai.api_key = os.environ[\"OPENAI_API_KEY\"]"
   ]
  },
  {
   "cell_type": "code",
   "execution_count": 57,
   "metadata": {},
   "outputs": [
    {
     "name": "stderr",
     "output_type": "stream",
     "text": [
      "huggingface/tokenizers: The current process just got forked, after parallelism has already been used. Disabling parallelism to avoid deadlocks...\n",
      "To disable this warning, you can either:\n",
      "\t- Avoid using `tokenizers` before the fork if possible\n",
      "\t- Explicitly set the environment variable TOKENIZERS_PARALLELISM=(true | false)\n"
     ]
    },
    {
     "name": "stdout",
     "output_type": "stream",
     "text": [
      "Requirement already satisfied: llama-index-llms-huggingface in ./gov_env/lib/python3.10/site-packages (0.2.3)\n",
      "Requirement already satisfied: transformers[torch]<5.0.0,>=4.37.0 in ./gov_env/lib/python3.10/site-packages (from llama-index-llms-huggingface) (4.41.2)\n",
      "Requirement already satisfied: huggingface-hub<0.24.0,>=0.23.0 in ./gov_env/lib/python3.10/site-packages (from llama-index-llms-huggingface) (0.23.4)\n",
      "Requirement already satisfied: torch<3.0.0,>=2.1.2 in ./gov_env/lib/python3.10/site-packages (from llama-index-llms-huggingface) (2.3.1)\n",
      "Requirement already satisfied: text-generation<0.8.0,>=0.7.0 in ./gov_env/lib/python3.10/site-packages (from llama-index-llms-huggingface) (0.7.0)\n",
      "Requirement already satisfied: llama-index-core<0.11.0,>=0.10.41 in ./gov_env/lib/python3.10/site-packages (from llama-index-llms-huggingface) (0.10.49)\n",
      "Requirement already satisfied: tqdm>=4.42.1 in ./gov_env/lib/python3.10/site-packages (from huggingface-hub<0.24.0,>=0.23.0->llama-index-llms-huggingface) (4.66.4)\n",
      "Requirement already satisfied: packaging>=20.9 in ./gov_env/lib/python3.10/site-packages (from huggingface-hub<0.24.0,>=0.23.0->llama-index-llms-huggingface) (24.1)\n",
      "Requirement already satisfied: filelock in ./gov_env/lib/python3.10/site-packages (from huggingface-hub<0.24.0,>=0.23.0->llama-index-llms-huggingface) (3.15.4)\n",
      "Requirement already satisfied: pyyaml>=5.1 in ./gov_env/lib/python3.10/site-packages (from huggingface-hub<0.24.0,>=0.23.0->llama-index-llms-huggingface) (6.0.1)\n",
      "Requirement already satisfied: fsspec>=2023.5.0 in ./gov_env/lib/python3.10/site-packages (from huggingface-hub<0.24.0,>=0.23.0->llama-index-llms-huggingface) (2024.5.0)\n",
      "Requirement already satisfied: requests in ./gov_env/lib/python3.10/site-packages (from huggingface-hub<0.24.0,>=0.23.0->llama-index-llms-huggingface) (2.32.3)\n",
      "Requirement already satisfied: typing-extensions>=3.7.4.3 in ./gov_env/lib/python3.10/site-packages (from huggingface-hub<0.24.0,>=0.23.0->llama-index-llms-huggingface) (4.12.2)\n",
      "Requirement already satisfied: aiohttp<4.0.0,>=3.8.6 in ./gov_env/lib/python3.10/site-packages (from llama-index-core<0.11.0,>=0.10.41->llama-index-llms-huggingface) (3.9.5)\n",
      "Requirement already satisfied: tiktoken>=0.3.3 in ./gov_env/lib/python3.10/site-packages (from llama-index-core<0.11.0,>=0.10.41->llama-index-llms-huggingface) (0.7.0)\n",
      "Requirement already satisfied: llama-cloud<0.0.7,>=0.0.6 in ./gov_env/lib/python3.10/site-packages (from llama-index-core<0.11.0,>=0.10.41->llama-index-llms-huggingface) (0.0.6)\n",
      "Requirement already satisfied: typing-inspect>=0.8.0 in ./gov_env/lib/python3.10/site-packages (from llama-index-core<0.11.0,>=0.10.41->llama-index-llms-huggingface) (0.9.0)\n",
      "Requirement already satisfied: openai>=1.1.0 in ./gov_env/lib/python3.10/site-packages (from llama-index-core<0.11.0,>=0.10.41->llama-index-llms-huggingface) (1.35.3)\n",
      "Requirement already satisfied: deprecated>=1.2.9.3 in ./gov_env/lib/python3.10/site-packages (from llama-index-core<0.11.0,>=0.10.41->llama-index-llms-huggingface) (1.2.14)\n",
      "Requirement already satisfied: dirtyjson<2.0.0,>=1.0.8 in ./gov_env/lib/python3.10/site-packages (from llama-index-core<0.11.0,>=0.10.41->llama-index-llms-huggingface) (1.0.8)\n",
      "Requirement already satisfied: nest-asyncio<2.0.0,>=1.5.8 in ./gov_env/lib/python3.10/site-packages (from llama-index-core<0.11.0,>=0.10.41->llama-index-llms-huggingface) (1.6.0)\n",
      "Requirement already satisfied: networkx>=3.0 in ./gov_env/lib/python3.10/site-packages (from llama-index-core<0.11.0,>=0.10.41->llama-index-llms-huggingface) (3.3)\n",
      "Requirement already satisfied: wrapt in ./gov_env/lib/python3.10/site-packages (from llama-index-core<0.11.0,>=0.10.41->llama-index-llms-huggingface) (1.16.0)\n",
      "Requirement already satisfied: pillow>=9.0.0 in ./gov_env/lib/python3.10/site-packages (from llama-index-core<0.11.0,>=0.10.41->llama-index-llms-huggingface) (10.3.0)\n",
      "Requirement already satisfied: pandas in ./gov_env/lib/python3.10/site-packages (from llama-index-core<0.11.0,>=0.10.41->llama-index-llms-huggingface) (2.2.2)\n",
      "Requirement already satisfied: numpy<2.0.0 in ./gov_env/lib/python3.10/site-packages (from llama-index-core<0.11.0,>=0.10.41->llama-index-llms-huggingface) (1.26.4)\n",
      "Requirement already satisfied: httpx in ./gov_env/lib/python3.10/site-packages (from llama-index-core<0.11.0,>=0.10.41->llama-index-llms-huggingface) (0.27.0)\n",
      "Requirement already satisfied: dataclasses-json in ./gov_env/lib/python3.10/site-packages (from llama-index-core<0.11.0,>=0.10.41->llama-index-llms-huggingface) (0.6.7)\n",
      "Requirement already satisfied: tenacity!=8.4.0,<9.0.0,>=8.2.0 in ./gov_env/lib/python3.10/site-packages (from llama-index-core<0.11.0,>=0.10.41->llama-index-llms-huggingface) (8.4.1)\n",
      "Requirement already satisfied: SQLAlchemy[asyncio]>=1.4.49 in ./gov_env/lib/python3.10/site-packages (from llama-index-core<0.11.0,>=0.10.41->llama-index-llms-huggingface) (2.0.31)\n",
      "Requirement already satisfied: nltk<4.0.0,>=3.8.1 in ./gov_env/lib/python3.10/site-packages (from llama-index-core<0.11.0,>=0.10.41->llama-index-llms-huggingface) (3.8.1)\n",
      "Requirement already satisfied: pydantic<3,>2 in ./gov_env/lib/python3.10/site-packages (from text-generation<0.8.0,>=0.7.0->llama-index-llms-huggingface) (2.7.4)\n",
      "Requirement already satisfied: jinja2 in ./gov_env/lib/python3.10/site-packages (from torch<3.0.0,>=2.1.2->llama-index-llms-huggingface) (3.1.4)\n",
      "Requirement already satisfied: sympy in ./gov_env/lib/python3.10/site-packages (from torch<3.0.0,>=2.1.2->llama-index-llms-huggingface) (1.12.1)\n",
      "Requirement already satisfied: regex!=2019.12.17 in ./gov_env/lib/python3.10/site-packages (from transformers[torch]<5.0.0,>=4.37.0->llama-index-llms-huggingface) (2024.5.15)\n",
      "Requirement already satisfied: safetensors>=0.4.1 in ./gov_env/lib/python3.10/site-packages (from transformers[torch]<5.0.0,>=4.37.0->llama-index-llms-huggingface) (0.4.3)\n",
      "Requirement already satisfied: tokenizers<0.20,>=0.19 in ./gov_env/lib/python3.10/site-packages (from transformers[torch]<5.0.0,>=4.37.0->llama-index-llms-huggingface) (0.19.1)\n",
      "Requirement already satisfied: accelerate>=0.21.0 in ./gov_env/lib/python3.10/site-packages (from transformers[torch]<5.0.0,>=4.37.0->llama-index-llms-huggingface) (0.31.0)\n",
      "Requirement already satisfied: psutil in ./gov_env/lib/python3.10/site-packages (from accelerate>=0.21.0->transformers[torch]<5.0.0,>=4.37.0->llama-index-llms-huggingface) (6.0.0)\n",
      "Requirement already satisfied: yarl<2.0,>=1.0 in ./gov_env/lib/python3.10/site-packages (from aiohttp<4.0.0,>=3.8.6->llama-index-core<0.11.0,>=0.10.41->llama-index-llms-huggingface) (1.9.4)\n",
      "Requirement already satisfied: multidict<7.0,>=4.5 in ./gov_env/lib/python3.10/site-packages (from aiohttp<4.0.0,>=3.8.6->llama-index-core<0.11.0,>=0.10.41->llama-index-llms-huggingface) (6.0.5)\n",
      "Requirement already satisfied: async-timeout<5.0,>=4.0 in ./gov_env/lib/python3.10/site-packages (from aiohttp<4.0.0,>=3.8.6->llama-index-core<0.11.0,>=0.10.41->llama-index-llms-huggingface) (4.0.3)\n",
      "Requirement already satisfied: aiosignal>=1.1.2 in ./gov_env/lib/python3.10/site-packages (from aiohttp<4.0.0,>=3.8.6->llama-index-core<0.11.0,>=0.10.41->llama-index-llms-huggingface) (1.3.1)\n",
      "Requirement already satisfied: attrs>=17.3.0 in ./gov_env/lib/python3.10/site-packages (from aiohttp<4.0.0,>=3.8.6->llama-index-core<0.11.0,>=0.10.41->llama-index-llms-huggingface) (23.2.0)\n",
      "Requirement already satisfied: frozenlist>=1.1.1 in ./gov_env/lib/python3.10/site-packages (from aiohttp<4.0.0,>=3.8.6->llama-index-core<0.11.0,>=0.10.41->llama-index-llms-huggingface) (1.4.1)\n",
      "Requirement already satisfied: sniffio in ./gov_env/lib/python3.10/site-packages (from httpx->llama-index-core<0.11.0,>=0.10.41->llama-index-llms-huggingface) (1.3.1)\n",
      "Requirement already satisfied: idna in ./gov_env/lib/python3.10/site-packages (from httpx->llama-index-core<0.11.0,>=0.10.41->llama-index-llms-huggingface) (3.7)\n",
      "Requirement already satisfied: anyio in ./gov_env/lib/python3.10/site-packages (from httpx->llama-index-core<0.11.0,>=0.10.41->llama-index-llms-huggingface) (4.4.0)\n",
      "Requirement already satisfied: httpcore==1.* in ./gov_env/lib/python3.10/site-packages (from httpx->llama-index-core<0.11.0,>=0.10.41->llama-index-llms-huggingface) (1.0.5)\n",
      "Requirement already satisfied: certifi in ./gov_env/lib/python3.10/site-packages (from httpx->llama-index-core<0.11.0,>=0.10.41->llama-index-llms-huggingface) (2024.6.2)\n",
      "Requirement already satisfied: h11<0.15,>=0.13 in ./gov_env/lib/python3.10/site-packages (from httpcore==1.*->httpx->llama-index-core<0.11.0,>=0.10.41->llama-index-llms-huggingface) (0.14.0)\n",
      "Requirement already satisfied: click in ./gov_env/lib/python3.10/site-packages (from nltk<4.0.0,>=3.8.1->llama-index-core<0.11.0,>=0.10.41->llama-index-llms-huggingface) (8.1.7)\n",
      "Requirement already satisfied: joblib in ./gov_env/lib/python3.10/site-packages (from nltk<4.0.0,>=3.8.1->llama-index-core<0.11.0,>=0.10.41->llama-index-llms-huggingface) (1.4.2)\n",
      "Requirement already satisfied: distro<2,>=1.7.0 in ./gov_env/lib/python3.10/site-packages (from openai>=1.1.0->llama-index-core<0.11.0,>=0.10.41->llama-index-llms-huggingface) (1.9.0)\n",
      "Requirement already satisfied: annotated-types>=0.4.0 in ./gov_env/lib/python3.10/site-packages (from pydantic<3,>2->text-generation<0.8.0,>=0.7.0->llama-index-llms-huggingface) (0.7.0)\n",
      "Requirement already satisfied: pydantic-core==2.18.4 in ./gov_env/lib/python3.10/site-packages (from pydantic<3,>2->text-generation<0.8.0,>=0.7.0->llama-index-llms-huggingface) (2.18.4)\n",
      "Requirement already satisfied: urllib3<3,>=1.21.1 in ./gov_env/lib/python3.10/site-packages (from requests->huggingface-hub<0.24.0,>=0.23.0->llama-index-llms-huggingface) (2.2.2)\n",
      "Requirement already satisfied: charset-normalizer<4,>=2 in ./gov_env/lib/python3.10/site-packages (from requests->huggingface-hub<0.24.0,>=0.23.0->llama-index-llms-huggingface) (3.3.2)\n",
      "Requirement already satisfied: greenlet!=0.4.17 in ./gov_env/lib/python3.10/site-packages (from SQLAlchemy[asyncio]>=1.4.49->llama-index-core<0.11.0,>=0.10.41->llama-index-llms-huggingface) (3.0.3)\n",
      "Requirement already satisfied: mypy-extensions>=0.3.0 in ./gov_env/lib/python3.10/site-packages (from typing-inspect>=0.8.0->llama-index-core<0.11.0,>=0.10.41->llama-index-llms-huggingface) (1.0.0)\n",
      "Requirement already satisfied: marshmallow<4.0.0,>=3.18.0 in ./gov_env/lib/python3.10/site-packages (from dataclasses-json->llama-index-core<0.11.0,>=0.10.41->llama-index-llms-huggingface) (3.21.3)\n",
      "Requirement already satisfied: MarkupSafe>=2.0 in ./gov_env/lib/python3.10/site-packages (from jinja2->torch<3.0.0,>=2.1.2->llama-index-llms-huggingface) (2.1.5)\n",
      "Requirement already satisfied: tzdata>=2022.7 in ./gov_env/lib/python3.10/site-packages (from pandas->llama-index-core<0.11.0,>=0.10.41->llama-index-llms-huggingface) (2024.1)\n",
      "Requirement already satisfied: pytz>=2020.1 in ./gov_env/lib/python3.10/site-packages (from pandas->llama-index-core<0.11.0,>=0.10.41->llama-index-llms-huggingface) (2024.1)\n",
      "Requirement already satisfied: python-dateutil>=2.8.2 in ./gov_env/lib/python3.10/site-packages (from pandas->llama-index-core<0.11.0,>=0.10.41->llama-index-llms-huggingface) (2.9.0.post0)\n",
      "Requirement already satisfied: mpmath<1.4.0,>=1.1.0 in ./gov_env/lib/python3.10/site-packages (from sympy->torch<3.0.0,>=2.1.2->llama-index-llms-huggingface) (1.3.0)\n",
      "Requirement already satisfied: exceptiongroup>=1.0.2 in ./gov_env/lib/python3.10/site-packages (from anyio->httpx->llama-index-core<0.11.0,>=0.10.41->llama-index-llms-huggingface) (1.2.1)\n",
      "Requirement already satisfied: six>=1.5 in ./gov_env/lib/python3.10/site-packages (from python-dateutil>=2.8.2->pandas->llama-index-core<0.11.0,>=0.10.41->llama-index-llms-huggingface) (1.16.0)\n",
      "\n",
      "\u001b[1m[\u001b[0m\u001b[34;49mnotice\u001b[0m\u001b[1;39;49m]\u001b[0m\u001b[39;49m A new release of pip is available: \u001b[0m\u001b[31;49m23.0.1\u001b[0m\u001b[39;49m -> \u001b[0m\u001b[32;49m24.1\u001b[0m\n",
      "\u001b[1m[\u001b[0m\u001b[34;49mnotice\u001b[0m\u001b[1;39;49m]\u001b[0m\u001b[39;49m To update, run: \u001b[0m\u001b[32;49mpip install --upgrade pip\u001b[0m\n",
      "Note: you may need to restart the kernel to use updated packages.\n"
     ]
    }
   ],
   "source": [
    "pip install llama-index-llms-huggingface"
   ]
  },
  {
   "cell_type": "code",
   "execution_count": 58,
   "metadata": {},
   "outputs": [
    {
     "name": "stderr",
     "output_type": "stream",
     "text": [
      "huggingface/tokenizers: The current process just got forked, after parallelism has already been used. Disabling parallelism to avoid deadlocks...\n",
      "To disable this warning, you can either:\n",
      "\t- Avoid using `tokenizers` before the fork if possible\n",
      "\t- Explicitly set the environment variable TOKENIZERS_PARALLELISM=(true | false)\n"
     ]
    },
    {
     "name": "stdout",
     "output_type": "stream",
     "text": [
      "Requirement already satisfied: llama-index-llms-huggingface-api in ./gov_env/lib/python3.10/site-packages (0.1.0)\n",
      "Requirement already satisfied: huggingface-hub<0.24.0,>=0.23.0 in ./gov_env/lib/python3.10/site-packages (from llama-index-llms-huggingface-api) (0.23.4)\n",
      "Requirement already satisfied: llama-index-core<0.11.0,>=0.10.41 in ./gov_env/lib/python3.10/site-packages (from llama-index-llms-huggingface-api) (0.10.49)\n",
      "Requirement already satisfied: requests in ./gov_env/lib/python3.10/site-packages (from huggingface-hub<0.24.0,>=0.23.0->llama-index-llms-huggingface-api) (2.32.3)\n",
      "Requirement already satisfied: fsspec>=2023.5.0 in ./gov_env/lib/python3.10/site-packages (from huggingface-hub<0.24.0,>=0.23.0->llama-index-llms-huggingface-api) (2024.5.0)\n",
      "Requirement already satisfied: tqdm>=4.42.1 in ./gov_env/lib/python3.10/site-packages (from huggingface-hub<0.24.0,>=0.23.0->llama-index-llms-huggingface-api) (4.66.4)\n",
      "Requirement already satisfied: typing-extensions>=3.7.4.3 in ./gov_env/lib/python3.10/site-packages (from huggingface-hub<0.24.0,>=0.23.0->llama-index-llms-huggingface-api) (4.12.2)\n",
      "Requirement already satisfied: packaging>=20.9 in ./gov_env/lib/python3.10/site-packages (from huggingface-hub<0.24.0,>=0.23.0->llama-index-llms-huggingface-api) (24.1)\n",
      "Requirement already satisfied: filelock in ./gov_env/lib/python3.10/site-packages (from huggingface-hub<0.24.0,>=0.23.0->llama-index-llms-huggingface-api) (3.15.4)\n",
      "Requirement already satisfied: pyyaml>=5.1 in ./gov_env/lib/python3.10/site-packages (from huggingface-hub<0.24.0,>=0.23.0->llama-index-llms-huggingface-api) (6.0.1)\n",
      "Requirement already satisfied: llama-cloud<0.0.7,>=0.0.6 in ./gov_env/lib/python3.10/site-packages (from llama-index-core<0.11.0,>=0.10.41->llama-index-llms-huggingface-api) (0.0.6)\n",
      "Requirement already satisfied: dirtyjson<2.0.0,>=1.0.8 in ./gov_env/lib/python3.10/site-packages (from llama-index-core<0.11.0,>=0.10.41->llama-index-llms-huggingface-api) (1.0.8)\n",
      "Requirement already satisfied: wrapt in ./gov_env/lib/python3.10/site-packages (from llama-index-core<0.11.0,>=0.10.41->llama-index-llms-huggingface-api) (1.16.0)\n",
      "Requirement already satisfied: nest-asyncio<2.0.0,>=1.5.8 in ./gov_env/lib/python3.10/site-packages (from llama-index-core<0.11.0,>=0.10.41->llama-index-llms-huggingface-api) (1.6.0)\n",
      "Requirement already satisfied: typing-inspect>=0.8.0 in ./gov_env/lib/python3.10/site-packages (from llama-index-core<0.11.0,>=0.10.41->llama-index-llms-huggingface-api) (0.9.0)\n",
      "Requirement already satisfied: nltk<4.0.0,>=3.8.1 in ./gov_env/lib/python3.10/site-packages (from llama-index-core<0.11.0,>=0.10.41->llama-index-llms-huggingface-api) (3.8.1)\n",
      "Requirement already satisfied: deprecated>=1.2.9.3 in ./gov_env/lib/python3.10/site-packages (from llama-index-core<0.11.0,>=0.10.41->llama-index-llms-huggingface-api) (1.2.14)\n",
      "Requirement already satisfied: tenacity!=8.4.0,<9.0.0,>=8.2.0 in ./gov_env/lib/python3.10/site-packages (from llama-index-core<0.11.0,>=0.10.41->llama-index-llms-huggingface-api) (8.4.1)\n",
      "Requirement already satisfied: pandas in ./gov_env/lib/python3.10/site-packages (from llama-index-core<0.11.0,>=0.10.41->llama-index-llms-huggingface-api) (2.2.2)\n",
      "Requirement already satisfied: SQLAlchemy[asyncio]>=1.4.49 in ./gov_env/lib/python3.10/site-packages (from llama-index-core<0.11.0,>=0.10.41->llama-index-llms-huggingface-api) (2.0.31)\n",
      "Requirement already satisfied: aiohttp<4.0.0,>=3.8.6 in ./gov_env/lib/python3.10/site-packages (from llama-index-core<0.11.0,>=0.10.41->llama-index-llms-huggingface-api) (3.9.5)\n",
      "Requirement already satisfied: dataclasses-json in ./gov_env/lib/python3.10/site-packages (from llama-index-core<0.11.0,>=0.10.41->llama-index-llms-huggingface-api) (0.6.7)\n",
      "Requirement already satisfied: pillow>=9.0.0 in ./gov_env/lib/python3.10/site-packages (from llama-index-core<0.11.0,>=0.10.41->llama-index-llms-huggingface-api) (10.3.0)\n",
      "Requirement already satisfied: networkx>=3.0 in ./gov_env/lib/python3.10/site-packages (from llama-index-core<0.11.0,>=0.10.41->llama-index-llms-huggingface-api) (3.3)\n",
      "Requirement already satisfied: openai>=1.1.0 in ./gov_env/lib/python3.10/site-packages (from llama-index-core<0.11.0,>=0.10.41->llama-index-llms-huggingface-api) (1.35.3)\n",
      "Requirement already satisfied: httpx in ./gov_env/lib/python3.10/site-packages (from llama-index-core<0.11.0,>=0.10.41->llama-index-llms-huggingface-api) (0.27.0)\n",
      "Requirement already satisfied: tiktoken>=0.3.3 in ./gov_env/lib/python3.10/site-packages (from llama-index-core<0.11.0,>=0.10.41->llama-index-llms-huggingface-api) (0.7.0)\n",
      "Requirement already satisfied: numpy<2.0.0 in ./gov_env/lib/python3.10/site-packages (from llama-index-core<0.11.0,>=0.10.41->llama-index-llms-huggingface-api) (1.26.4)\n",
      "Requirement already satisfied: yarl<2.0,>=1.0 in ./gov_env/lib/python3.10/site-packages (from aiohttp<4.0.0,>=3.8.6->llama-index-core<0.11.0,>=0.10.41->llama-index-llms-huggingface-api) (1.9.4)\n",
      "Requirement already satisfied: frozenlist>=1.1.1 in ./gov_env/lib/python3.10/site-packages (from aiohttp<4.0.0,>=3.8.6->llama-index-core<0.11.0,>=0.10.41->llama-index-llms-huggingface-api) (1.4.1)\n",
      "Requirement already satisfied: aiosignal>=1.1.2 in ./gov_env/lib/python3.10/site-packages (from aiohttp<4.0.0,>=3.8.6->llama-index-core<0.11.0,>=0.10.41->llama-index-llms-huggingface-api) (1.3.1)\n",
      "Requirement already satisfied: attrs>=17.3.0 in ./gov_env/lib/python3.10/site-packages (from aiohttp<4.0.0,>=3.8.6->llama-index-core<0.11.0,>=0.10.41->llama-index-llms-huggingface-api) (23.2.0)\n",
      "Requirement already satisfied: multidict<7.0,>=4.5 in ./gov_env/lib/python3.10/site-packages (from aiohttp<4.0.0,>=3.8.6->llama-index-core<0.11.0,>=0.10.41->llama-index-llms-huggingface-api) (6.0.5)\n",
      "Requirement already satisfied: async-timeout<5.0,>=4.0 in ./gov_env/lib/python3.10/site-packages (from aiohttp<4.0.0,>=3.8.6->llama-index-core<0.11.0,>=0.10.41->llama-index-llms-huggingface-api) (4.0.3)\n",
      "Requirement already satisfied: pydantic>=1.10 in ./gov_env/lib/python3.10/site-packages (from llama-cloud<0.0.7,>=0.0.6->llama-index-core<0.11.0,>=0.10.41->llama-index-llms-huggingface-api) (2.7.4)\n",
      "Requirement already satisfied: httpcore==1.* in ./gov_env/lib/python3.10/site-packages (from httpx->llama-index-core<0.11.0,>=0.10.41->llama-index-llms-huggingface-api) (1.0.5)\n",
      "Requirement already satisfied: certifi in ./gov_env/lib/python3.10/site-packages (from httpx->llama-index-core<0.11.0,>=0.10.41->llama-index-llms-huggingface-api) (2024.6.2)\n",
      "Requirement already satisfied: anyio in ./gov_env/lib/python3.10/site-packages (from httpx->llama-index-core<0.11.0,>=0.10.41->llama-index-llms-huggingface-api) (4.4.0)\n",
      "Requirement already satisfied: idna in ./gov_env/lib/python3.10/site-packages (from httpx->llama-index-core<0.11.0,>=0.10.41->llama-index-llms-huggingface-api) (3.7)\n",
      "Requirement already satisfied: sniffio in ./gov_env/lib/python3.10/site-packages (from httpx->llama-index-core<0.11.0,>=0.10.41->llama-index-llms-huggingface-api) (1.3.1)\n",
      "Requirement already satisfied: h11<0.15,>=0.13 in ./gov_env/lib/python3.10/site-packages (from httpcore==1.*->httpx->llama-index-core<0.11.0,>=0.10.41->llama-index-llms-huggingface-api) (0.14.0)\n",
      "Requirement already satisfied: regex>=2021.8.3 in ./gov_env/lib/python3.10/site-packages (from nltk<4.0.0,>=3.8.1->llama-index-core<0.11.0,>=0.10.41->llama-index-llms-huggingface-api) (2024.5.15)\n",
      "Requirement already satisfied: click in ./gov_env/lib/python3.10/site-packages (from nltk<4.0.0,>=3.8.1->llama-index-core<0.11.0,>=0.10.41->llama-index-llms-huggingface-api) (8.1.7)\n",
      "Requirement already satisfied: joblib in ./gov_env/lib/python3.10/site-packages (from nltk<4.0.0,>=3.8.1->llama-index-core<0.11.0,>=0.10.41->llama-index-llms-huggingface-api) (1.4.2)\n",
      "Requirement already satisfied: distro<2,>=1.7.0 in ./gov_env/lib/python3.10/site-packages (from openai>=1.1.0->llama-index-core<0.11.0,>=0.10.41->llama-index-llms-huggingface-api) (1.9.0)\n",
      "Requirement already satisfied: urllib3<3,>=1.21.1 in ./gov_env/lib/python3.10/site-packages (from requests->huggingface-hub<0.24.0,>=0.23.0->llama-index-llms-huggingface-api) (2.2.2)\n",
      "Requirement already satisfied: charset-normalizer<4,>=2 in ./gov_env/lib/python3.10/site-packages (from requests->huggingface-hub<0.24.0,>=0.23.0->llama-index-llms-huggingface-api) (3.3.2)\n",
      "Requirement already satisfied: greenlet!=0.4.17 in ./gov_env/lib/python3.10/site-packages (from SQLAlchemy[asyncio]>=1.4.49->llama-index-core<0.11.0,>=0.10.41->llama-index-llms-huggingface-api) (3.0.3)\n",
      "Requirement already satisfied: mypy-extensions>=0.3.0 in ./gov_env/lib/python3.10/site-packages (from typing-inspect>=0.8.0->llama-index-core<0.11.0,>=0.10.41->llama-index-llms-huggingface-api) (1.0.0)\n",
      "Requirement already satisfied: marshmallow<4.0.0,>=3.18.0 in ./gov_env/lib/python3.10/site-packages (from dataclasses-json->llama-index-core<0.11.0,>=0.10.41->llama-index-llms-huggingface-api) (3.21.3)\n",
      "Requirement already satisfied: pytz>=2020.1 in ./gov_env/lib/python3.10/site-packages (from pandas->llama-index-core<0.11.0,>=0.10.41->llama-index-llms-huggingface-api) (2024.1)\n",
      "Requirement already satisfied: tzdata>=2022.7 in ./gov_env/lib/python3.10/site-packages (from pandas->llama-index-core<0.11.0,>=0.10.41->llama-index-llms-huggingface-api) (2024.1)\n",
      "Requirement already satisfied: python-dateutil>=2.8.2 in ./gov_env/lib/python3.10/site-packages (from pandas->llama-index-core<0.11.0,>=0.10.41->llama-index-llms-huggingface-api) (2.9.0.post0)\n",
      "Requirement already satisfied: exceptiongroup>=1.0.2 in ./gov_env/lib/python3.10/site-packages (from anyio->httpx->llama-index-core<0.11.0,>=0.10.41->llama-index-llms-huggingface-api) (1.2.1)\n",
      "Requirement already satisfied: annotated-types>=0.4.0 in ./gov_env/lib/python3.10/site-packages (from pydantic>=1.10->llama-cloud<0.0.7,>=0.0.6->llama-index-core<0.11.0,>=0.10.41->llama-index-llms-huggingface-api) (0.7.0)\n",
      "Requirement already satisfied: pydantic-core==2.18.4 in ./gov_env/lib/python3.10/site-packages (from pydantic>=1.10->llama-cloud<0.0.7,>=0.0.6->llama-index-core<0.11.0,>=0.10.41->llama-index-llms-huggingface-api) (2.18.4)\n",
      "Requirement already satisfied: six>=1.5 in ./gov_env/lib/python3.10/site-packages (from python-dateutil>=2.8.2->pandas->llama-index-core<0.11.0,>=0.10.41->llama-index-llms-huggingface-api) (1.16.0)\n",
      "\n",
      "\u001b[1m[\u001b[0m\u001b[34;49mnotice\u001b[0m\u001b[1;39;49m]\u001b[0m\u001b[39;49m A new release of pip is available: \u001b[0m\u001b[31;49m23.0.1\u001b[0m\u001b[39;49m -> \u001b[0m\u001b[32;49m24.1\u001b[0m\n",
      "\u001b[1m[\u001b[0m\u001b[34;49mnotice\u001b[0m\u001b[1;39;49m]\u001b[0m\u001b[39;49m To update, run: \u001b[0m\u001b[32;49mpip install --upgrade pip\u001b[0m\n",
      "Note: you may need to restart the kernel to use updated packages.\n"
     ]
    }
   ],
   "source": [
    "pip install llama-index-llms-huggingface-api"
   ]
  },
  {
   "cell_type": "code",
   "execution_count": 59,
   "metadata": {},
   "outputs": [
    {
     "name": "stderr",
     "output_type": "stream",
     "text": [
      "huggingface/tokenizers: The current process just got forked, after parallelism has already been used. Disabling parallelism to avoid deadlocks...\n",
      "To disable this warning, you can either:\n",
      "\t- Avoid using `tokenizers` before the fork if possible\n",
      "\t- Explicitly set the environment variable TOKENIZERS_PARALLELISM=(true | false)\n"
     ]
    },
    {
     "name": "stdout",
     "output_type": "stream",
     "text": [
      "Requirement already satisfied: llama-index-embeddings-huggingface in ./gov_env/lib/python3.10/site-packages (0.2.2)\n",
      "Requirement already satisfied: llama-index-core<0.11.0,>=0.10.1 in ./gov_env/lib/python3.10/site-packages (from llama-index-embeddings-huggingface) (0.10.49)\n",
      "Requirement already satisfied: sentence-transformers>=2.6.1 in ./gov_env/lib/python3.10/site-packages (from llama-index-embeddings-huggingface) (3.0.1)\n",
      "Requirement already satisfied: huggingface-hub[inference]>=0.19.0 in ./gov_env/lib/python3.10/site-packages (from llama-index-embeddings-huggingface) (0.23.4)\n",
      "Requirement already satisfied: typing-extensions>=3.7.4.3 in ./gov_env/lib/python3.10/site-packages (from huggingface-hub[inference]>=0.19.0->llama-index-embeddings-huggingface) (4.12.2)\n",
      "Requirement already satisfied: packaging>=20.9 in ./gov_env/lib/python3.10/site-packages (from huggingface-hub[inference]>=0.19.0->llama-index-embeddings-huggingface) (24.1)\n",
      "Requirement already satisfied: filelock in ./gov_env/lib/python3.10/site-packages (from huggingface-hub[inference]>=0.19.0->llama-index-embeddings-huggingface) (3.15.4)\n",
      "Requirement already satisfied: requests in ./gov_env/lib/python3.10/site-packages (from huggingface-hub[inference]>=0.19.0->llama-index-embeddings-huggingface) (2.32.3)\n",
      "Requirement already satisfied: fsspec>=2023.5.0 in ./gov_env/lib/python3.10/site-packages (from huggingface-hub[inference]>=0.19.0->llama-index-embeddings-huggingface) (2024.5.0)\n",
      "Requirement already satisfied: pyyaml>=5.1 in ./gov_env/lib/python3.10/site-packages (from huggingface-hub[inference]>=0.19.0->llama-index-embeddings-huggingface) (6.0.1)\n",
      "Requirement already satisfied: tqdm>=4.42.1 in ./gov_env/lib/python3.10/site-packages (from huggingface-hub[inference]>=0.19.0->llama-index-embeddings-huggingface) (4.66.4)\n",
      "Requirement already satisfied: aiohttp in ./gov_env/lib/python3.10/site-packages (from huggingface-hub[inference]>=0.19.0->llama-index-embeddings-huggingface) (3.9.5)\n",
      "^C\n",
      "\u001b[31mERROR: Operation cancelled by user\u001b[0m\u001b[31m\n",
      "\u001b[0m\n",
      "\u001b[1m[\u001b[0m\u001b[34;49mnotice\u001b[0m\u001b[1;39;49m]\u001b[0m\u001b[39;49m A new release of pip is available: \u001b[0m\u001b[31;49m23.0.1\u001b[0m\u001b[39;49m -> \u001b[0m\u001b[32;49m24.1\u001b[0m\n",
      "\u001b[1m[\u001b[0m\u001b[34;49mnotice\u001b[0m\u001b[1;39;49m]\u001b[0m\u001b[39;49m To update, run: \u001b[0m\u001b[32;49mpip install --upgrade pip\u001b[0m\n",
      "Note: you may need to restart the kernel to use updated packages.\n"
     ]
    }
   ],
   "source": [
    "pip install llama-index-embeddings-huggingface"
   ]
  },
  {
   "cell_type": "code",
   "execution_count": null,
   "metadata": {},
   "outputs": [
    {
     "name": "stderr",
     "output_type": "stream",
     "text": [
      "/Users/haiyangliu/Workspace/gov_opportunity_new/gov_env/lib/python3.10/site-packages/huggingface_hub/file_download.py:1132: FutureWarning: `resume_download` is deprecated and will be removed in version 1.0.0. Downloads always resume when possible. If you want to force a new download, use `force_download=True`.\n",
      "  warnings.warn(\n"
     ]
    }
   ],
   "source": [
    "import weaviate\n",
    "from llama_index.vector_stores.weaviate import WeaviateVectorStore\n",
    "from llama_index.embeddings.huggingface import HuggingFaceEmbedding\n",
    "from llama_index.core import Settings\n",
    "\n",
    "\n",
    "client = weaviate.connect_to_local(\n",
    "    headers={\"X-OpenAI-Api-key\": os.getenv(\"OPENAI_API_KEY\")}\n",
    ")\n",
    "\n",
    "Settings.embed_model = HuggingFaceEmbedding(\n",
    "    model_name=\"BAAI/bge-small-en-v1.5\"\n",
    ")\n",
    "Settings.chunk_size = 512\n",
    "Settings.chunk_overlap = 50\n",
    "\n"
   ]
  },
  {
   "cell_type": "code",
   "execution_count": null,
   "metadata": {},
   "outputs": [],
   "source": [
    "client.collections.delete(\"LlamaIndex_auto\")"
   ]
  },
  {
   "cell_type": "code",
   "execution_count": null,
   "metadata": {},
   "outputs": [],
   "source": [
    "from llama_index.vector_stores.weaviate import WeaviateVectorStore\n",
    "from llama_index.core import VectorStoreIndex, StorageContext\n",
    "\n",
    "vector_store = WeaviateVectorStore(\n",
    "    weaviate_client=client, index_name='Gov_opportunities'\n",
    ")\n",
    "storage_context = StorageContext.from_defaults(vector_store=vector_store)\n"
   ]
  },
  {
   "cell_type": "code",
   "execution_count": null,
   "metadata": {},
   "outputs": [],
   "source": [
    "%pip install llama-index llama-index-readers-json"
   ]
  },
  {
   "cell_type": "code",
   "execution_count": null,
   "metadata": {},
   "outputs": [],
   "source": [
    "pip install span-marker"
   ]
  },
  {
   "cell_type": "code",
   "execution_count": null,
   "metadata": {},
   "outputs": [],
   "source": [
    "pip install llama-index-extractors-entity"
   ]
  },
  {
   "cell_type": "code",
   "execution_count": null,
   "metadata": {},
   "outputs": [],
   "source": [
    "pip install nest_asyncio"
   ]
  },
  {
   "cell_type": "code",
   "execution_count": null,
   "metadata": {},
   "outputs": [],
   "source": [
    "import nest_asyncio\n",
    "nest_asyncio.apply()"
   ]
  },
  {
   "cell_type": "code",
   "execution_count": null,
   "metadata": {},
   "outputs": [
    {
     "name": "stderr",
     "output_type": "stream",
     "text": [
      "huggingface/tokenizers: The current process just got forked, after parallelism has already been used. Disabling parallelism to avoid deadlocks...\n",
      "To disable this warning, you can either:\n",
      "\t- Avoid using `tokenizers` before the fork if possible\n",
      "\t- Explicitly set the environment variable TOKENIZERS_PARALLELISM=(true | false)\n"
     ]
    },
    {
     "name": "stdout",
     "output_type": "stream",
     "text": [
      "Requirement already satisfied: python-dateutil in ./gov_env/lib/python3.10/site-packages (2.9.0.post0)\n",
      "Requirement already satisfied: six>=1.5 in ./gov_env/lib/python3.10/site-packages (from python-dateutil) (1.16.0)\n",
      "\n",
      "\u001b[1m[\u001b[0m\u001b[34;49mnotice\u001b[0m\u001b[1;39;49m]\u001b[0m\u001b[39;49m A new release of pip is available: \u001b[0m\u001b[31;49m23.0.1\u001b[0m\u001b[39;49m -> \u001b[0m\u001b[32;49m24.1\u001b[0m\n",
      "\u001b[1m[\u001b[0m\u001b[34;49mnotice\u001b[0m\u001b[1;39;49m]\u001b[0m\u001b[39;49m To update, run: \u001b[0m\u001b[32;49mpip install --upgrade pip\u001b[0m\n",
      "Note: you may need to restart the kernel to use updated packages.\n"
     ]
    }
   ],
   "source": [
    "pip install python-dateutil"
   ]
  },
  {
   "cell_type": "code",
   "execution_count": null,
   "metadata": {},
   "outputs": [],
   "source": [
    "from llama_index.core import SimpleDirectoryReader\n",
    "import json\n",
    "from dateutil import parser\n",
    "from llama_index.core.async_utils import run_jobs\n",
    "from llama_index.core import SummaryIndex\n",
    "from llama_index.llms.openai import OpenAI\n",
    "from llama_index.core.vector_stores import (\n",
    "    FilterOperator,\n",
    "    MetadataFilter,\n",
    "    MetadataFilters,\n",
    ")\n",
    "from llama_index.core.schema import IndexNode\n",
    "\n",
    "\n",
    "documents = SimpleDirectoryReader('/Users/haiyangliu/Workspace/gov_opportunity_new/content/opportunities/projects').load_data()\n",
    "doc_index = VectorStoreIndex.from_documents(\n",
    "    documents, storage_context=storage_context\n",
    ")\n"
   ]
  },
  {
   "cell_type": "code",
   "execution_count": 86,
   "metadata": {},
   "outputs": [],
   "source": [
    "chroma_index = VectorStoreIndex.from_documents(\n",
    "    documents, storage_context=chroma_storage_context\n",
    ")\n"
   ]
  },
  {
   "cell_type": "code",
   "execution_count": null,
   "metadata": {},
   "outputs": [],
   "source": [
    "async def aprocess_doc(doc, include_summary: bool = True):\n",
    "    doc_object = json.loads(doc.text)\n",
    "    metadata = doc.metadata\n",
    "    new_metadata = {\n",
    "        \"project_id\": doc_object['ProjectID'],\n",
    "        'department': doc_object['Department/Ind.Agency'],\n",
    "        'naics_code': doc_object['NaicsCode'],\n",
    "        'psc_code': doc_object['ProductServiceCode'],\n",
    "        'sub_department': doc_object['Sub-Tier'],\n",
    "        'set_aside': doc_object['SetASide'],\n",
    "        'set_aside_code': doc_object['SetASideCode'],\n",
    "        'type': doc_object['Type'],\n",
    "        'place_of_performance_country': doc_object['PlaceOfPerformanceCountry'],\n",
    "        'place_of_performance_city': doc_object['PlaceOfPerformanceCity'],\n",
    "        'place_of_performance_state': doc_object['PlaceOfPerformanceState'],\n",
    "    }\n",
    "    if (doc_object['ResponseDueDate']):\n",
    "        due_date = parser.parse(doc_object['ResponseDueDate'])\n",
    "        new_metadata[\"due_date_year\"] = due_date.year\n",
    "        new_metadata[\"due_date_month\"] = due_date.month\n",
    "        new_metadata[\"due_date_day\"] = due_date.day\n",
    "\n",
    "    if (doc_object['PostedDate']):\n",
    "        posted_date = parser.parse(doc_object['PostedDate'])\n",
    "        new_metadata[\"posted_date_year\"] = posted_date.year\n",
    "        new_metadata[\"posted_date_month\"] = posted_date.month\n",
    "        new_metadata[\"posted_date_day\"] = posted_date.day\n",
    "\n",
    "    if include_summary:\n",
    "        summary_index = SummaryIndex.from_documents([doc])\n",
    "        query_str = \"Give a one-sentence concise summary of this project.\"\n",
    "        query_engine = summary_index.as_query_engine(\n",
    "            llm=OpenAI(model=\"gpt-3.5-turbo\")\n",
    "        )\n",
    "        summary_txt = await query_engine.aquery(query_str)\n",
    "        summary_txt = str(summary_txt)\n",
    "    else:\n",
    "        summary_txt = \"\"\n",
    "    # filter for the specific doc id\n",
    "    filters = MetadataFilters(\n",
    "        filters=[\n",
    "            MetadataFilter(\n",
    "                key=\"file_name\", operator=FilterOperator.EQ, value=metadata['file_name']\n",
    "            ),\n",
    "        ]\n",
    "    )\n",
    "    # create an index node using the summary text\n",
    "    index_node = IndexNode(\n",
    "        text=summary_txt,\n",
    "        metadata=new_metadata,\n",
    "        obj=doc_index.as_retriever(filters=filters),\n",
    "        index_id=doc.id_,\n",
    "    )\n",
    "\n",
    "    return index_node\n",
    "\n",
    "async def aprocess_docs(docs):\n",
    "    \"\"\"Process metadata on docs.\"\"\"\n",
    "\n",
    "    index_nodes = []\n",
    "    tasks = []\n",
    "    for doc in docs:\n",
    "        task = aprocess_doc(doc)\n",
    "        tasks.append(task)\n",
    "\n",
    "    index_nodes = await run_jobs(tasks, show_progress=True, workers=3)\n",
    "\n",
    "    return index_nodes \n"
   ]
  },
  {
   "cell_type": "code",
   "execution_count": null,
   "metadata": {},
   "outputs": [
    {
     "name": "stdout",
     "output_type": "stream",
     "text": [
      "{'file_path': '/Users/haiyangliu/Workspace/gov_opportunity_new/content/opportunities/projects/project_41c2be0ed45342a687cad02d4d20b1cd.json', 'file_name': 'project_41c2be0ed45342a687cad02d4d20b1cd.json', 'file_type': 'application/json', 'file_size': 6146, 'creation_date': '2024-06-27', 'last_modified_date': '2024-06-27'}\n",
      "{'file_path': '/Users/haiyangliu/Workspace/gov_opportunity_new/content/opportunities/projects/project_814bba4ad7054ecf8e06dd9185c6a7ce.json', 'file_name': 'project_814bba4ad7054ecf8e06dd9185c6a7ce.json', 'file_type': 'application/json', 'file_size': 1939, 'creation_date': '2024-06-27', 'last_modified_date': '2024-06-27'}\n",
      "{'file_path': '/Users/haiyangliu/Workspace/gov_opportunity_new/content/opportunities/projects/project_a3e9fea3b1184f2288e0c7953588c19c.json', 'file_name': 'project_a3e9fea3b1184f2288e0c7953588c19c.json', 'file_type': 'application/json', 'file_size': 883, 'creation_date': '2024-06-27', 'last_modified_date': '2024-06-27'}\n"
     ]
    }
   ],
   "source": [
    "for doc in documents:\n",
    "    print(doc.metadata)"
   ]
  },
  {
   "cell_type": "code",
   "execution_count": null,
   "metadata": {},
   "outputs": [
    {
     "name": "stderr",
     "output_type": "stream",
     "text": [
      "100%|██████████| 3/3 [00:01<00:00,  1.74it/s]\n"
     ]
    }
   ],
   "source": [
    "index_nodes = await aprocess_docs(documents)"
   ]
  },
  {
   "cell_type": "code",
   "execution_count": null,
   "metadata": {},
   "outputs": [
    {
     "name": "stdout",
     "output_type": "stream",
     "text": [
      "{'project_id': '41c2be0ed45342a687cad02d4d20b1cd', 'department': 'Department of Defense', 'naics_code': '236220', 'psc_code': 'Y1JZ', 'sub_department': 'Dept of the Navy', 'set_aside': '', 'set_aside_code': '', 'type': 'Solicitation', 'place_of_performance_country': '', 'place_of_performance_city': '', 'place_of_performance_state': '', 'due_date_year': 2024, 'due_date_month': 7, 'due_date_day': 9, 'posted_date_year': 2024, 'posted_date_month': 6, 'posted_date_day': 18}\n",
      "{'project_id': '814bba4ad7054ecf8e06dd9185c6a7ce', 'department': 'Department of Defense', 'naics_code': '236220', 'psc_code': 'Z2AZ', 'sub_department': 'Dept of the Army', 'set_aside': 'Total Small Business Set-Aside (FAR 19.5)', 'set_aside_code': 'SBA', 'type': 'Solicitation', 'place_of_performance_country': '', 'place_of_performance_city': '', 'place_of_performance_state': '', 'due_date_year': 2024, 'due_date_month': 6, 'due_date_day': 24, 'posted_date_year': 2024, 'posted_date_month': 6, 'posted_date_day': 18}\n",
      "{'project_id': 'a3e9fea3b1184f2288e0c7953588c19c', 'department': 'Department of Defense', 'naics_code': '541330', 'psc_code': 'C211', 'sub_department': 'Dept of the Navy', 'set_aside': '', 'set_aside_code': '', 'type': 'Justification', 'place_of_performance_country': '', 'place_of_performance_city': '', 'place_of_performance_state': '', 'posted_date_year': 2024, 'posted_date_month': 6, 'posted_date_day': 18}\n"
     ]
    }
   ],
   "source": [
    "for node in index_nodes:\n",
    "    print(node.metadata)"
   ]
  },
  {
   "cell_type": "code",
   "execution_count": 104,
   "metadata": {},
   "outputs": [],
   "source": [
    "from llama_index.vector_stores.weaviate import WeaviateVectorStore\n",
    "from llama_index.core import VectorStoreIndex, StorageContext\n",
    "\n",
    "class_name = \"LlamaIndex_auto\"\n",
    "\n",
    "vector_store_auto = WeaviateVectorStore(\n",
    "    weaviate_client=client, index_name=class_name\n",
    ")\n",
    "storage_context_auto = StorageContext.from_defaults(\n",
    "    vector_store=vector_store_auto\n",
    ")"
   ]
  },
  {
   "cell_type": "code",
   "execution_count": 88,
   "metadata": {},
   "outputs": [],
   "source": [
    "from llama_index.vector_stores.chroma import ChromaVectorStore\n",
    "from llama_index.core import VectorStoreIndex, StorageContext\n",
    "\n",
    "class_name = \"LlamaIndex_auto_chroma\"\n",
    "\n",
    "vector_store_auto = ChromaVectorStore(\n",
    "    chroma_collection=chroma_collection\n",
    ")\n",
    "storage_context_auto = StorageContext.from_defaults(\n",
    "    vector_store=vector_store_auto\n",
    ")\n"
   ]
  },
  {
   "cell_type": "code",
   "execution_count": 68,
   "metadata": {},
   "outputs": [],
   "source": [
    "from llama_index.core.callbacks import (\n",
    "    CallbackManager,\n",
    "    LlamaDebugHandler,\n",
    "    CBEventType,\n",
    ")\n",
    "\n",
    "llama_debug = LlamaDebugHandler(print_trace_on_end=True)\n",
    "callback_manager = CallbackManager([llama_debug])"
   ]
  },
  {
   "cell_type": "code",
   "execution_count": 105,
   "metadata": {},
   "outputs": [
    {
     "name": "stdout",
     "output_type": "stream",
     "text": [
      "**********\n",
      "Trace: index_construction\n",
      "**********\n"
     ]
    }
   ],
   "source": [
    "index = VectorStoreIndex(\n",
    "    objects=index_nodes, storage_context=storage_context_auto, callback_manager=callback_manager\n",
    ")"
   ]
  },
  {
   "cell_type": "code",
   "execution_count": 106,
   "metadata": {},
   "outputs": [],
   "source": [
    "from llama_index.core.vector_stores import MetadataInfo, VectorStoreInfo\n",
    "\n",
    "vector_store_info = VectorStoreInfo(\n",
    "    content_info=\"Government contract opportunities\",\n",
    "    metadata_info=[\n",
    "        MetadataInfo(\n",
    "            name=\"project_id\",\n",
    "            description=\"the unique identifier of this opportunity\",\n",
    "            type=\"string\",\n",
    "        ),\n",
    "        MetadataInfo(\n",
    "            name=\"department\",\n",
    "            description=\"The government department that published this opportunity\",\n",
    "            type=\"string\",\n",
    "        ),\n",
    "        MetadataInfo(\n",
    "            name=\"naics_code\",\n",
    "            description=\"NAICS Code. This code is maximum of 6 digits, also referred as Industry Classification Code\",\n",
    "            type=\"string\",\n",
    "        ),\n",
    "        MetadataInfo(\n",
    "            name=\"psc_code\",\n",
    "            description=\"Classification Code of this opportunity, also referred as Product Service Code or PSC Code for short\",\n",
    "            type=\"string\",\n",
    "        ),\n",
    "        MetadataInfo(\n",
    "            name=\"sub_department\",\n",
    "            description=\"Division or Sub-Department that published this opportunity\",\n",
    "            type=\"string\",\n",
    "        ),\n",
    "        MetadataInfo(\n",
    "            name=\"set_aside\",\n",
    "            description=\"Description of the Set Aside\",\n",
    "            type=\"string\",\n",
    "        ),\n",
    "        MetadataInfo(\n",
    "            name=\"set_aside_code\",\n",
    "            description=\"Code of the Set Aside field\",\n",
    "            type=\"string\",\n",
    "        ),\n",
    "        MetadataInfo(\n",
    "            name=\"type\",\n",
    "            description=\"Procurement Type of this opportunities\",\n",
    "            type=\"string\",\n",
    "        ),\n",
    "        MetadataInfo(\n",
    "            name=\"place_of_performance_country\",\n",
    "            description=\"Country of the Place of Performance for this project\",\n",
    "            type=\"string\",\n",
    "        ),\n",
    "        MetadataInfo(\n",
    "            name=\"place_of_performance_city\",\n",
    "            description=\"City of the Place of Performance for this project\",\n",
    "            type=\"string\",\n",
    "        ),\n",
    "        MetadataInfo(\n",
    "            name=\"place_of_performance_state\",\n",
    "            description=\"State of the Place of Performance for this project\",\n",
    "            type=\"string\",\n",
    "        ),\n",
    "        MetadataInfo(\n",
    "            name=\"due_date_year\",\n",
    "            description=\"The year of the Response Deadline date\",\n",
    "            type=\"integer\",\n",
    "        ),\n",
    "        MetadataInfo(\n",
    "            name=\"due_date_month\",\n",
    "            description=\"the month of the Response Deadline date\",\n",
    "            type=\"integer\",\n",
    "        ),\n",
    "        MetadataInfo(\n",
    "            name=\"due_date_day\",\n",
    "            description=\"the day of the Response Deadline date\",\n",
    "            type=\"integer\",\n",
    "        ),\n",
    "        MetadataInfo(\n",
    "            name=\"posted_date_year\",\n",
    "            description=\"Year of the Opportunity Posted Date\",\n",
    "            type=\"integer\",\n",
    "        ),\n",
    "        MetadataInfo(\n",
    "            name=\"posted_date_month\",\n",
    "            description=\"Month of the Opportunity Posted Date\",\n",
    "            type=\"integer\",\n",
    "        ),\n",
    "        MetadataInfo(\n",
    "            name=\"posted_date_day\",\n",
    "            description=\"day of the Opportunity Posted Date\",\n",
    "            type=\"integer\",\n",
    "        )\n",
    "    ],\n",
    ")"
   ]
  },
  {
   "cell_type": "code",
   "execution_count": 107,
   "metadata": {},
   "outputs": [],
   "source": [
    "from llama_index.core.retrievers import VectorIndexAutoRetriever\n",
    "\n",
    "retriever = VectorIndexAutoRetriever(\n",
    "    index,\n",
    "    vector_store_info=vector_store_info,\n",
    "    similarity_top_k=2,\n",
    "    empty_query_top_k=10,  # if only metadata filters are specified, this is the limit\n",
    "    verbose=True,\n",
    "    callback_manager=callback_manager\n",
    ")"
   ]
  },
  {
   "cell_type": "code",
   "execution_count": 109,
   "metadata": {},
   "outputs": [
    {
     "name": "stdout",
     "output_type": "stream",
     "text": [
      "Using query str: plumbing\n",
      "Using filters: []\n",
      "**********\n",
      "Trace: query\n",
      "    |_retrieve -> 1.218016 seconds\n",
      "**********\n"
     ]
    }
   ],
   "source": [
    "from llama_index.core import QueryBundle\n",
    "\n",
    "nodes = retriever.retrieve(QueryBundle(\"find me opportunities about plumbing\"))"
   ]
  },
  {
   "cell_type": "code",
   "execution_count": 118,
   "metadata": {},
   "outputs": [
    {
     "name": "stdout",
     "output_type": "stream",
     "text": [
      "**********\n",
      "Trace: query\n",
      "    |_retrieve -> 1.09265 seconds\n",
      "**********\n"
     ]
    },
    {
     "ename": "ValidationError",
     "evalue": "2 validation errors for VectorStoreQuerySpec\nfilters -> 1 -> key\n  field required (type=value_error.missing)\nfilters -> 1 -> value\n  field required (type=value_error.missing)",
     "output_type": "error",
     "traceback": [
      "\u001b[0;31m---------------------------------------------------------------------------\u001b[0m",
      "\u001b[0;31mValidationError\u001b[0m                           Traceback (most recent call last)",
      "Cell \u001b[0;32mIn[118], line 1\u001b[0m\n\u001b[0;32m----> 1\u001b[0m nodes \u001b[38;5;241m=\u001b[39m \u001b[43mretriever\u001b[49m\u001b[38;5;241;43m.\u001b[39;49m\u001b[43mretrieve\u001b[49m\u001b[43m(\u001b[49m\u001b[43mQueryBundle\u001b[49m\u001b[43m(\u001b[49m\u001b[38;5;124;43m\"\u001b[39;49m\u001b[38;5;124;43mFind me the projects from Department of Defense\u001b[39;49m\u001b[38;5;124;43m\"\u001b[39;49m\u001b[43m)\u001b[49m\u001b[43m)\u001b[49m\n",
      "File \u001b[0;32m~/Workspace/gov_opportunity_new/gov_env/lib/python3.10/site-packages/llama_index/core/instrumentation/dispatcher.py:230\u001b[0m, in \u001b[0;36mDispatcher.span.<locals>.wrapper\u001b[0;34m(func, instance, args, kwargs)\u001b[0m\n\u001b[1;32m    226\u001b[0m \u001b[38;5;28mself\u001b[39m\u001b[38;5;241m.\u001b[39mspan_enter(\n\u001b[1;32m    227\u001b[0m     id_\u001b[38;5;241m=\u001b[39mid_, bound_args\u001b[38;5;241m=\u001b[39mbound_args, instance\u001b[38;5;241m=\u001b[39minstance, parent_id\u001b[38;5;241m=\u001b[39mparent_id\n\u001b[1;32m    228\u001b[0m )\n\u001b[1;32m    229\u001b[0m \u001b[38;5;28;01mtry\u001b[39;00m:\n\u001b[0;32m--> 230\u001b[0m     result \u001b[38;5;241m=\u001b[39m \u001b[43mfunc\u001b[49m\u001b[43m(\u001b[49m\u001b[38;5;241;43m*\u001b[39;49m\u001b[43margs\u001b[49m\u001b[43m,\u001b[49m\u001b[43m \u001b[49m\u001b[38;5;241;43m*\u001b[39;49m\u001b[38;5;241;43m*\u001b[39;49m\u001b[43mkwargs\u001b[49m\u001b[43m)\u001b[49m\n\u001b[1;32m    231\u001b[0m \u001b[38;5;28;01mexcept\u001b[39;00m \u001b[38;5;167;01mBaseException\u001b[39;00m \u001b[38;5;28;01mas\u001b[39;00m e:\n\u001b[1;32m    232\u001b[0m     \u001b[38;5;28mself\u001b[39m\u001b[38;5;241m.\u001b[39mevent(SpanDropEvent(span_id\u001b[38;5;241m=\u001b[39mid_, err_str\u001b[38;5;241m=\u001b[39m\u001b[38;5;28mstr\u001b[39m(e)))\n",
      "File \u001b[0;32m~/Workspace/gov_opportunity_new/gov_env/lib/python3.10/site-packages/llama_index/core/base/base_retriever.py:243\u001b[0m, in \u001b[0;36mBaseRetriever.retrieve\u001b[0;34m(self, str_or_query_bundle)\u001b[0m\n\u001b[1;32m    238\u001b[0m \u001b[38;5;28;01mwith\u001b[39;00m \u001b[38;5;28mself\u001b[39m\u001b[38;5;241m.\u001b[39mcallback_manager\u001b[38;5;241m.\u001b[39mas_trace(\u001b[38;5;124m\"\u001b[39m\u001b[38;5;124mquery\u001b[39m\u001b[38;5;124m\"\u001b[39m):\n\u001b[1;32m    239\u001b[0m     \u001b[38;5;28;01mwith\u001b[39;00m \u001b[38;5;28mself\u001b[39m\u001b[38;5;241m.\u001b[39mcallback_manager\u001b[38;5;241m.\u001b[39mevent(\n\u001b[1;32m    240\u001b[0m         CBEventType\u001b[38;5;241m.\u001b[39mRETRIEVE,\n\u001b[1;32m    241\u001b[0m         payload\u001b[38;5;241m=\u001b[39m{EventPayload\u001b[38;5;241m.\u001b[39mQUERY_STR: query_bundle\u001b[38;5;241m.\u001b[39mquery_str},\n\u001b[1;32m    242\u001b[0m     ) \u001b[38;5;28;01mas\u001b[39;00m retrieve_event:\n\u001b[0;32m--> 243\u001b[0m         nodes \u001b[38;5;241m=\u001b[39m \u001b[38;5;28;43mself\u001b[39;49m\u001b[38;5;241;43m.\u001b[39;49m\u001b[43m_retrieve\u001b[49m\u001b[43m(\u001b[49m\u001b[43mquery_bundle\u001b[49m\u001b[43m)\u001b[49m\n\u001b[1;32m    244\u001b[0m         nodes \u001b[38;5;241m=\u001b[39m \u001b[38;5;28mself\u001b[39m\u001b[38;5;241m.\u001b[39m_handle_recursive_retrieval(query_bundle, nodes)\n\u001b[1;32m    245\u001b[0m         retrieve_event\u001b[38;5;241m.\u001b[39mon_end(\n\u001b[1;32m    246\u001b[0m             payload\u001b[38;5;241m=\u001b[39m{EventPayload\u001b[38;5;241m.\u001b[39mNODES: nodes},\n\u001b[1;32m    247\u001b[0m         )\n",
      "File \u001b[0;32m~/Workspace/gov_opportunity_new/gov_env/lib/python3.10/site-packages/llama_index/core/instrumentation/dispatcher.py:230\u001b[0m, in \u001b[0;36mDispatcher.span.<locals>.wrapper\u001b[0;34m(func, instance, args, kwargs)\u001b[0m\n\u001b[1;32m    226\u001b[0m \u001b[38;5;28mself\u001b[39m\u001b[38;5;241m.\u001b[39mspan_enter(\n\u001b[1;32m    227\u001b[0m     id_\u001b[38;5;241m=\u001b[39mid_, bound_args\u001b[38;5;241m=\u001b[39mbound_args, instance\u001b[38;5;241m=\u001b[39minstance, parent_id\u001b[38;5;241m=\u001b[39mparent_id\n\u001b[1;32m    228\u001b[0m )\n\u001b[1;32m    229\u001b[0m \u001b[38;5;28;01mtry\u001b[39;00m:\n\u001b[0;32m--> 230\u001b[0m     result \u001b[38;5;241m=\u001b[39m \u001b[43mfunc\u001b[49m\u001b[43m(\u001b[49m\u001b[38;5;241;43m*\u001b[39;49m\u001b[43margs\u001b[49m\u001b[43m,\u001b[49m\u001b[43m \u001b[49m\u001b[38;5;241;43m*\u001b[39;49m\u001b[38;5;241;43m*\u001b[39;49m\u001b[43mkwargs\u001b[49m\u001b[43m)\u001b[49m\n\u001b[1;32m    231\u001b[0m \u001b[38;5;28;01mexcept\u001b[39;00m \u001b[38;5;167;01mBaseException\u001b[39;00m \u001b[38;5;28;01mas\u001b[39;00m e:\n\u001b[1;32m    232\u001b[0m     \u001b[38;5;28mself\u001b[39m\u001b[38;5;241m.\u001b[39mevent(SpanDropEvent(span_id\u001b[38;5;241m=\u001b[39mid_, err_str\u001b[38;5;241m=\u001b[39m\u001b[38;5;28mstr\u001b[39m(e)))\n",
      "File \u001b[0;32m~/Workspace/gov_opportunity_new/gov_env/lib/python3.10/site-packages/llama_index/core/base/base_auto_retriever.py:35\u001b[0m, in \u001b[0;36mBaseAutoRetriever._retrieve\u001b[0;34m(self, query_bundle)\u001b[0m\n\u001b[1;32m     33\u001b[0m \u001b[38;5;28;01mdef\u001b[39;00m \u001b[38;5;21m_retrieve\u001b[39m(\u001b[38;5;28mself\u001b[39m, query_bundle: QueryBundle) \u001b[38;5;241m-\u001b[39m\u001b[38;5;241m>\u001b[39m List[NodeWithScore]:\n\u001b[1;32m     34\u001b[0m \u001b[38;5;250m    \u001b[39m\u001b[38;5;124;03m\"\"\"Retrieve using generated spec.\"\"\"\u001b[39;00m\n\u001b[0;32m---> 35\u001b[0m     retrieval_spec \u001b[38;5;241m=\u001b[39m \u001b[38;5;28;43mself\u001b[39;49m\u001b[38;5;241;43m.\u001b[39;49m\u001b[43mgenerate_retrieval_spec\u001b[49m\u001b[43m(\u001b[49m\u001b[43mquery_bundle\u001b[49m\u001b[43m)\u001b[49m\n\u001b[1;32m     36\u001b[0m     retriever, new_query_bundle \u001b[38;5;241m=\u001b[39m \u001b[38;5;28mself\u001b[39m\u001b[38;5;241m.\u001b[39m_build_retriever_from_spec(retrieval_spec)\n\u001b[1;32m     37\u001b[0m     \u001b[38;5;28;01mreturn\u001b[39;00m retriever\u001b[38;5;241m.\u001b[39mretrieve(new_query_bundle)\n",
      "File \u001b[0;32m~/Workspace/gov_opportunity_new/gov_env/lib/python3.10/site-packages/llama_index/core/instrumentation/dispatcher.py:230\u001b[0m, in \u001b[0;36mDispatcher.span.<locals>.wrapper\u001b[0;34m(func, instance, args, kwargs)\u001b[0m\n\u001b[1;32m    226\u001b[0m \u001b[38;5;28mself\u001b[39m\u001b[38;5;241m.\u001b[39mspan_enter(\n\u001b[1;32m    227\u001b[0m     id_\u001b[38;5;241m=\u001b[39mid_, bound_args\u001b[38;5;241m=\u001b[39mbound_args, instance\u001b[38;5;241m=\u001b[39minstance, parent_id\u001b[38;5;241m=\u001b[39mparent_id\n\u001b[1;32m    228\u001b[0m )\n\u001b[1;32m    229\u001b[0m \u001b[38;5;28;01mtry\u001b[39;00m:\n\u001b[0;32m--> 230\u001b[0m     result \u001b[38;5;241m=\u001b[39m \u001b[43mfunc\u001b[49m\u001b[43m(\u001b[49m\u001b[38;5;241;43m*\u001b[39;49m\u001b[43margs\u001b[49m\u001b[43m,\u001b[49m\u001b[43m \u001b[49m\u001b[38;5;241;43m*\u001b[39;49m\u001b[38;5;241;43m*\u001b[39;49m\u001b[43mkwargs\u001b[49m\u001b[43m)\u001b[49m\n\u001b[1;32m    231\u001b[0m \u001b[38;5;28;01mexcept\u001b[39;00m \u001b[38;5;167;01mBaseException\u001b[39;00m \u001b[38;5;28;01mas\u001b[39;00m e:\n\u001b[1;32m    232\u001b[0m     \u001b[38;5;28mself\u001b[39m\u001b[38;5;241m.\u001b[39mevent(SpanDropEvent(span_id\u001b[38;5;241m=\u001b[39mid_, err_str\u001b[38;5;241m=\u001b[39m\u001b[38;5;28mstr\u001b[39m(e)))\n",
      "File \u001b[0;32m~/Workspace/gov_opportunity_new/gov_env/lib/python3.10/site-packages/llama_index/core/indices/vector_store/retrievers/auto_retriever/auto_retriever.py:187\u001b[0m, in \u001b[0;36mVectorIndexAutoRetriever.generate_retrieval_spec\u001b[0;34m(self, query_bundle, **kwargs)\u001b[0m\n\u001b[1;32m    179\u001b[0m output \u001b[38;5;241m=\u001b[39m \u001b[38;5;28mself\u001b[39m\u001b[38;5;241m.\u001b[39m_llm\u001b[38;5;241m.\u001b[39mpredict(\n\u001b[1;32m    180\u001b[0m     \u001b[38;5;28mself\u001b[39m\u001b[38;5;241m.\u001b[39m_prompt,\n\u001b[1;32m    181\u001b[0m     schema_str\u001b[38;5;241m=\u001b[39mschema_str,\n\u001b[1;32m    182\u001b[0m     info_str\u001b[38;5;241m=\u001b[39minfo_str,\n\u001b[1;32m    183\u001b[0m     query_str\u001b[38;5;241m=\u001b[39mquery_bundle\u001b[38;5;241m.\u001b[39mquery_str,\n\u001b[1;32m    184\u001b[0m )\n\u001b[1;32m    186\u001b[0m \u001b[38;5;66;03m# parse output\u001b[39;00m\n\u001b[0;32m--> 187\u001b[0m \u001b[38;5;28;01mreturn\u001b[39;00m \u001b[38;5;28;43mself\u001b[39;49m\u001b[38;5;241;43m.\u001b[39;49m\u001b[43m_parse_generated_spec\u001b[49m\u001b[43m(\u001b[49m\u001b[43moutput\u001b[49m\u001b[43m,\u001b[49m\u001b[43m \u001b[49m\u001b[43mquery_bundle\u001b[49m\u001b[43m)\u001b[49m\n",
      "File \u001b[0;32m~/Workspace/gov_opportunity_new/gov_env/lib/python3.10/site-packages/llama_index/core/indices/vector_store/retrievers/auto_retriever/auto_retriever.py:158\u001b[0m, in \u001b[0;36mVectorIndexAutoRetriever._parse_generated_spec\u001b[0;34m(self, output, query_bundle)\u001b[0m\n\u001b[1;32m    155\u001b[0m \u001b[38;5;250m\u001b[39m\u001b[38;5;124;03m\"\"\"Parse generated spec.\"\"\"\u001b[39;00m\n\u001b[1;32m    156\u001b[0m \u001b[38;5;28;01mtry\u001b[39;00m:\n\u001b[1;32m    157\u001b[0m     structured_output \u001b[38;5;241m=\u001b[39m cast(\n\u001b[0;32m--> 158\u001b[0m         StructuredOutput, \u001b[38;5;28;43mself\u001b[39;49m\u001b[38;5;241;43m.\u001b[39;49m\u001b[43m_output_parser\u001b[49m\u001b[38;5;241;43m.\u001b[39;49m\u001b[43mparse\u001b[49m\u001b[43m(\u001b[49m\u001b[43moutput\u001b[49m\u001b[43m)\u001b[49m\n\u001b[1;32m    159\u001b[0m     )\n\u001b[1;32m    160\u001b[0m     query_spec \u001b[38;5;241m=\u001b[39m cast(VectorStoreQuerySpec, structured_output\u001b[38;5;241m.\u001b[39mparsed_output)\n\u001b[1;32m    161\u001b[0m \u001b[38;5;28;01mexcept\u001b[39;00m OutputParserException:\n",
      "File \u001b[0;32m~/Workspace/gov_opportunity_new/gov_env/lib/python3.10/site-packages/llama_index/core/instrumentation/dispatcher.py:230\u001b[0m, in \u001b[0;36mDispatcher.span.<locals>.wrapper\u001b[0;34m(func, instance, args, kwargs)\u001b[0m\n\u001b[1;32m    226\u001b[0m \u001b[38;5;28mself\u001b[39m\u001b[38;5;241m.\u001b[39mspan_enter(\n\u001b[1;32m    227\u001b[0m     id_\u001b[38;5;241m=\u001b[39mid_, bound_args\u001b[38;5;241m=\u001b[39mbound_args, instance\u001b[38;5;241m=\u001b[39minstance, parent_id\u001b[38;5;241m=\u001b[39mparent_id\n\u001b[1;32m    228\u001b[0m )\n\u001b[1;32m    229\u001b[0m \u001b[38;5;28;01mtry\u001b[39;00m:\n\u001b[0;32m--> 230\u001b[0m     result \u001b[38;5;241m=\u001b[39m \u001b[43mfunc\u001b[49m\u001b[43m(\u001b[49m\u001b[38;5;241;43m*\u001b[39;49m\u001b[43margs\u001b[49m\u001b[43m,\u001b[49m\u001b[43m \u001b[49m\u001b[38;5;241;43m*\u001b[39;49m\u001b[38;5;241;43m*\u001b[39;49m\u001b[43mkwargs\u001b[49m\u001b[43m)\u001b[49m\n\u001b[1;32m    231\u001b[0m \u001b[38;5;28;01mexcept\u001b[39;00m \u001b[38;5;167;01mBaseException\u001b[39;00m \u001b[38;5;28;01mas\u001b[39;00m e:\n\u001b[1;32m    232\u001b[0m     \u001b[38;5;28mself\u001b[39m\u001b[38;5;241m.\u001b[39mevent(SpanDropEvent(span_id\u001b[38;5;241m=\u001b[39mid_, err_str\u001b[38;5;241m=\u001b[39m\u001b[38;5;28mstr\u001b[39m(e)))\n",
      "File \u001b[0;32m~/Workspace/gov_opportunity_new/gov_env/lib/python3.10/site-packages/llama_index/core/indices/vector_store/retrievers/auto_retriever/output_parser.py:12\u001b[0m, in \u001b[0;36mVectorStoreQueryOutputParser.parse\u001b[0;34m(self, output)\u001b[0m\n\u001b[1;32m     10\u001b[0m \u001b[38;5;28;01mdef\u001b[39;00m \u001b[38;5;21mparse\u001b[39m(\u001b[38;5;28mself\u001b[39m, output: \u001b[38;5;28mstr\u001b[39m) \u001b[38;5;241m-\u001b[39m\u001b[38;5;241m>\u001b[39m Any:\n\u001b[1;32m     11\u001b[0m     json_dict \u001b[38;5;241m=\u001b[39m parse_json_markdown(output)\n\u001b[0;32m---> 12\u001b[0m     query_and_filters \u001b[38;5;241m=\u001b[39m \u001b[43mVectorStoreQuerySpec\u001b[49m\u001b[38;5;241;43m.\u001b[39;49m\u001b[43mparse_obj\u001b[49m\u001b[43m(\u001b[49m\u001b[43mjson_dict\u001b[49m\u001b[43m)\u001b[49m\n\u001b[1;32m     14\u001b[0m     \u001b[38;5;28;01mreturn\u001b[39;00m StructuredOutput(raw_output\u001b[38;5;241m=\u001b[39moutput, parsed_output\u001b[38;5;241m=\u001b[39mquery_and_filters)\n",
      "File \u001b[0;32m~/Workspace/gov_opportunity_new/gov_env/lib/python3.10/site-packages/pydantic/v1/main.py:526\u001b[0m, in \u001b[0;36mBaseModel.parse_obj\u001b[0;34m(cls, obj)\u001b[0m\n\u001b[1;32m    524\u001b[0m         exc \u001b[38;5;241m=\u001b[39m \u001b[38;5;167;01mTypeError\u001b[39;00m(\u001b[38;5;124mf\u001b[39m\u001b[38;5;124m'\u001b[39m\u001b[38;5;132;01m{\u001b[39;00m\u001b[38;5;28mcls\u001b[39m\u001b[38;5;241m.\u001b[39m\u001b[38;5;18m__name__\u001b[39m\u001b[38;5;132;01m}\u001b[39;00m\u001b[38;5;124m expected dict not \u001b[39m\u001b[38;5;132;01m{\u001b[39;00mobj\u001b[38;5;241m.\u001b[39m\u001b[38;5;18m__class__\u001b[39m\u001b[38;5;241m.\u001b[39m\u001b[38;5;18m__name__\u001b[39m\u001b[38;5;132;01m}\u001b[39;00m\u001b[38;5;124m'\u001b[39m)\n\u001b[1;32m    525\u001b[0m         \u001b[38;5;28;01mraise\u001b[39;00m ValidationError([ErrorWrapper(exc, loc\u001b[38;5;241m=\u001b[39mROOT_KEY)], \u001b[38;5;28mcls\u001b[39m) \u001b[38;5;28;01mfrom\u001b[39;00m \u001b[38;5;21;01me\u001b[39;00m\n\u001b[0;32m--> 526\u001b[0m \u001b[38;5;28;01mreturn\u001b[39;00m \u001b[38;5;28;43mcls\u001b[39;49m\u001b[43m(\u001b[49m\u001b[38;5;241;43m*\u001b[39;49m\u001b[38;5;241;43m*\u001b[39;49m\u001b[43mobj\u001b[49m\u001b[43m)\u001b[49m\n",
      "File \u001b[0;32m~/Workspace/gov_opportunity_new/gov_env/lib/python3.10/site-packages/pydantic/v1/main.py:341\u001b[0m, in \u001b[0;36mBaseModel.__init__\u001b[0;34m(__pydantic_self__, **data)\u001b[0m\n\u001b[1;32m    339\u001b[0m values, fields_set, validation_error \u001b[38;5;241m=\u001b[39m validate_model(__pydantic_self__\u001b[38;5;241m.\u001b[39m\u001b[38;5;18m__class__\u001b[39m, data)\n\u001b[1;32m    340\u001b[0m \u001b[38;5;28;01mif\u001b[39;00m validation_error:\n\u001b[0;32m--> 341\u001b[0m     \u001b[38;5;28;01mraise\u001b[39;00m validation_error\n\u001b[1;32m    342\u001b[0m \u001b[38;5;28;01mtry\u001b[39;00m:\n\u001b[1;32m    343\u001b[0m     object_setattr(__pydantic_self__, \u001b[38;5;124m'\u001b[39m\u001b[38;5;124m__dict__\u001b[39m\u001b[38;5;124m'\u001b[39m, values)\n",
      "\u001b[0;31mValidationError\u001b[0m: 2 validation errors for VectorStoreQuerySpec\nfilters -> 1 -> key\n  field required (type=value_error.missing)\nfilters -> 1 -> value\n  field required (type=value_error.missing)"
     ]
    }
   ],
   "source": [
    "nodes = retriever.retrieve(QueryBundle(\"Find me the projects from Department of Defense\"))"
   ]
  },
  {
   "cell_type": "code",
   "execution_count": 122,
   "metadata": {},
   "outputs": [
    {
     "name": "stdout",
     "output_type": "stream",
     "text": [
      "{'file_path': '/Users/haiyangliu/Workspace/gov_opportunity_new/content/opportunities/projects/project_814bba4ad7054ecf8e06dd9185c6a7ce.json', 'file_name': 'project_814bba4ad7054ecf8e06dd9185c6a7ce.json', 'file_type': 'application/json', 'file_size': 1939, 'creation_date': '2024-06-27', 'last_modified_date': '2024-06-27'}\n",
      "{'file_path': '/Users/haiyangliu/Workspace/gov_opportunity_new/content/opportunities/projects/project_a3e9fea3b1184f2288e0c7953588c19c.json', 'file_name': 'project_a3e9fea3b1184f2288e0c7953588c19c.json', 'file_type': 'application/json', 'file_size': 883, 'creation_date': '2024-06-27', 'last_modified_date': '2024-06-27'}\n"
     ]
    }
   ],
   "source": [
    "old_retriever = doc_index.as_retriever()\n",
    "old_nodes = old_retriever.retrieve(\"find me plumbing related projects\")\n",
    "for old_node in old_nodes:\n",
    "    print(old_node.metadata)"
   ]
  },
  {
   "cell_type": "code",
   "execution_count": 92,
   "metadata": {},
   "outputs": [],
   "source": [
    "for node in nodes:\n",
    "    print(node.metadata)"
   ]
  },
  {
   "cell_type": "code",
   "execution_count": 97,
   "metadata": {},
   "outputs": [],
   "source": [
    "from llama_index.core.query_engine import RetrieverQueryEngine\n",
    "from llama_index.llms.openai import OpenAI\n",
    "\n",
    "llm = OpenAI(model=\"gpt-3.5-turbo\")\n",
    "\n",
    "query_engine = RetrieverQueryEngine.from_args(retriever, llm=llm)"
   ]
  },
  {
   "cell_type": "code",
   "execution_count": 115,
   "metadata": {},
   "outputs": [
    {
     "name": "stdout",
     "output_type": "stream",
     "text": [
      "Using query str: plumbing projects\n",
      "Using filters: []\n"
     ]
    }
   ],
   "source": [
    "response = query_engine.query(\"find me plumbing related projects\")\n"
   ]
  },
  {
   "cell_type": "code",
   "execution_count": 116,
   "metadata": {},
   "outputs": [
    {
     "name": "stdout",
     "output_type": "stream",
     "text": [
      "The first project involves plumbing repairs that will require the establishment of a temporary kitchen to support meal preparation and cleanup while the permanent kitchen is shut down.\n"
     ]
    }
   ],
   "source": [
    "print(str(response))"
   ]
  }
 ],
 "metadata": {
  "kernelspec": {
   "display_name": "gov_env",
   "language": "python",
   "name": "python3"
  },
  "language_info": {
   "codemirror_mode": {
    "name": "ipython",
    "version": 3
   },
   "file_extension": ".py",
   "mimetype": "text/x-python",
   "name": "python",
   "nbconvert_exporter": "python",
   "pygments_lexer": "ipython3",
   "version": "3.10.14"
  }
 },
 "nbformat": 4,
 "nbformat_minor": 2
}
