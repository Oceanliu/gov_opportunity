{
 "cells": [
  {
   "cell_type": "markdown",
   "metadata": {},
   "source": [
    "Basic setup and data loading"
   ]
  },
  {
   "cell_type": "code",
   "execution_count": null,
   "metadata": {},
   "outputs": [],
   "source": [
    "%pip install llama-index-vector-stores-weaviate\n",
    "%pip install llama-index"
   ]
  },
  {
   "cell_type": "code",
   "execution_count": null,
   "metadata": {},
   "outputs": [],
   "source": [
    "pip install nest_asyncio"
   ]
  },
  {
   "cell_type": "code",
   "execution_count": 18,
   "metadata": {},
   "outputs": [
    {
     "name": "stderr",
     "output_type": "stream",
     "text": [
      "huggingface/tokenizers: The current process just got forked, after parallelism has already been used. Disabling parallelism to avoid deadlocks...\n",
      "To disable this warning, you can either:\n",
      "\t- Avoid using `tokenizers` before the fork if possible\n",
      "\t- Explicitly set the environment variable TOKENIZERS_PARALLELISM=(true | false)\n"
     ]
    },
    {
     "name": "stdout",
     "output_type": "stream",
     "text": [
      "Collecting matplotlib\n",
      "  Downloading matplotlib-3.9.0-cp310-cp310-macosx_11_0_arm64.whl.metadata (11 kB)\n",
      "Collecting contourpy>=1.0.1 (from matplotlib)\n",
      "  Downloading contourpy-1.2.1-cp310-cp310-macosx_11_0_arm64.whl.metadata (5.8 kB)\n",
      "Collecting cycler>=0.10 (from matplotlib)\n",
      "  Downloading cycler-0.12.1-py3-none-any.whl.metadata (3.8 kB)\n",
      "Collecting fonttools>=4.22.0 (from matplotlib)\n",
      "  Downloading fonttools-4.53.0-cp310-cp310-macosx_11_0_arm64.whl.metadata (162 kB)\n",
      "\u001b[2K     \u001b[90m━━━━━━━━━━━━━━━━━━━━━━━━━━━━━━━━━━━━━━━\u001b[0m \u001b[32m162.2/162.2 kB\u001b[0m \u001b[31m4.1 MB/s\u001b[0m eta \u001b[36m0:00:00\u001b[0m\n",
      "\u001b[?25hCollecting kiwisolver>=1.3.1 (from matplotlib)\n",
      "  Downloading kiwisolver-1.4.5-cp310-cp310-macosx_11_0_arm64.whl.metadata (6.4 kB)\n",
      "Requirement already satisfied: numpy>=1.23 in ./gov_env/lib/python3.10/site-packages (from matplotlib) (1.26.4)\n",
      "Requirement already satisfied: packaging>=20.0 in ./gov_env/lib/python3.10/site-packages (from matplotlib) (24.1)\n",
      "Requirement already satisfied: pillow>=8 in ./gov_env/lib/python3.10/site-packages (from matplotlib) (10.3.0)\n",
      "Collecting pyparsing>=2.3.1 (from matplotlib)\n",
      "  Using cached pyparsing-3.1.2-py3-none-any.whl.metadata (5.1 kB)\n",
      "Requirement already satisfied: python-dateutil>=2.7 in ./gov_env/lib/python3.10/site-packages (from matplotlib) (2.9.0.post0)\n",
      "Requirement already satisfied: six>=1.5 in ./gov_env/lib/python3.10/site-packages (from python-dateutil>=2.7->matplotlib) (1.16.0)\n",
      "Downloading matplotlib-3.9.0-cp310-cp310-macosx_11_0_arm64.whl (7.8 MB)\n",
      "\u001b[2K   \u001b[90m━━━━━━━━━━━━━━━━━━━━━━━━━━━━━━━━━━━━━━━━\u001b[0m \u001b[32m7.8/7.8 MB\u001b[0m \u001b[31m31.4 MB/s\u001b[0m eta \u001b[36m0:00:00\u001b[0m00:01\u001b[0m00:01\u001b[0m\n",
      "\u001b[?25hDownloading contourpy-1.2.1-cp310-cp310-macosx_11_0_arm64.whl (244 kB)\n",
      "\u001b[2K   \u001b[90m━━━━━━━━━━━━━━━━━━━━━━━━━━━━━━━━━━━━━━━━\u001b[0m \u001b[32m244.8/244.8 kB\u001b[0m \u001b[31m12.1 MB/s\u001b[0m eta \u001b[36m0:00:00\u001b[0m\n",
      "\u001b[?25hDownloading cycler-0.12.1-py3-none-any.whl (8.3 kB)\n",
      "Downloading fonttools-4.53.0-cp310-cp310-macosx_11_0_arm64.whl (2.2 MB)\n",
      "\u001b[2K   \u001b[90m━━━━━━━━━━━━━━━━━━━━━━━━━━━━━━━━━━━━━━━━\u001b[0m \u001b[32m2.2/2.2 MB\u001b[0m \u001b[31m21.1 MB/s\u001b[0m eta \u001b[36m0:00:00\u001b[0ma \u001b[36m0:00:01\u001b[0m\n",
      "\u001b[?25hDownloading kiwisolver-1.4.5-cp310-cp310-macosx_11_0_arm64.whl (66 kB)\n",
      "\u001b[2K   \u001b[90m━━━━━━━━━━━━━━━━━━━━━━━━━━━━━━━━━━━━━━━━\u001b[0m \u001b[32m66.2/66.2 kB\u001b[0m \u001b[31m9.2 MB/s\u001b[0m eta \u001b[36m0:00:00\u001b[0m\n",
      "\u001b[?25hUsing cached pyparsing-3.1.2-py3-none-any.whl (103 kB)\n",
      "Installing collected packages: pyparsing, kiwisolver, fonttools, cycler, contourpy, matplotlib\n",
      "Successfully installed contourpy-1.2.1 cycler-0.12.1 fonttools-4.53.0 kiwisolver-1.4.5 matplotlib-3.9.0 pyparsing-3.1.2\n",
      "Note: you may need to restart the kernel to use updated packages.\n"
     ]
    }
   ],
   "source": [
    "pip install matplotlib"
   ]
  },
  {
   "cell_type": "code",
   "execution_count": 3,
   "metadata": {},
   "outputs": [
    {
     "name": "stdout",
     "output_type": "stream",
     "text": [
      "No active session to close\n"
     ]
    },
    {
     "name": "stderr",
     "output_type": "stream",
     "text": [
      "E0628 10:04:39.456699000 13218328576 chttp2_server.cc:1097]            UNKNOWN:No address added out of total 1 resolved for '[::]:4317' {created_time:\"2024-06-28T10:04:39.456642-07:00\", children:[UNKNOWN:Failed to add any wildcard listeners {created_time:\"2024-06-28T10:04:39.456634-07:00\", children:[UNKNOWN:Unable to configure socket {fd:90, created_time:\"2024-06-28T10:04:39.456564-07:00\", children:[UNKNOWN:Address already in use {syscall:\"bind\", os_error:\"Address already in use\", errno:48, created_time:\"2024-06-28T10:04:39.456546-07:00\"}]}, UNKNOWN:Unable to configure socket {fd:90, created_time:\"2024-06-28T10:04:39.45663-07:00\", children:[UNKNOWN:Address already in use {created_time:\"2024-06-28T10:04:39.456621-07:00\", errno:48, os_error:\"Address already in use\", syscall:\"bind\"}]}]}]}\n",
      "ERROR:    Traceback (most recent call last):\n",
      "  File \"/Users/haiyangliu/Workspace/gov_opportunity_new/gov_env/lib/python3.10/site-packages/starlette/routing.py\", line 732, in lifespan\n",
      "    async with self.lifespan_context(app) as maybe_state:\n",
      "  File \"/Users/haiyangliu/.pyenv/versions/3.10.14/lib/python3.10/contextlib.py\", line 199, in __aenter__\n",
      "    return await anext(self.gen)\n",
      "  File \"/Users/haiyangliu/Workspace/gov_opportunity_new/gov_env/lib/python3.10/site-packages/phoenix/server/app.py\", line 275, in lifespan\n",
      "    async with bulk_inserter as (queue_span, queue_evaluation), GrpcServer(\n",
      "  File \"/Users/haiyangliu/Workspace/gov_opportunity_new/gov_env/lib/python3.10/site-packages/phoenix/server/grpc_server.py\", line 80, in __aenter__\n",
      "    server.add_insecure_port(f\"[::]:{get_env_grpc_port()}\")\n",
      "  File \"/Users/haiyangliu/Workspace/gov_opportunity_new/gov_env/lib/python3.10/site-packages/grpc/aio/_server.py\", line 102, in add_insecure_port\n",
      "    return _common.validate_port_binding_result(\n",
      "  File \"/Users/haiyangliu/Workspace/gov_opportunity_new/gov_env/lib/python3.10/site-packages/grpc/_common.py\", line 181, in validate_port_binding_result\n",
      "    raise RuntimeError(_ERROR_MESSAGE_PORT_BINDING_FAILED % address)\n",
      "RuntimeError: Failed to bind to address [::]:4317; set GRPC_VERBOSITY=debug environment variable to see detailed error message.\n",
      "\n",
      "ERROR:    Application startup failed. Exiting.\n",
      "ERROR [phoenix.session.session] 💥 Phoenix failed to start. Please try again (making sure that port 6006 is not occupied by another process) or file an issue with us at https://github.com/Arize-ai/phoenix\n"
     ]
    }
   ],
   "source": [
    "# setup Arize Phoenix for logging/observability\n",
    "import phoenix as px\n",
    "import llama_index.core\n",
    "px.launch_app()\n",
    "llama_index.core.set_global_handler(\"arize_phoenix\")"
   ]
  },
  {
   "cell_type": "code",
   "execution_count": 4,
   "metadata": {},
   "outputs": [],
   "source": [
    "import os\n",
    "import json \n",
    "import openai\n",
    "\n",
    "with open('openai.secret.json', 'r') as file:\n",
    "    secret = json.load(file)\n",
    "    os.environ[\"OPENAI_API_KEY\"] = secret['secret']\n",
    "    openai.api_key = os.environ[\"OPENAI_API_KEY\"]"
   ]
  },
  {
   "cell_type": "code",
   "execution_count": 5,
   "metadata": {},
   "outputs": [
    {
     "name": "stderr",
     "output_type": "stream",
     "text": [
      "/Users/haiyangliu/Workspace/gov_opportunity_new/gov_env/lib/python3.10/site-packages/huggingface_hub/file_download.py:1132: FutureWarning: `resume_download` is deprecated and will be removed in version 1.0.0. Downloads always resume when possible. If you want to force a new download, use `force_download=True`.\n",
      "  warnings.warn(\n"
     ]
    }
   ],
   "source": [
    "import weaviate\n",
    "from llama_index.vector_stores.weaviate import WeaviateVectorStore\n",
    "from llama_index.embeddings.huggingface import HuggingFaceEmbedding\n",
    "from llama_index.core import Settings\n",
    "\n",
    "\n",
    "client = weaviate.connect_to_local(\n",
    "    headers={\"X-OpenAI-Api-key\": os.getenv(\"OPENAI_API_KEY\")}\n",
    ")\n",
    "\n",
    "Settings.embed_model = HuggingFaceEmbedding(\n",
    "    model_name=\"BAAI/bge-small-en-v1.5\"\n",
    ")"
   ]
  },
  {
   "cell_type": "code",
   "execution_count": 7,
   "metadata": {},
   "outputs": [],
   "source": [
    "from llama_index.vector_stores.weaviate import WeaviateVectorStore\n",
    "from llama_index.core import VectorStoreIndex, StorageContext\n",
    "\n",
    "vector_store = WeaviateVectorStore(\n",
    "    weaviate_client=client, index_name='Gov_projects'\n",
    ")\n",
    "storage_context = StorageContext.from_defaults(vector_store=vector_store)\n"
   ]
  },
  {
   "cell_type": "code",
   "execution_count": 8,
   "metadata": {},
   "outputs": [],
   "source": [
    "import nest_asyncio\n",
    "nest_asyncio.apply()"
   ]
  },
  {
   "cell_type": "code",
   "execution_count": 12,
   "metadata": {},
   "outputs": [
    {
     "name": "stdout",
     "output_type": "stream",
     "text": [
      "{'file_path': '/Users/haiyangliu/Workspace/gov_opportunity_new/content/opportunities/projects/project_41c2be0ed45342a687cad02d4d20b1cd.json', 'file_name': 'project_41c2be0ed45342a687cad02d4d20b1cd.json', 'file_type': 'application/json', 'file_size': 6146, 'creation_date': '2024-06-27', 'last_modified_date': '2024-06-27', 'project_id': '41c2be0ed45342a687cad02d4d20b1cd', 'department': 'Department of Defense', 'naics_code': '236220', 'psc_code': 'Y1JZ', 'sub_department': 'Dept of the Navy', 'set_aside': '', 'set_aside_code': '', 'type': 'Solicitation', 'place_of_performance_country': '', 'place_of_performance_city': '', 'place_of_performance_state': '', 'due_date_year': 2024, 'due_date_month': 7, 'due_date_day': 9, 'posted_date_year': 2024, 'posted_date_month': 6, 'posted_date_day': 18}\n",
      "{'file_path': '/Users/haiyangliu/Workspace/gov_opportunity_new/content/opportunities/projects/project_814bba4ad7054ecf8e06dd9185c6a7ce.json', 'file_name': 'project_814bba4ad7054ecf8e06dd9185c6a7ce.json', 'file_type': 'application/json', 'file_size': 1939, 'creation_date': '2024-06-27', 'last_modified_date': '2024-06-27', 'project_id': '814bba4ad7054ecf8e06dd9185c6a7ce', 'department': 'Department of Defense', 'naics_code': '236220', 'psc_code': 'Z2AZ', 'sub_department': 'Dept of the Army', 'set_aside': 'Total Small Business Set-Aside (FAR 19.5)', 'set_aside_code': 'SBA', 'type': 'Solicitation', 'place_of_performance_country': '', 'place_of_performance_city': '', 'place_of_performance_state': '', 'due_date_year': 2024, 'due_date_month': 6, 'due_date_day': 24, 'posted_date_year': 2024, 'posted_date_month': 6, 'posted_date_day': 18}\n",
      "{'file_path': '/Users/haiyangliu/Workspace/gov_opportunity_new/content/opportunities/projects/project_a3e9fea3b1184f2288e0c7953588c19c.json', 'file_name': 'project_a3e9fea3b1184f2288e0c7953588c19c.json', 'file_type': 'application/json', 'file_size': 883, 'creation_date': '2024-06-27', 'last_modified_date': '2024-06-27', 'project_id': 'a3e9fea3b1184f2288e0c7953588c19c', 'department': 'Department of Defense', 'naics_code': '541330', 'psc_code': 'C211', 'sub_department': 'Dept of the Navy', 'set_aside': '', 'set_aside_code': '', 'type': 'Justification', 'place_of_performance_country': '', 'place_of_performance_city': '', 'place_of_performance_state': '', 'posted_date_year': 2024, 'posted_date_month': 6, 'posted_date_day': 18}\n"
     ]
    }
   ],
   "source": [
    "from llama_index.core import SimpleDirectoryReader\n",
    "import json\n",
    "from dateutil import parser\n",
    "from llama_index.core.async_utils import run_jobs\n",
    "from llama_index.core import SummaryIndex, Document\n",
    "from llama_index.llms.openai import OpenAI\n",
    "from llama_index.core.extractors import BaseExtractor\n",
    "from llama_index.core.node_parser import JSONNodeParser\n",
    "\n",
    "\n",
    "\n",
    "documents = SimpleDirectoryReader('/Users/haiyangliu/Workspace/gov_opportunity_new/content/opportunities/projects').load_data()\n",
    "def augment_with_metadata(document: Document):\n",
    "    doc_object = json.loads(document.get_text())\n",
    "    new_metadata = {\n",
    "    \"project_id\": doc_object['ProjectID'],\n",
    "    'department': doc_object['Department/Ind.Agency'],\n",
    "    'naics_code': doc_object['NaicsCode'],\n",
    "    'psc_code': doc_object['ProductServiceCode'],\n",
    "    'sub_department': doc_object['Sub-Tier'],\n",
    "    'set_aside': doc_object['SetASide'],\n",
    "    'set_aside_code': doc_object['SetASideCode'],\n",
    "    'type': doc_object['Type'],\n",
    "    'place_of_performance_country': doc_object['PlaceOfPerformanceCountry'],\n",
    "    'place_of_performance_city': doc_object['PlaceOfPerformanceCity'],\n",
    "    'place_of_performance_state': doc_object['PlaceOfPerformanceState'],\n",
    "    }\n",
    "    if (doc_object['ResponseDueDate']):\n",
    "        due_date = parser.parse(doc_object['ResponseDueDate'])\n",
    "        new_metadata[\"due_date_year\"] = due_date.year\n",
    "        new_metadata[\"due_date_month\"] = due_date.month\n",
    "        new_metadata[\"due_date_day\"] = due_date.day\n",
    "\n",
    "    if (doc_object['PostedDate']):\n",
    "        posted_date = parser.parse(doc_object['PostedDate'])\n",
    "        new_metadata[\"posted_date_year\"] = posted_date.year\n",
    "        new_metadata[\"posted_date_month\"] = posted_date.month\n",
    "        new_metadata[\"posted_date_day\"] = posted_date.day\n",
    "    document.metadata.update(new_metadata)\n",
    "    document.excluded_llm_metadata_keys = ['file_path', 'file_type', 'file_size', 'creation_date', 'last_modified_date']\n",
    "    document.excluded_embed_metadata_keys = ['file_path', 'file_type', 'file_size', 'creation_date', 'last_modified_date']\n",
    "    document.metadata_seperator=\"::\",\n",
    "    document.metadata_template=\"{key}=>{value}\",\n",
    "    document.text_template=\"Metadata: {metadata_str}\\n-----\\nContent: {content}\",\n",
    "\n",
    "for doc in documents:\n",
    "    augment_with_metadata(doc)\n",
    "    # print(doc.metadata)"
   ]
  },
  {
   "cell_type": "code",
   "execution_count": 32,
   "metadata": {},
   "outputs": [
    {
     "name": "stderr",
     "output_type": "stream",
     "text": [
      "/Users/haiyangliu/Workspace/gov_opportunity_new/gov_env/lib/python3.10/site-packages/huggingface_hub/file_download.py:1132: FutureWarning: `resume_download` is deprecated and will be removed in version 1.0.0. Downloads always resume when possible. If you want to force a new download, use `force_download=True`.\n",
      "  warnings.warn(\n"
     ]
    }
   ],
   "source": [
    "from llama_index.core.node_parser import JSONNodeParser\n",
    "from llama_index.core.ingestion import IngestionPipeline\n",
    "from llama_index.core.extractors import SummaryExtractor, TitleExtractor\n",
    "from llama_index.core.node_parser import TokenTextSplitter\n",
    "\n",
    "json_parser = JSONNodeParser()\n",
    "\n",
    "transformations=[\n",
    "    JSONNodeParser(),\n",
    "    # TitleExtractor(),\n",
    "    SummaryExtractor(summaries=[\"prev\", \"self\"], llm=OpenAI(model=\"gpt-3.5-turbo\")),\n",
    "    TokenTextSplitter(),\n",
    "    HuggingFaceEmbedding(model_name=\"BAAI/bge-small-en-v1.5\"),\n",
    "]\n",
    "\n",
    "pipeline = IngestionPipeline(\n",
    "    transformations=transformations,\n",
    ")\n",
    "nodes = pipeline.run(documents=documents)\n",
    "\n",
    "for node in nodes:\n",
    "    print('*********')\n",
    "    print(node.ref_doc_id)\n",
    "    print(node.metadata)\n",
    "    print(node.get_content())"
   ]
  },
  {
   "cell_type": "markdown",
   "metadata": {},
   "source": [
    "hybrid keyword search with vector search"
   ]
  },
  {
   "cell_type": "code",
   "execution_count": 33,
   "metadata": {},
   "outputs": [
    {
     "name": "stderr",
     "output_type": "stream",
     "text": [
      "100%|██████████| 3/3 [00:03<00:00,  1.20s/it]\n"
     ]
    }
   ],
   "source": [
    "from llama_index.core import VectorStoreIndex\n",
    "\n",
    "basic_index = VectorStoreIndex.from_documents(\n",
    "    documents, storage_context=storage_context, transformations=transformations\n",
    ")"
   ]
  },
  {
   "cell_type": "code",
   "execution_count": 19,
   "metadata": {},
   "outputs": [
    {
     "name": "stderr",
     "output_type": "stream",
     "text": [
      "huggingface/tokenizers: The current process just got forked, after parallelism has already been used. Disabling parallelism to avoid deadlocks...\n",
      "To disable this warning, you can either:\n",
      "\t- Avoid using `tokenizers` before the fork if possible\n",
      "\t- Explicitly set the environment variable TOKENIZERS_PARALLELISM=(true | false)\n",
      "huggingface/tokenizers: The current process just got forked, after parallelism has already been used. Disabling parallelism to avoid deadlocks...\n",
      "To disable this warning, you can either:\n",
      "\t- Avoid using `tokenizers` before the fork if possible\n",
      "\t- Explicitly set the environment variable TOKENIZERS_PARALLELISM=(true | false)\n",
      "huggingface/tokenizers: The current process just got forked, after parallelism has already been used. Disabling parallelism to avoid deadlocks...\n",
      "To disable this warning, you can either:\n",
      "\t- Avoid using `tokenizers` before the fork if possible\n",
      "\t- Explicitly set the environment variable TOKENIZERS_PARALLELISM=(true | false)\n",
      "WARNI [matplotlib.font_manager] Matplotlib is building the font cache; this may take a moment.\n",
      "huggingface/tokenizers: The current process just got forked, after parallelism has already been used. Disabling parallelism to avoid deadlocks...\n",
      "To disable this warning, you can either:\n",
      "\t- Avoid using `tokenizers` before the fork if possible\n",
      "\t- Explicitly set the environment variable TOKENIZERS_PARALLELISM=(true | false)\n"
     ]
    },
    {
     "data": {
      "text/markdown": [
       "**`Final Response:`** REPLACE PLUMBING AND FIRE PROTECTION SYSTEMS (B150), TIN CITY, ALASKA (TIN006)"
      ],
      "text/plain": [
       "<IPython.core.display.Markdown object>"
      ]
     },
     "metadata": {},
     "output_type": "display_data"
    }
   ],
   "source": [
    "from llama_index.core.response.notebook_utils import display_response\n",
    "\n",
    "\n",
    "query_engine = basic_index.as_query_engine(similarity_top_k=2)\n",
    "response = query_engine.query(\"what are the plumbing related projects\")\n",
    "\n",
    "display_response(response)\n"
   ]
  },
  {
   "cell_type": "code",
   "execution_count": 34,
   "metadata": {},
   "outputs": [
    {
     "data": {
      "text/markdown": [
       "**`Final Response:`** 41c2be0ed45342a687cad02d4d20b1cd, 814bba4ad7054ecf8e06dd9185c6a7ce"
      ],
      "text/plain": [
       "<IPython.core.display.Markdown object>"
      ]
     },
     "metadata": {},
     "output_type": "display_data"
    }
   ],
   "source": [
    "\n",
    "# Favor vector search\n",
    "query_engine = basic_index.as_query_engine(\n",
    "    vector_store_query_mode=\"hybrid\", similarity_top_k=2\n",
    ")\n",
    "response = query_engine.query(\n",
    "    \"what are the ids of the projects posted from department of defence\",\n",
    ")\n",
    "display_response(response)"
   ]
  },
  {
   "cell_type": "code",
   "execution_count": 35,
   "metadata": {},
   "outputs": [
    {
     "data": {
      "text/markdown": [
       "**`Final Response:`** 41c2be0ed45342a687cad02d4d20b1cd, 814bba4ad7054ecf8e06dd9185c6a7ce"
      ],
      "text/plain": [
       "<IPython.core.display.Markdown object>"
      ]
     },
     "metadata": {},
     "output_type": "display_data"
    }
   ],
   "source": [
    "\n",
    "# Favor BM25 (key word search)\n",
    "query_engine = basic_index.as_query_engine(\n",
    "    vector_store_query_mode=\"hybrid\", similarity_top_k=2, alpha=0.0\n",
    ")\n",
    "response = query_engine.query(\n",
    "    \"what are the ids of the projects posted from department of defence\",\n",
    ")\n",
    "display_response(response)"
   ]
  },
  {
   "cell_type": "code",
   "execution_count": 37,
   "metadata": {},
   "outputs": [
    {
     "data": {
      "text/markdown": [
       "**`Final Response:`** The project 41c2be0ed45342a687cad02d4d20b1cd involves a two-phase design-build multiple award construction contract primarily for U.S. military construction projects in Guam and other areas under the cognizance of NAVFAC Pacific. It is a Department of Defense project with a focus on constructing various military facilities such as barracks, administrative buildings, and communication facilities. The procurement process includes evaluation factors like technical approach, experience, performance confidence assessment, safety, and small business utilization."
      ],
      "text/plain": [
       "<IPython.core.display.Markdown object>"
      ]
     },
     "metadata": {},
     "output_type": "display_data"
    }
   ],
   "source": [
    "\n",
    "# Favor BM25 (key word search)\n",
    "query_engine = basic_index.as_query_engine(\n",
    "    vector_store_query_mode=\"hybrid\", similarity_top_k=2, alpha=0.0\n",
    ")\n",
    "response = query_engine.query(\n",
    "    \"give me the summary of the project 41c2be0ed45342a687cad02d4d20b1cd, max 3 sentense\",\n",
    ")\n",
    "display_response(response)"
   ]
  },
  {
   "cell_type": "code",
   "execution_count": 38,
   "metadata": {},
   "outputs": [
    {
     "data": {
      "text/markdown": [
       "**`Final Response:`** The project 41c2be0ed45342a687cad02d4d20b1cd involves a two-phase design-build multiple award construction contract primarily for U.S. military construction projects in Guam and other areas under the cognizance of NAVFAC Pacific. It is a Department of Defense project with a focus on constructing various military facilities such as barracks, administrative buildings, and communication facilities. The procurement process includes evaluation factors like technical approach, experience, safety, and small business utilization for a contract anticipated to be 96 months with task orders ranging from $25,000,000 to $1,000,000,000."
      ],
      "text/plain": [
       "<IPython.core.display.Markdown object>"
      ]
     },
     "metadata": {},
     "output_type": "display_data"
    }
   ],
   "source": [
    "\n",
    "# Favor BM25 (key word search)\n",
    "query_engine = basic_index.as_query_engine(\n",
    "    vector_store_query_mode=\"hybrid\", similarity_top_k=2, alpha=0.6\n",
    ")\n",
    "response = query_engine.query(\n",
    "    \"give me the summary of the project 41c2be0ed45342a687cad02d4d20b1cd, max 3 sentense\",\n",
    ")\n",
    "display_response(response)"
   ]
  },
  {
   "cell_type": "code",
   "execution_count": 40,
   "metadata": {},
   "outputs": [
    {
     "data": {
      "text/markdown": [
       "**`Final Response:`** There are no plumbing projects with an offer due date in May 2024 based on the provided context information."
      ],
      "text/plain": [
       "<IPython.core.display.Markdown object>"
      ]
     },
     "metadata": {},
     "output_type": "display_data"
    }
   ],
   "source": [
    "query_engine = basic_index.as_query_engine(\n",
    "    vector_store_query_mode=\"hybrid\", similarity_top_k=2, alpha=0.6\n",
    ")\n",
    "response = query_engine.query(\n",
    "    \"Can you list plumbing projects with an offer due date in May 2024\",\n",
    ")\n",
    "display_response(response)"
   ]
  },
  {
   "cell_type": "code",
   "execution_count": 41,
   "metadata": {},
   "outputs": [
    {
     "data": {
      "text/markdown": [
       "**`Final Response:`** The size of project 41c2be0ed45342a687cad02d4d20b1cd is anticipated to be $15 billion for all contracts combined, with task orders ranging from $25,000,000 to $1,000,000,000."
      ],
      "text/plain": [
       "<IPython.core.display.Markdown object>"
      ]
     },
     "metadata": {},
     "output_type": "display_data"
    }
   ],
   "source": [
    "query_engine = basic_index.as_query_engine(\n",
    "    vector_store_query_mode=\"hybrid\", similarity_top_k=2, alpha=0.6\n",
    ")\n",
    "response = query_engine.query(\n",
    "    \"What is the size of the project 41c2be0ed45342a687cad02d4d20b1cd\",\n",
    ")\n",
    "display_response(response)"
   ]
  },
  {
   "cell_type": "code",
   "execution_count": 44,
   "metadata": {},
   "outputs": [
    {
     "data": {
      "text/markdown": [
       "**`Final Response:`** The projects that do not have a set-aside are as follows:\n",
       "1. Project titled \"J&A FOR INDEFINITE DELIVERY INDEFINITE QUANTITY ARCHITECT-ENGINEER SERVICES FOR DESIGN, ENGINEERING, SPECIFICATION WRITING, COST ESTIMATING, AND RELATED SERVICES AT VARIOUS LOCATIONS UNDER THE COGNIZANCE OF NAVAL FACILITIES ENGINEERING COMMAND, PACIFIC\" under the Department of Defense.\n",
       "2. Project titled \"REPLACE PLUMBING AND FIRE PROTECTION SYSTEMS (B150), TIN CITY, ALASKA (TIN006)\" under the Department of Defense."
      ],
      "text/plain": [
       "<IPython.core.display.Markdown object>"
      ]
     },
     "metadata": {},
     "output_type": "display_data"
    }
   ],
   "source": [
    "# Favor BM25 (key word search)\n",
    "query_engine = basic_index.as_query_engine(\n",
    "    vector_store_query_mode=\"hybrid\", similarity_top_k=2, alpha=0.6\n",
    ")\n",
    "response = query_engine.query(\n",
    "    \"what are all the projects that do not have a set-aside\",\n",
    ")\n",
    "display_response(response)"
   ]
  },
  {
   "cell_type": "code",
   "execution_count": 45,
   "metadata": {},
   "outputs": [
    {
     "data": {
      "text/markdown": [
       "**`Final Response:`** The project with ID 41c2be0ed45342a687cad02d4d20b1cd involves a design-build multiple award construction contract primarily for U.S. military construction projects in Guam and other areas under the cognizance of NAVFAC Pacific. The Department of Defense is responsible for this project, which includes construction services for various military facilities such as barracks, administrative buildings, communication facilities, and more. The procurement process is a two-phase design-build, best value, trade-off procurement with evaluation factors including technical approach, experience, performance confidence assessment, safety, and small business utilization. The contract is anticipated to be 96 months with a base period of 60 months and three 12-month option periods, with task orders ranging from $25,000,000 to $1,000,000,000."
      ],
      "text/plain": [
       "<IPython.core.display.Markdown object>"
      ]
     },
     "metadata": {},
     "output_type": "display_data"
    }
   ],
   "source": [
    "# Favor BM25 (key word search)\n",
    "query_engine = basic_index.as_query_engine(\n",
    "    vector_store_query_mode=\"hybrid\", similarity_top_k=2, alpha=0.6\n",
    ")\n",
    "response = query_engine.query(\n",
    "    \"I am interested in learning more about 41c2be0ed45342a687cad02d4d20b1cd. Can you provide a summary of the project’s scope of work?\",\n",
    ")\n",
    "display_response(response)"
   ]
  },
  {
   "cell_type": "markdown",
   "metadata": {},
   "source": [
    "union result with SQL index"
   ]
  }
 ],
 "metadata": {
  "kernelspec": {
   "display_name": "gov_env",
   "language": "python",
   "name": "python3"
  },
  "language_info": {
   "codemirror_mode": {
    "name": "ipython",
    "version": 3
   },
   "file_extension": ".py",
   "mimetype": "text/x-python",
   "name": "python",
   "nbconvert_exporter": "python",
   "pygments_lexer": "ipython3",
   "version": "3.10.14"
  }
 },
 "nbformat": 4,
 "nbformat_minor": 2
}
